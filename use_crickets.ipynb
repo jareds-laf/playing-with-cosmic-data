{
 "cells": [
  {
   "cell_type": "code",
   "execution_count": 5,
   "metadata": {},
   "outputs": [
    {
     "name": "stdout",
     "output_type": "stream",
     "text": [
      "/lustre/aoc/students/jsofair/playing-with-cosmic-data\n"
     ]
    }
   ],
   "source": [
    "import numpy as np\n",
    "from blimpy import Waterfall\n",
    "from blimpy import calcload\n",
    "import crickets.analysis as cra\n",
    "import os\n",
    "print(os.getcwd())\n",
    "\n"
   ]
  },
  {
   "cell_type": "code",
   "execution_count": 6,
   "metadata": {},
   "outputs": [
    {
     "ename": "ModuleNotFoundError",
     "evalue": "No module named 'analysis'",
     "output_type": "error",
     "traceback": [
      "\u001b[0;31m---------------------------------------------------------------------------\u001b[0m",
      "\u001b[0;31mModuleNotFoundError\u001b[0m                       Traceback (most recent call last)",
      "Cell \u001b[0;32mIn[6], line 1\u001b[0m\n\u001b[0;32m----> 1\u001b[0m \u001b[39mimport\u001b[39;00m \u001b[39mcrickets\u001b[39;00m\u001b[39m.\u001b[39;00m\u001b[39mplotting\u001b[39;00m\n\u001b[1;32m      2\u001b[0m \u001b[39mimport\u001b[39;00m \u001b[39mglob\u001b[39;00m\n\u001b[1;32m      3\u001b[0m \u001b[39m# from crickets.analysis import write_output_table\u001b[39;00m\n\u001b[1;32m      4\u001b[0m \u001b[39m# from crickets.plotting import plot_exkurt, plot_tavg_power\u001b[39;00m\n",
      "File \u001b[0;32m/lustre/aoc/students/jsofair/jnrao/lib/python3.8/site-packages/crickets/plotting.py:5\u001b[0m\n\u001b[1;32m      3\u001b[0m \u001b[39mimport\u001b[39;00m \u001b[39mos\u001b[39;00m\n\u001b[1;32m      4\u001b[0m \u001b[39mimport\u001b[39;00m \u001b[39mnumpy\u001b[39;00m\u001b[39m.\u001b[39;00m\u001b[39mma\u001b[39;00m \u001b[39mas\u001b[39;00m \u001b[39mma\u001b[39;00m\n\u001b[0;32m----> 5\u001b[0m \u001b[39mfrom\u001b[39;00m \u001b[39manalysis\u001b[39;00m \u001b[39mimport\u001b[39;00m get_exkurt, normalize_path\n\u001b[1;32m      7\u001b[0m \u001b[39m# TODO: Make it so that these functions access the table that\u001b[39;00m\n\u001b[1;32m      8\u001b[0m \u001b[39m# was created by the write_output_table() function!\u001b[39;00m\n\u001b[1;32m      9\u001b[0m \u001b[39m'''^^ This is definitely a stretch goal. It's more of an optimization thing.\u001b[39;00m\n\u001b[1;32m     10\u001b[0m \u001b[39mIt would take some more structural changes I don't have time to deal with this summer!'''\u001b[39;00m\n",
      "\u001b[0;31mModuleNotFoundError\u001b[0m: No module named 'analysis'"
     ]
    }
   ],
   "source": [
    "\n",
    "import crickets.plotting\n",
    "import glob\n",
    "# from crickets.analysis import write_output_table\n",
    "# from crickets.plotting import plot_exkurt, plot_tavg_power\n"
   ]
  },
  {
   "cell_type": "code",
   "execution_count": 3,
   "metadata": {},
   "outputs": [
    {
     "data": {
      "text/plain": [
       "'/lustre/aoc/students/jsofair/jnrao/lib/python3.8/site-packages/crickets/analysis.py'"
      ]
     },
     "execution_count": 3,
     "metadata": {},
     "output_type": "execute_result"
    }
   ],
   "source": [
    "cra.__file__"
   ]
  },
  {
   "cell_type": "code",
   "execution_count": 8,
   "metadata": {},
   "outputs": [
    {
     "name": "stdout",
     "output_type": "stream",
     "text": [
      "/lustre/aoc/students/jsofair/filterbank\n"
     ]
    }
   ],
   "source": [
    "file_path = cra.normalize_path('/lustre/aoc/students/jsofair/filterbank/')\n",
    "print(file_path)\n",
    "# file_list = glob.glob(os.path.join(file_path, '*.fil'))"
   ]
  },
  {
   "cell_type": "code",
   "execution_count": null,
   "metadata": {},
   "outputs": [],
   "source": [
    "\n",
    "ml = calcload.calc_max_load('')"
   ]
  },
  {
   "cell_type": "code",
   "execution_count": null,
   "metadata": {},
   "outputs": [],
   "source": [
    "\n",
    "crickets.plotting.plot_exkurt(wf_in=wf, n_divs=256, threshold=50)"
   ]
  }
 ],
 "metadata": {
  "kernelspec": {
   "display_name": "jnrao",
   "language": "python",
   "name": "python3"
  },
  "language_info": {
   "codemirror_mode": {
    "name": "ipython",
    "version": 3
   },
   "file_extension": ".py",
   "mimetype": "text/x-python",
   "name": "python",
   "nbconvert_exporter": "python",
   "pygments_lexer": "ipython3",
   "version": "3.8.2"
  },
  "orig_nbformat": 4
 },
 "nbformat": 4,
 "nbformat_minor": 2
}
