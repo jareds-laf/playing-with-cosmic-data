{
 "cells": [
  {
   "cell_type": "code",
   "execution_count": 1,
   "id": "179a15de",
   "metadata": {},
   "outputs": [
    {
     "ename": "KeyboardInterrupt",
     "evalue": "",
     "output_type": "error",
     "traceback": [
      "\u001b[0;31m---------------------------------------------------------------------------\u001b[0m",
      "\u001b[0;31mKeyboardInterrupt\u001b[0m                         Traceback (most recent call last)",
      "Cell \u001b[0;32mIn[1], line 1\u001b[0m\n\u001b[0;32m----> 1\u001b[0m \u001b[38;5;28;01mimport\u001b[39;00m \u001b[38;5;21;01mpandas\u001b[39;00m \u001b[38;5;28;01mas\u001b[39;00m \u001b[38;5;21;01mpd\u001b[39;00m\n\u001b[1;32m      2\u001b[0m \u001b[38;5;28;01mimport\u001b[39;00m \u001b[38;5;21;01mos\u001b[39;00m\n\u001b[1;32m      3\u001b[0m get_ipython()\u001b[38;5;241m.\u001b[39mrun_line_magic(\u001b[38;5;124m'\u001b[39m\u001b[38;5;124mmatplotlib\u001b[39m\u001b[38;5;124m'\u001b[39m, \u001b[38;5;124m'\u001b[39m\u001b[38;5;124minline\u001b[39m\u001b[38;5;124m'\u001b[39m)\n",
      "File \u001b[0;32m/lustre/aoc/students/jsofair/jnrao/lib/python3.8/site-packages/pandas/__init__.py:48\u001b[0m\n\u001b[1;32m     45\u001b[0m \u001b[38;5;66;03m# let init-time option registration happen\u001b[39;00m\n\u001b[1;32m     46\u001b[0m \u001b[38;5;28;01mimport\u001b[39;00m \u001b[38;5;21;01mpandas\u001b[39;00m\u001b[38;5;21;01m.\u001b[39;00m\u001b[38;5;21;01mcore\u001b[39;00m\u001b[38;5;21;01m.\u001b[39;00m\u001b[38;5;21;01mconfig_init\u001b[39;00m  \u001b[38;5;66;03m# pyright: ignore # noqa:F401\u001b[39;00m\n\u001b[0;32m---> 48\u001b[0m \u001b[38;5;28;01mfrom\u001b[39;00m \u001b[38;5;21;01mpandas\u001b[39;00m\u001b[38;5;21;01m.\u001b[39;00m\u001b[38;5;21;01mcore\u001b[39;00m\u001b[38;5;21;01m.\u001b[39;00m\u001b[38;5;21;01mapi\u001b[39;00m \u001b[38;5;28;01mimport\u001b[39;00m (\n\u001b[1;32m     49\u001b[0m     \u001b[38;5;66;03m# dtype\u001b[39;00m\n\u001b[1;32m     50\u001b[0m     ArrowDtype,\n\u001b[1;32m     51\u001b[0m     Int8Dtype,\n\u001b[1;32m     52\u001b[0m     Int16Dtype,\n\u001b[1;32m     53\u001b[0m     Int32Dtype,\n\u001b[1;32m     54\u001b[0m     Int64Dtype,\n\u001b[1;32m     55\u001b[0m     UInt8Dtype,\n\u001b[1;32m     56\u001b[0m     UInt16Dtype,\n\u001b[1;32m     57\u001b[0m     UInt32Dtype,\n\u001b[1;32m     58\u001b[0m     UInt64Dtype,\n\u001b[1;32m     59\u001b[0m     Float32Dtype,\n\u001b[1;32m     60\u001b[0m     Float64Dtype,\n\u001b[1;32m     61\u001b[0m     CategoricalDtype,\n\u001b[1;32m     62\u001b[0m     PeriodDtype,\n\u001b[1;32m     63\u001b[0m     IntervalDtype,\n\u001b[1;32m     64\u001b[0m     DatetimeTZDtype,\n\u001b[1;32m     65\u001b[0m     StringDtype,\n\u001b[1;32m     66\u001b[0m     BooleanDtype,\n\u001b[1;32m     67\u001b[0m     \u001b[38;5;66;03m# missing\u001b[39;00m\n\u001b[1;32m     68\u001b[0m     NA,\n\u001b[1;32m     69\u001b[0m     isna,\n\u001b[1;32m     70\u001b[0m     isnull,\n\u001b[1;32m     71\u001b[0m     notna,\n\u001b[1;32m     72\u001b[0m     notnull,\n\u001b[1;32m     73\u001b[0m     \u001b[38;5;66;03m# indexes\u001b[39;00m\n\u001b[1;32m     74\u001b[0m     Index,\n\u001b[1;32m     75\u001b[0m     CategoricalIndex,\n\u001b[1;32m     76\u001b[0m     RangeIndex,\n\u001b[1;32m     77\u001b[0m     MultiIndex,\n\u001b[1;32m     78\u001b[0m     IntervalIndex,\n\u001b[1;32m     79\u001b[0m     TimedeltaIndex,\n\u001b[1;32m     80\u001b[0m     DatetimeIndex,\n\u001b[1;32m     81\u001b[0m     PeriodIndex,\n\u001b[1;32m     82\u001b[0m     IndexSlice,\n\u001b[1;32m     83\u001b[0m     \u001b[38;5;66;03m# tseries\u001b[39;00m\n\u001b[1;32m     84\u001b[0m     NaT,\n\u001b[1;32m     85\u001b[0m     Period,\n\u001b[1;32m     86\u001b[0m     period_range,\n\u001b[1;32m     87\u001b[0m     Timedelta,\n\u001b[1;32m     88\u001b[0m     timedelta_range,\n\u001b[1;32m     89\u001b[0m     Timestamp,\n\u001b[1;32m     90\u001b[0m     date_range,\n\u001b[1;32m     91\u001b[0m     bdate_range,\n\u001b[1;32m     92\u001b[0m     Interval,\n\u001b[1;32m     93\u001b[0m     interval_range,\n\u001b[1;32m     94\u001b[0m     DateOffset,\n\u001b[1;32m     95\u001b[0m     \u001b[38;5;66;03m# conversion\u001b[39;00m\n\u001b[1;32m     96\u001b[0m     to_numeric,\n\u001b[1;32m     97\u001b[0m     to_datetime,\n\u001b[1;32m     98\u001b[0m     to_timedelta,\n\u001b[1;32m     99\u001b[0m     \u001b[38;5;66;03m# misc\u001b[39;00m\n\u001b[1;32m    100\u001b[0m     Flags,\n\u001b[1;32m    101\u001b[0m     Grouper,\n\u001b[1;32m    102\u001b[0m     factorize,\n\u001b[1;32m    103\u001b[0m     unique,\n\u001b[1;32m    104\u001b[0m     value_counts,\n\u001b[1;32m    105\u001b[0m     NamedAgg,\n\u001b[1;32m    106\u001b[0m     array,\n\u001b[1;32m    107\u001b[0m     Categorical,\n\u001b[1;32m    108\u001b[0m     set_eng_float_format,\n\u001b[1;32m    109\u001b[0m     Series,\n\u001b[1;32m    110\u001b[0m     DataFrame,\n\u001b[1;32m    111\u001b[0m )\n\u001b[1;32m    113\u001b[0m \u001b[38;5;28;01mfrom\u001b[39;00m \u001b[38;5;21;01mpandas\u001b[39;00m\u001b[38;5;21;01m.\u001b[39;00m\u001b[38;5;21;01mcore\u001b[39;00m\u001b[38;5;21;01m.\u001b[39;00m\u001b[38;5;21;01marrays\u001b[39;00m\u001b[38;5;21;01m.\u001b[39;00m\u001b[38;5;21;01msparse\u001b[39;00m \u001b[38;5;28;01mimport\u001b[39;00m SparseDtype\n\u001b[1;32m    115\u001b[0m \u001b[38;5;28;01mfrom\u001b[39;00m \u001b[38;5;21;01mpandas\u001b[39;00m\u001b[38;5;21;01m.\u001b[39;00m\u001b[38;5;21;01mtseries\u001b[39;00m\u001b[38;5;21;01m.\u001b[39;00m\u001b[38;5;21;01mapi\u001b[39;00m \u001b[38;5;28;01mimport\u001b[39;00m infer_freq\n",
      "File \u001b[0;32m/lustre/aoc/students/jsofair/jnrao/lib/python3.8/site-packages/pandas/core/api.py:22\u001b[0m\n\u001b[1;32m      9\u001b[0m \u001b[38;5;28;01mfrom\u001b[39;00m \u001b[38;5;21;01mpandas\u001b[39;00m\u001b[38;5;21;01m.\u001b[39;00m\u001b[38;5;21;01mcore\u001b[39;00m\u001b[38;5;21;01m.\u001b[39;00m\u001b[38;5;21;01mdtypes\u001b[39;00m\u001b[38;5;21;01m.\u001b[39;00m\u001b[38;5;21;01mdtypes\u001b[39;00m \u001b[38;5;28;01mimport\u001b[39;00m (\n\u001b[1;32m     10\u001b[0m     CategoricalDtype,\n\u001b[1;32m     11\u001b[0m     DatetimeTZDtype,\n\u001b[1;32m     12\u001b[0m     IntervalDtype,\n\u001b[1;32m     13\u001b[0m     PeriodDtype,\n\u001b[1;32m     14\u001b[0m )\n\u001b[1;32m     15\u001b[0m \u001b[38;5;28;01mfrom\u001b[39;00m \u001b[38;5;21;01mpandas\u001b[39;00m\u001b[38;5;21;01m.\u001b[39;00m\u001b[38;5;21;01mcore\u001b[39;00m\u001b[38;5;21;01m.\u001b[39;00m\u001b[38;5;21;01mdtypes\u001b[39;00m\u001b[38;5;21;01m.\u001b[39;00m\u001b[38;5;21;01mmissing\u001b[39;00m \u001b[38;5;28;01mimport\u001b[39;00m (\n\u001b[1;32m     16\u001b[0m     isna,\n\u001b[1;32m     17\u001b[0m     isnull,\n\u001b[1;32m     18\u001b[0m     notna,\n\u001b[1;32m     19\u001b[0m     notnull,\n\u001b[1;32m     20\u001b[0m )\n\u001b[0;32m---> 22\u001b[0m \u001b[38;5;28;01mfrom\u001b[39;00m \u001b[38;5;21;01mpandas\u001b[39;00m\u001b[38;5;21;01m.\u001b[39;00m\u001b[38;5;21;01mcore\u001b[39;00m\u001b[38;5;21;01m.\u001b[39;00m\u001b[38;5;21;01malgorithms\u001b[39;00m \u001b[38;5;28;01mimport\u001b[39;00m (\n\u001b[1;32m     23\u001b[0m     factorize,\n\u001b[1;32m     24\u001b[0m     unique,\n\u001b[1;32m     25\u001b[0m     value_counts,\n\u001b[1;32m     26\u001b[0m )\n\u001b[1;32m     27\u001b[0m \u001b[38;5;28;01mfrom\u001b[39;00m \u001b[38;5;21;01mpandas\u001b[39;00m\u001b[38;5;21;01m.\u001b[39;00m\u001b[38;5;21;01mcore\u001b[39;00m\u001b[38;5;21;01m.\u001b[39;00m\u001b[38;5;21;01marrays\u001b[39;00m \u001b[38;5;28;01mimport\u001b[39;00m Categorical\n\u001b[1;32m     28\u001b[0m \u001b[38;5;28;01mfrom\u001b[39;00m \u001b[38;5;21;01mpandas\u001b[39;00m\u001b[38;5;21;01m.\u001b[39;00m\u001b[38;5;21;01mcore\u001b[39;00m\u001b[38;5;21;01m.\u001b[39;00m\u001b[38;5;21;01marrays\u001b[39;00m\u001b[38;5;21;01m.\u001b[39;00m\u001b[38;5;21;01marrow\u001b[39;00m \u001b[38;5;28;01mimport\u001b[39;00m ArrowDtype\n",
      "File \u001b[0;32m/lustre/aoc/students/jsofair/jnrao/lib/python3.8/site-packages/pandas/core/algorithms.py:59\u001b[0m\n\u001b[1;32m     35\u001b[0m \u001b[38;5;28;01mfrom\u001b[39;00m \u001b[38;5;21;01mpandas\u001b[39;00m\u001b[38;5;21;01m.\u001b[39;00m\u001b[38;5;21;01mcore\u001b[39;00m\u001b[38;5;21;01m.\u001b[39;00m\u001b[38;5;21;01mdtypes\u001b[39;00m\u001b[38;5;21;01m.\u001b[39;00m\u001b[38;5;21;01mcast\u001b[39;00m \u001b[38;5;28;01mimport\u001b[39;00m (\n\u001b[1;32m     36\u001b[0m     construct_1d_object_array_from_listlike,\n\u001b[1;32m     37\u001b[0m     infer_dtype_from_array,\n\u001b[1;32m     38\u001b[0m     np_find_common_type,\n\u001b[1;32m     39\u001b[0m )\n\u001b[1;32m     40\u001b[0m \u001b[38;5;28;01mfrom\u001b[39;00m \u001b[38;5;21;01mpandas\u001b[39;00m\u001b[38;5;21;01m.\u001b[39;00m\u001b[38;5;21;01mcore\u001b[39;00m\u001b[38;5;21;01m.\u001b[39;00m\u001b[38;5;21;01mdtypes\u001b[39;00m\u001b[38;5;21;01m.\u001b[39;00m\u001b[38;5;21;01mcommon\u001b[39;00m \u001b[38;5;28;01mimport\u001b[39;00m (\n\u001b[1;32m     41\u001b[0m     ensure_float64,\n\u001b[1;32m     42\u001b[0m     ensure_object,\n\u001b[0;32m   (...)\u001b[0m\n\u001b[1;32m     57\u001b[0m     needs_i8_conversion,\n\u001b[1;32m     58\u001b[0m )\n\u001b[0;32m---> 59\u001b[0m \u001b[38;5;28;01mfrom\u001b[39;00m \u001b[38;5;21;01mpandas\u001b[39;00m\u001b[38;5;21;01m.\u001b[39;00m\u001b[38;5;21;01mcore\u001b[39;00m\u001b[38;5;21;01m.\u001b[39;00m\u001b[38;5;21;01mdtypes\u001b[39;00m\u001b[38;5;21;01m.\u001b[39;00m\u001b[38;5;21;01mconcat\u001b[39;00m \u001b[38;5;28;01mimport\u001b[39;00m concat_compat\n\u001b[1;32m     60\u001b[0m \u001b[38;5;28;01mfrom\u001b[39;00m \u001b[38;5;21;01mpandas\u001b[39;00m\u001b[38;5;21;01m.\u001b[39;00m\u001b[38;5;21;01mcore\u001b[39;00m\u001b[38;5;21;01m.\u001b[39;00m\u001b[38;5;21;01mdtypes\u001b[39;00m\u001b[38;5;21;01m.\u001b[39;00m\u001b[38;5;21;01mdtypes\u001b[39;00m \u001b[38;5;28;01mimport\u001b[39;00m (\n\u001b[1;32m     61\u001b[0m     BaseMaskedDtype,\n\u001b[1;32m     62\u001b[0m     ExtensionDtype,\n\u001b[1;32m     63\u001b[0m     PandasDtype,\n\u001b[1;32m     64\u001b[0m )\n\u001b[1;32m     65\u001b[0m \u001b[38;5;28;01mfrom\u001b[39;00m \u001b[38;5;21;01mpandas\u001b[39;00m\u001b[38;5;21;01m.\u001b[39;00m\u001b[38;5;21;01mcore\u001b[39;00m\u001b[38;5;21;01m.\u001b[39;00m\u001b[38;5;21;01mdtypes\u001b[39;00m\u001b[38;5;21;01m.\u001b[39;00m\u001b[38;5;21;01mgeneric\u001b[39;00m \u001b[38;5;28;01mimport\u001b[39;00m (\n\u001b[1;32m     66\u001b[0m     ABCDatetimeArray,\n\u001b[1;32m     67\u001b[0m     ABCExtensionArray,\n\u001b[0;32m   (...)\u001b[0m\n\u001b[1;32m     71\u001b[0m     ABCTimedeltaArray,\n\u001b[1;32m     72\u001b[0m )\n",
      "File \u001b[0;32m<frozen importlib._bootstrap>:991\u001b[0m, in \u001b[0;36m_find_and_load\u001b[0;34m(name, import_)\u001b[0m\n",
      "File \u001b[0;32m<frozen importlib._bootstrap>:975\u001b[0m, in \u001b[0;36m_find_and_load_unlocked\u001b[0;34m(name, import_)\u001b[0m\n",
      "File \u001b[0;32m<frozen importlib._bootstrap>:671\u001b[0m, in \u001b[0;36m_load_unlocked\u001b[0;34m(spec)\u001b[0m\n",
      "File \u001b[0;32m<frozen importlib._bootstrap_external>:779\u001b[0m, in \u001b[0;36mexec_module\u001b[0;34m(self, module)\u001b[0m\n",
      "File \u001b[0;32m<frozen importlib._bootstrap_external>:874\u001b[0m, in \u001b[0;36mget_code\u001b[0;34m(self, fullname)\u001b[0m\n",
      "File \u001b[0;32m<frozen importlib._bootstrap_external>:972\u001b[0m, in \u001b[0;36mget_data\u001b[0;34m(self, path)\u001b[0m\n",
      "\u001b[0;31mKeyboardInterrupt\u001b[0m: "
     ]
    }
   ],
   "source": [
    "import pandas as pd\n",
    "import os\n",
    "%matplotlib inline\n",
    "import matplotlib as mpl\n",
    "import matplotlib.pyplot as plt\n",
    "import numpy as np\n",
    "import glob\n",
    "from mpl_toolkits.axes_grid1 import make_axes_locatable\n",
    "import time\n",
    "import blimpy\n",
    "import seaborn as sns\n",
    "\n",
    "melust = os.path.normpath('/lustre/aoc/students/jsofair/')\n",
    "hits = os.path.join(melust, 'filterbank/hits/')"
   ]
  },
  {
   "cell_type": "markdown",
   "id": "f67d59e9",
   "metadata": {},
   "source": [
    "Splitting hits_collation.json into chunks."
   ]
  },
  {
   "cell_type": "code",
   "execution_count": 203,
   "id": "7d8b88f7",
   "metadata": {},
   "outputs": [
    {
     "name": "stdout",
     "output_type": "stream",
     "text": [
      "Elapsed time: 55.07888722419739\n"
     ]
    }
   ],
   "source": [
    "t0 = time.time()\n",
    "\n",
    "hits_collation = pd.read_json(os.path.join(hits,'hits_collation.json'))\n",
    "\n",
    "t1 = time.time()\n",
    "print(f'Elapsed time: {t1 - t0}')"
   ]
  },
  {
   "cell_type": "markdown",
   "id": "dd3b6d13",
   "metadata": {},
   "source": [
    "Get factors of 5697746 so it can be split into an even number of portions. This is not necessary by any means :)"
   ]
  },
  {
   "cell_type": "code",
   "execution_count": 93,
   "id": "c794d0a6",
   "metadata": {},
   "outputs": [
    {
     "name": "stdout",
     "output_type": "stream",
     "text": [
      "1 2 29 58 193 386 509 1018 5597 11194 14761 29522 98237 196474 2848873 5697746 "
     ]
    }
   ],
   "source": [
    "N = 5697746 \n",
    "for x in range (1,N+1):\n",
    "    if N%x==0:\n",
    "        print(x , end=' ')\n",
    "        \n",
    "# 98237 splits 5697746 into 58 parts"
   ]
  },
  {
   "cell_type": "markdown",
   "id": "b87d242d",
   "metadata": {},
   "source": [
    "Splitting the dataframe into 58 equal chunks."
   ]
  },
  {
   "cell_type": "code",
   "execution_count": 222,
   "id": "f1f0bb2e",
   "metadata": {},
   "outputs": [
    {
     "name": "stdout",
     "output_type": "stream",
     "text": [
      "Elapsed time: 2.603440046310425\n"
     ]
    }
   ],
   "source": [
    "t0 = time.time()\n",
    "\n",
    "#df.iloc[n] gives all of the information for the nth target (by index, not by counting number)\n",
    "#df.iloc[n,m] gives the mth piece of information for the nth target (again, n and m are by index)\n",
    "\n",
    "hits_segs = np.array_split(hits_collation, 58)\n",
    "\n",
    "# hits_segs[n] gives the nth index chunk of hits_collation\n",
    "# hits_segs[n] is a pandas dataframe\n",
    "\n",
    "t1 = time.time()\n",
    "print(f'Elapsed time: {t1 - t0}')"
   ]
  },
  {
   "cell_type": "markdown",
   "id": "eb823a7c",
   "metadata": {},
   "source": [
    "Splitting the dataframe into 58 equal chunks, all with names seg0, seg1, seg2, etc. This is merely for convenience."
   ]
  },
  {
   "cell_type": "code",
   "execution_count": 98,
   "id": "ae0c7157",
   "metadata": {},
   "outputs": [
    {
     "name": "stdout",
     "output_type": "stream",
     "text": [
      "Elapsed time: 25.197849988937378\n"
     ]
    }
   ],
   "source": [
    "t0 = time.time()\n",
    "for i, seg in enumerate(hits_collation):\n",
    "    exec(f'seg{i} = np.array_split(hits_collation, 58)[i]')\n",
    "\n",
    "t1 = time.time()\n",
    "print(f'Elapsed time: {t1 - t0}')"
   ]
  },
  {
   "cell_type": "code",
   "execution_count": 101,
   "id": "2bcf584a",
   "metadata": {},
   "outputs": [
    {
     "name": "stdout",
     "output_type": "stream",
     "text": [
      "<class 'pandas.core.frame.DataFrame'>\n",
      "RangeIndex: 98237 entries, 98237 to 196473\n",
      "Data columns (total 24 columns):\n",
      " #   Column                  Non-Null Count  Dtype  \n",
      "---  ------                  --------------  -----  \n",
      " 0   file_path               98237 non-null  object \n",
      " 1   hit_file_enumeration    98237 non-null  int64  \n",
      " 2   signal_frequency        98237 non-null  float64\n",
      " 3   signal_index            98237 non-null  int64  \n",
      " 4   signal_driftSteps       98237 non-null  int64  \n",
      " 5   signal_driftRate        98237 non-null  float64\n",
      " 6   signal_snr              98237 non-null  float64\n",
      " 7   signal_coarseChannel    98237 non-null  int64  \n",
      " 8   signal_numTimesteps     98237 non-null  int64  \n",
      " 9   signal_power            98237 non-null  int64  \n",
      " 10  signal_incoherentPower  98237 non-null  int64  \n",
      " 11  sourceName              98237 non-null  object \n",
      " 12  fch1                    98237 non-null  float64\n",
      " 13  foff                    98237 non-null  float64\n",
      " 14  tstart                  98237 non-null  float64\n",
      " 15  tsamp                   98237 non-null  float64\n",
      " 16  ra                      98237 non-null  float64\n",
      " 17  dec                     98237 non-null  float64\n",
      " 18  telescopeId             98237 non-null  int64  \n",
      " 19  numTimesteps            98237 non-null  int64  \n",
      " 20  numChannels             98237 non-null  int64  \n",
      " 21  coarseChannel           98237 non-null  int64  \n",
      " 22  startChannel            98237 non-null  int64  \n",
      " 23  beam                    98237 non-null  int64  \n",
      "dtypes: float64(9), int64(13), object(2)\n",
      "memory usage: 18.0+ MB\n"
     ]
    }
   ],
   "source": [
    "seg1.info()"
   ]
  },
  {
   "cell_type": "code",
   "execution_count": null,
   "id": "11f84338",
   "metadata": {},
   "outputs": [],
   "source": [
    "plt.plot(seg1['signal_frequency'], seg1['signal_frequency'], '.')"
   ]
  },
  {
   "cell_type": "code",
   "execution_count": 217,
   "id": "57ccc02f",
   "metadata": {},
   "outputs": [
    {
     "data": {
      "text/plain": [
       "<Axes: xlabel='signal_frequency', ylabel='signal_snr'>"
      ]
     },
     "execution_count": 217,
     "metadata": {},
     "output_type": "execute_result"
    },
    {
     "data": {
      "image/png": "[encoded data removed]",
      "text/plain": [
       "<Figure size 640x480 with 1 Axes>"
      ]
     },
     "metadata": {},
     "output_type": "display_data"
    }
   ],
   "source": [
    "seg1_snr_sig = seg1.where(seg1['signal_snr'] > 10)\n",
    "\n",
    "sns.histplot(x='signal_frequency', y='signal_snr', data=seg1_snr_sig, bins=55)"
   ]
  },
  {
   "cell_type": "code",
   "execution_count": 220,
   "id": "4c265b6a",
   "metadata": {},
   "outputs": [],
   "source": [
    "# Concatenating all of the segs...?\n",
    "\n",
    "concat = pd.concat([seg1.assign(dataset='set1'), seg2.assign(dataset='set2')])"
   ]
  },
  {
   "cell_type": "code",
   "execution_count": 221,
   "id": "07eb93a8",
   "metadata": {},
   "outputs": [
    {
     "data": {
      "text/plain": [
       "<Axes: xlabel='signal_frequency', ylabel='signal_snr'>"
      ]
     },
     "execution_count": 221,
     "metadata": {},
     "output_type": "execute_result"
    },
    {
     "data": {
      "image/png": "[encoded data removed]",
      "text/plain": [
       "<Figure size 640x480 with 1 Axes>"
      ]
     },
     "metadata": {},
     "output_type": "display_data"
    }
   ],
   "source": [
    "sns.scatterplot(x='signal_frequency', y='signal_snr', data=concat, style='dataset')"
   ]
  },
  {
   "cell_type": "code",
   "execution_count": 218,
   "id": "4f053769",
   "metadata": {},
   "outputs": [
    {
     "data": {
      "text/plain": [
       "<Axes: xlabel='signal_frequency', ylabel='signal_power'>"
      ]
     },
     "execution_count": 218,
     "metadata": {},
     "output_type": "execute_result"
    },
    {
     "data": {
      "image/png": "[encoded data removed]",
      "text/plain": [
       "<Figure size 640x480 with 1 Axes>"
      ]
     },
     "metadata": {},
     "output_type": "display_data"
    }
   ],
   "source": [
    "seg1_pow_sig = seg1.where(seg1['signal_power'] > 0)\n",
    "\n",
    "\n",
    "sns.histplot(data=seg1, x='signal_frequency', y='signal_power', bins=55)"
   ]
  },
  {
   "cell_type": "code",
   "execution_count": 110,
   "id": "fb4a07f1",
   "metadata": {},
   "outputs": [
    {
     "data": {
      "text/plain": [
       "[<matplotlib.lines.Line2D at 0x7fc904d56460>]"
      ]
     },
     "execution_count": 110,
     "metadata": {},
     "output_type": "execute_result"
    },
    {
     "data": {
      "image/png": "[encoded data removed]",
      "text/plain": [
       "<Figure size 640x480 with 1 Axes>"
      ]
     },
     "metadata": {},
     "output_type": "display_data"
    }
   ],
   "source": [
    "plt.xlabel(\"ra\")\n",
    "plt.ylabel('dec')\n",
    "plt.plot(seg1['ra'],seg1['dec'], '.')"
   ]
  },
  {
   "cell_type": "markdown",
   "id": "295adb73",
   "metadata": {},
   "source": [
    "**Splitting up the original .json into 5 .jsons.** A comparison of 2 methods:\n",
    "1. Reading it in as a pandas dataframe and splitting up the dataframe with np.array_split()\n",
    "2. Converting it to a .csv\\\n",
    "    a. Splitting the .csv into smaller .csvs (this step done in terminal) \n",
    "---\n",
    "It appears that method 1 is MUCH faster! This is what I will be using. I will copy and paste the necessary cells above this."
   ]
  },
  {
   "cell_type": "markdown",
   "id": "bd0f97fa",
   "metadata": {},
   "source": [
    "**Method 1: Reading in pandas dataframe and splitting the dataframe using np.array_split()**"
   ]
  },
  {
   "cell_type": "code",
   "execution_count": 91,
   "id": "91d32ed1",
   "metadata": {},
   "outputs": [
    {
     "name": "stdout",
     "output_type": "stream",
     "text": [
      "Elapsed time: 54.46286916732788\n"
     ]
    }
   ],
   "source": [
    "t0 = time.time()\n",
    "\n",
    "hits_collation = pd.read_json(os.path.join(melust,'filterbank/hits/hits_collation.json'))\n",
    "\n",
    "t1 = time.time()\n",
    "print(f'Elapsed time: {t1 - t0}')"
   ]
  },
  {
   "cell_type": "markdown",
   "id": "595d8d35",
   "metadata": {},
   "source": [
    "Get factors of 5697746 so it can be split into an even number of portions."
   ]
  },
  {
   "cell_type": "code",
   "execution_count": 83,
   "id": "c0f9a225",
   "metadata": {},
   "outputs": [
    {
     "name": "stdout",
     "output_type": "stream",
     "text": [
      "1 2 29 58 193 386 509 1018 5597 11194 14761 29522 98237 196474 2848873 5697746 "
     ]
    }
   ],
   "source": [
    "N = 5697746 \n",
    "for x in range (1,N+1):\n",
    "    if N%x==0:\n",
    "        print(x , end=' ')\n",
    "        \n",
    "# 98237 splits 5697746 into 58 parts"
   ]
  },
  {
   "cell_type": "markdown",
   "id": "5be6f2b7",
   "metadata": {},
   "source": [
    "Splitting the dataframe into 58 equal chunks."
   ]
  },
  {
   "cell_type": "code",
   "execution_count": 84,
   "id": "b61a6e96",
   "metadata": {},
   "outputs": [
    {
     "name": "stdout",
     "output_type": "stream",
     "text": [
      "Elapsed time: 1.72257399559021\n"
     ]
    }
   ],
   "source": [
    "t0 = time.time()\n",
    "\n",
    "#df.iloc[0] gives all of the information for the 1st (0th index) target\n",
    "#df.iloc[0,1] gives the 2nd (1st index) piece of information for the 1st (0th index) target\n",
    "\n",
    "hits_segs = np.array_split(hits_collation, 58)\n",
    "\n",
    "# hits_segs[n] gives the nth index chunk of hits_collation\n",
    "# hits_segs[n] is a pandas dataframe\n",
    "\n",
    "t1 = time.time()\n",
    "print(f'Elapsed time: {t1 - t0}')"
   ]
  },
  {
   "cell_type": "markdown",
   "id": "75222cac",
   "metadata": {},
   "source": [
    "Splitting the dataframe into 58 equal chunks, all with names seg0, seg1, seg2, etc. This is merely for convenience."
   ]
  },
  {
   "cell_type": "code",
   "execution_count": 85,
   "id": "ec908458",
   "metadata": {},
   "outputs": [
    {
     "name": "stdout",
     "output_type": "stream",
     "text": [
      "Elapsed time: 23.44322943687439\n"
     ]
    }
   ],
   "source": [
    "t0 = time.time()\n",
    "for i, seg in enumerate(hits_collation):\n",
    "    exec(f'seg{i} = np.array_split(hits_collation, 58)[i]')\n",
    "\n",
    "t1 = time.time()\n",
    "print(f'Elapsed time: {t1 - t0}')"
   ]
  },
  {
   "cell_type": "markdown",
   "id": "59137bcb",
   "metadata": {},
   "source": [
    "**Method 2: Converting to .csv and splitting this into smaller .csvs**"
   ]
  },
  {
   "cell_type": "markdown",
   "id": "30a77cd6",
   "metadata": {},
   "source": [
    "Convert to .csv"
   ]
  },
  {
   "cell_type": "code",
   "execution_count": 86,
   "id": "cf4ed582",
   "metadata": {},
   "outputs": [
    {
     "name": "stdout",
     "output_type": "stream",
     "text": [
      "Elapsed time: 118.16067266464233\n"
     ]
    }
   ],
   "source": [
    "t0 = time.time()\n",
    "\n",
    "hits_collation.to_csv(path_or_buf=os.path.join(melust,'filterbank/hits_collation.csv'))\n",
    "\n",
    "t1 = time.time()\n",
    "print(f'Elapsed time: {t1 - t0}')"
   ]
  },
  {
   "cell_type": "markdown",
   "id": "baf585dc",
   "metadata": {},
   "source": [
    "Read in .csvs"
   ]
  },
  {
   "cell_type": "code",
   "execution_count": 15,
   "id": "3019af44",
   "metadata": {},
   "outputs": [
    {
     "name": "stdout",
     "output_type": "stream",
     "text": [
      "Elapsed time: 26.937621355056763\n"
     ]
    }
   ],
   "source": [
    "t0 = time.time()\n",
    "\n",
    "seg_list_none = glob.glob(os.path.join(melust, 'filterbank/hits/hits_collation_seg_*'))\n",
    "seg_list_csv = []\n",
    "\n",
    "for i, seg in enumerate(seg_list_none):\n",
    "    exec(f'seg_{i+1} = pd.read_csv(seg_list_none[i])')\n",
    "    exec(f'seg_list_csv.append(seg_{i+1})')\n",
    "    \n",
    "t1 = time.time()\n",
    "print(f'Elapsed time: {t1 - t0}')"
   ]
  },
  {
   "cell_type": "markdown",
   "id": "a12e8d28",
   "metadata": {},
   "source": [
    "Convert .csvs to .jsons (*not necessary anymore!*)"
   ]
  },
  {
   "cell_type": "code",
   "execution_count": 90,
   "id": "6d2c62ee",
   "metadata": {},
   "outputs": [],
   "source": [
    "# t0 = time.time()\n",
    "\n",
    "# seg_list_json = []\n",
    "\n",
    "# for i, seg in enumerate(seg_list_csv):\n",
    "#     exec(f'seg_{i+1}.to_json(path_or_buf=os.path.join(melust,\"filterbank/hits/hits_collation_seg{i+1}.json\"))')\n",
    "#     exec(f'seg_list_json.append(seg_{i+1})')\n",
    "    \n",
    "# # print(type(seg_1),len(seg_list_json))\n",
    "# t1 = time.time()\n",
    "# print(f'Elapsed time: {t1 - t0}')\n",
    "\n",
    "# t0 = time.time()\n",
    "\n",
    "# for i, seg in enumerate(seg_list_json):\n",
    "    \n",
    "# #     seg_n.read_json(path)\n",
    "#     exec(f'seg_{i+1}.read_json(os.path.join(melust,\"filterbank/hits/hits_collation_seg1.json\"))')\n",
    "# #     exec(f'seg_list_json.append(seg_{i+1})')\n",
    "         \n",
    "# t1 = time.time()\n",
    "# print(f'Elapsed time: {t1 - t0}')\n",
    "\n",
    "\n",
    "# seg1_csv.to_json(path_or_buf=os.path.join(melust,'filterbank/hits/hits_collation_seg1.json'))\n",
    "# seg2_csv.to_json(path_or_buf=os.path.join(melust,'filterbank/hits/hits_collation_seg2.json'))\n",
    "# seg3_csv.to_json(path_or_buf=os.path.join(melust,'filterbank/hits/hits_collation_seg3.json'))\n",
    "# seg4_csv.to_json(path_or_buf=os.path.join(melust,'filterbank/hits/hits_collation_seg4.json'))\n",
    "# seg5_csv.to_json(path_or_buf=os.path.join(melust,'filterbank/hits/hits_collation_seg5.json'))\n",
    "\n",
    "\n",
    "# seg1 = pd.read_json(os.path.join(melust,'filterbank/hits/hits_collation_seg1.json'))\n",
    "# seg2 = pd.read_json(os.path.join(melust,'filterbank/hits/hits_collation_seg2.json'))\n",
    "# seg3 = pd.read_json(os.path.join(melust,'filterbank/hits/hits_collation_seg3.json'))\n",
    "# seg4 = pd.read_json(os.path.join(melust,'filterbank/hits/hits_collation_seg4.json'))\n",
    "# seg5 = pd.read_json(os.path.join(melust,'filterbank/hits/hits_collation_seg5.json'))"
   ]
  },
  {
   "cell_type": "code",
   "execution_count": null,
   "id": "2e7aabac",
   "metadata": {},
   "outputs": [],
   "source": [
    "seg1.info()"
   ]
  },
  {
   "cell_type": "code",
   "execution_count": 2,
   "id": "0580f057",
   "metadata": {},
   "outputs": [
    {
     "name": "stdout",
     "output_type": "stream",
     "text": [
      "<class 'pandas.core.frame.DataFrame'>\n",
      "RangeIndex: 5697746 entries, 0 to 5697745\n",
      "Data columns (total 24 columns):\n",
      " #   Column                  Dtype  \n",
      "---  ------                  -----  \n",
      " 0   file_path               object \n",
      " 1   hit_file_enumeration    int64  \n",
      " 2   signal_frequency        float64\n",
      " 3   signal_index            int64  \n",
      " 4   signal_driftSteps       int64  \n",
      " 5   signal_driftRate        float64\n",
      " 6   signal_snr              float64\n",
      " 7   signal_coarseChannel    int64  \n",
      " 8   signal_numTimesteps     int64  \n",
      " 9   signal_power            int64  \n",
      " 10  signal_incoherentPower  int64  \n",
      " 11  sourceName              object \n",
      " 12  fch1                    float64\n",
      " 13  foff                    float64\n",
      " 14  tstart                  float64\n",
      " 15  tsamp                   float64\n",
      " 16  ra                      float64\n",
      " 17  dec                     float64\n",
      " 18  telescopeId             int64  \n",
      " 19  numTimesteps            int64  \n",
      " 20  numChannels             int64  \n",
      " 21  coarseChannel           int64  \n",
      " 22  startChannel            int64  \n",
      " 23  beam                    int64  \n",
      "dtypes: float64(9), int64(13), object(2)\n",
      "memory usage: 1.0+ GB\n"
     ]
    }
   ],
   "source": [
    "df.info()"
   ]
  },
  {
   "cell_type": "code",
   "execution_count": 18,
   "id": "bfd76fc3",
   "metadata": {},
   "outputs": [
    {
     "data": {
      "text/plain": [
       "Index(['file_path', 'hit_file_enumeration', 'signal_frequency', 'signal_index',\n",
       "       'signal_driftSteps', 'signal_driftRate', 'signal_snr',\n",
       "       'signal_coarseChannel', 'signal_numTimesteps', 'signal_power',\n",
       "       'signal_incoherentPower', 'sourceName', 'fch1', 'foff', 'tstart',\n",
       "       'tsamp', 'ra', 'dec', 'telescopeId', 'numTimesteps', 'numChannels',\n",
       "       'coarseChannel', 'startChannel', 'beam'],\n",
       "      dtype='object')"
      ]
     },
     "execution_count": 18,
     "metadata": {},
     "output_type": "execute_result"
    }
   ],
   "source": [
    "df.columns"
   ]
  },
  {
   "cell_type": "code",
   "execution_count": 20,
   "id": "6dc6c20b",
   "metadata": {},
   "outputs": [
    {
     "data": {
      "text/plain": [
       "0            9.934638\n",
       "1           30.248476\n",
       "2           10.520581\n",
       "3          131.106888\n",
       "4          113.227287\n",
       "              ...    \n",
       "5697741     89.246376\n",
       "5697742     48.087265\n",
       "5697743     13.065119\n",
       "5697744     18.228556\n",
       "5697745     17.409325\n",
       "Name: signal_snr, Length: 5697746, dtype: float64"
      ]
     },
     "execution_count": 20,
     "metadata": {},
     "output_type": "execute_result"
    }
   ],
   "source": [
    "df['signal_snr']"
   ]
  },
  {
   "cell_type": "code",
   "execution_count": null,
   "id": "e432536a",
   "metadata": {},
   "outputs": [],
   "source": [
    "df.hist(column='signal_frequency')"
   ]
  },
  {
   "cell_type": "code",
   "execution_count": 7,
   "id": "d24acd2d",
   "metadata": {},
   "outputs": [
    {
     "name": "stdout",
     "output_type": "stream",
     "text": [
      "0      9.934638\n",
      "1     30.248476\n",
      "2     10.520581\n",
      "3    131.106888\n",
      "4    113.227287\n",
      "Name: signal_snr, dtype: float64\n",
      "[]\n"
     ]
    }
   ],
   "source": [
    "hits = []\n",
    "\n",
    "print(df['signal_snr'][0:5])\n",
    "\n",
    "# for i in df['signal_snr']:\n",
    "#     if i > 20:\n",
    "#         hits.append(i)\n",
    "\n",
    "\n",
    "print(hits)"
   ]
  },
  {
   "cell_type": "code",
   "execution_count": null,
   "id": "32584cf4",
   "metadata": {
    "scrolled": true
   },
   "outputs": [],
   "source": [
    "plt.plot(df['signal_frequency'], hits, '.')"
   ]
  },
  {
   "cell_type": "code",
   "execution_count": null,
   "id": "6c1af018",
   "metadata": {},
   "outputs": [],
   "source": [
    "plt.xlabel(\"ra\")\n",
    "plt.ylabel('dec')\n",
    "plt.plot(df['ra'],df['dec'], '.')"
   ]
  },
  {
   "cell_type": "code",
   "execution_count": null,
   "id": "7d8440cc",
   "metadata": {
    "scrolled": false
   },
   "outputs": [],
   "source": [
    "# plt.scatter(x=df['signal_frequency'],y=df['signal_power'], c=df['beam'], cmap=\"summer\")\n",
    "# plt.colorbar()\n",
    "# plt.show()\n",
    "# cmap = mpl.cm.viridis\n",
    "# bounds = [0,1,2,3,4]\n",
    "# norm = mpl.colors.BoundaryNorm(bounds, cmap.N)\n",
    "\n",
    "fig, ax = plt.subplots()\n",
    "divider = make_axes_locatable(ax)\n",
    "# cax = divider.append_axes('right', size = '5%', pad = 0.1)\n",
    "\n",
    "# (x=, c=df['beam'],cmap=cm)\n",
    "\n",
    "# plt.xlabel(\"Frequency (MHz)\")\n",
    "# plt.ylabel(\"Power (counts)\")\n",
    "\n",
    "# data = (df['signal_frequency'],df['signal_power'])\n",
    "\n",
    "ax.plot(df['signal_frequency'], df['signal_power'], '.')\n",
    "\n",
    "# fig.colorbar(im, cax=cax, orientation='vertical', label = 'beam')\n",
    "\n",
    "# fig.colorbar(im, mpl.cm.ScalarMappable(norm=norm, cmap=cmap), cax=ax, orientation='vertical',label='beam')\n",
    "\n",
    "# ax.set(xlabel = 'Frequency (MHz)', ylabel = 'Power (counts)')\n",
    "\n",
    "plt.tight_layout()\n",
    "plt.show()"
   ]
  },
  {
   "cell_type": "code",
   "execution_count": null,
   "id": "3f5ad51e",
   "metadata": {},
   "outputs": [],
   "source": [
    "cm = plt.cm.get_cmap('RdYlBu')\n",
    "xy = range(20)\n",
    "z = xy\n",
    "sc = plt.scatter(xy, xy, c=z, vmin=0, vmax=20, cmap=cm)\n",
    "plt.colorbar(sc)\n",
    "plt.show()"
   ]
  }
 ],
 "metadata": {
  "kernelspec": {
   "display_name": "Python 3 (ipykernel)",
   "language": "python",
   "name": "python3"
  },
  "language_info": {
   "codemirror_mode": {
    "name": "ipython",
    "version": 3
   },
   "file_extension": ".py",
   "mimetype": "text/x-python",
   "name": "python",
   "nbconvert_exporter": "python",
   "pygments_lexer": "ipython3",
   "version": "3.8.2"
  }
 },
 "nbformat": 4,
 "nbformat_minor": 5
}
