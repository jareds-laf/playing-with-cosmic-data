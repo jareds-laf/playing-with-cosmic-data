{
 "cells": [
  {
   "cell_type": "code",
   "execution_count": 2,
   "id": "179a15de",
   "metadata": {},
   "outputs": [],
   "source": [
    "%matplotlib inline\n",
    "import pandas as pd\n",
    "import os\n",
    "import matplotlib as mpl\n",
    "import matplotlib.pyplot as plt\n",
    "import numpy as np\n",
    "import glob\n",
    "from mpl_toolkits.axes_grid1 import make_axes_locatable\n",
    "import time\n",
    "import blimpy\n",
    "import seaborn as sns\n",
    "\n",
    "melust = os.path.normpath('/lustre/aoc/students/jsofair/')\n",
    "hits = os.path.join(melust, 'playing-with-cosmic-data/filterbank/hits/')"
   ]
  },
  {
   "cell_type": "markdown",
   "id": "f67d59e9",
   "metadata": {},
   "source": [
    "Splitting hits_collation.json into chunks."
   ]
  },
  {
   "cell_type": "code",
   "execution_count": 3,
   "id": "7d8b88f7",
   "metadata": {},
   "outputs": [
    {
     "name": "stdout",
     "output_type": "stream",
     "text": [
      "Elapsed time: 63.40830445289612\n"
     ]
    }
   ],
   "source": [
    "t0 = time.time()\n",
    "\n",
    "hits_collation = pd.read_json(os.path.join(hits,'hits_collation.json'))\n",
    "\n",
    "t1 = time.time()\n",
    "print(f'Elapsed time: {t1 - t0}')"
   ]
  },
  {
   "cell_type": "markdown",
   "id": "dd3b6d13",
   "metadata": {},
   "source": [
    "Get factors of 5697746 so it can be split into an even number of portions. This is not necessary by any means :)"
   ]
  },
  {
   "cell_type": "code",
   "execution_count": 93,
   "id": "c794d0a6",
   "metadata": {},
   "outputs": [
    {
     "name": "stdout",
     "output_type": "stream",
     "text": [
      "1 2 29 58 193 386 509 1018 5597 11194 14761 29522 98237 196474 2848873 5697746 "
     ]
    }
   ],
   "source": [
    "N = 5697746 \n",
    "for x in range (1,N+1):\n",
    "    if N%x==0:\n",
    "        print(x , end=' ')\n",
    "        \n",
    "# 98237 splits 5697746 into 58 parts"
   ]
  },
  {
   "cell_type": "markdown",
   "id": "b87d242d",
   "metadata": {},
   "source": [
    "**DON'T RUN, SEE SECTION BELOW.** Splitting the dataframe into chunks."
   ]
  },
  {
   "cell_type": "code",
   "execution_count": 35,
   "id": "10d61a45",
   "metadata": {},
   "outputs": [
    {
     "name": "stdout",
     "output_type": "stream",
     "text": [
      "Elapsed time: 2.968430519104004\n"
     ]
    }
   ],
   "source": [
    "t0 = time.time()\n",
    "\n",
    "#df.iloc[n] gives all of the information for the nth target (by index, not by counting number)\n",
    "#df.iloc[n,m] gives the mth piece of information for the nth target (again, n and m are by index)\n",
    "\n",
    "# n_segs = 5\n",
    "hits_segs = np.array_split(hits_collation, n_segs)\n",
    "\n",
    "# hits_segs[n] gives the nth index chunk of hits_collation\n",
    "# hits_segs[n] is a pandas dataframe\n",
    "\n",
    "t1 = time.time()\n",
    "print(f'Elapsed time: {t1 - t0}')"
   ]
  },
  {
   "cell_type": "code",
   "execution_count": null,
   "id": "f1f0bb2e",
   "metadata": {
    "scrolled": false
   },
   "outputs": [],
   "source": [
    "print((hits_collation))"
   ]
  },
  {
   "cell_type": "markdown",
   "id": "eb823a7c",
   "metadata": {},
   "source": [
    "Splitting the dataframe into chunks, all with names seg0, seg1, seg2, etc. This is merely for convenience."
   ]
  },
  {
   "cell_type": "code",
   "execution_count": 4,
   "id": "026a75be",
   "metadata": {},
   "outputs": [
    {
     "name": "stdout",
     "output_type": "stream",
     "text": [
      "<class 'pandas.core.frame.DataFrame'>\n",
      "<class 'pandas.core.frame.DataFrame'>\n",
      "<class 'pandas.core.frame.DataFrame'>\n",
      "<class 'pandas.core.frame.DataFrame'>\n",
      "<class 'pandas.core.frame.DataFrame'>\n",
      "Elapsed time: 11.774471521377563\n"
     ]
    }
   ],
   "source": [
    "t0 = time.time()\n",
    "n_segs = 5\n",
    "for i, seg in enumerate(hits_collation):\n",
    "    if i < n_segs:\n",
    "        exec(f'seg{i} = np.array_split(hits_collation, {n_segs})[i]')\n",
    "        exec(f'print(type(seg{i}))')\n",
    "    else:\n",
    "        pass\n",
    "#     exec(f'print(seg{i})')\n",
    "\n",
    "t1 = time.time()\n",
    "print(f'Elapsed time: {t1 - t0}')"
   ]
  },
  {
   "cell_type": "code",
   "execution_count": 5,
   "id": "2bcf584a",
   "metadata": {},
   "outputs": [
    {
     "name": "stdout",
     "output_type": "stream",
     "text": [
      "<class 'pandas.core.frame.DataFrame'>\n",
      "RangeIndex: 1139549 entries, 1139550 to 2279098\n",
      "Data columns (total 24 columns):\n",
      " #   Column                  Non-Null Count    Dtype  \n",
      "---  ------                  --------------    -----  \n",
      " 0   file_path               1139549 non-null  object \n",
      " 1   hit_file_enumeration    1139549 non-null  int64  \n",
      " 2   signal_frequency        1139549 non-null  float64\n",
      " 3   signal_index            1139549 non-null  int64  \n",
      " 4   signal_driftSteps       1139549 non-null  int64  \n",
      " 5   signal_driftRate        1139549 non-null  float64\n",
      " 6   signal_snr              1139549 non-null  float64\n",
      " 7   signal_coarseChannel    1139549 non-null  int64  \n",
      " 8   signal_numTimesteps     1139549 non-null  int64  \n",
      " 9   signal_power            1139549 non-null  int64  \n",
      " 10  signal_incoherentPower  1139549 non-null  int64  \n",
      " 11  sourceName              1139549 non-null  object \n",
      " 12  fch1                    1139549 non-null  float64\n",
      " 13  foff                    1139549 non-null  float64\n",
      " 14  tstart                  1139549 non-null  float64\n",
      " 15  tsamp                   1139549 non-null  float64\n",
      " 16  ra                      1139549 non-null  float64\n",
      " 17  dec                     1139549 non-null  float64\n",
      " 18  telescopeId             1139549 non-null  int64  \n",
      " 19  numTimesteps            1139549 non-null  int64  \n",
      " 20  numChannels             1139549 non-null  int64  \n",
      " 21  coarseChannel           1139549 non-null  int64  \n",
      " 22  startChannel            1139549 non-null  int64  \n",
      " 23  beam                    1139549 non-null  int64  \n",
      "dtypes: float64(9), int64(13), object(2)\n",
      "memory usage: 208.7+ MB\n"
     ]
    }
   ],
   "source": [
    "seg1.info()"
   ]
  },
  {
   "cell_type": "code",
   "execution_count": 42,
   "id": "2d5276c9",
   "metadata": {},
   "outputs": [
    {
     "ename": "AttributeError",
     "evalue": "QuadMesh.set() got an unexpected keyword argument 'c'",
     "output_type": "error",
     "traceback": [
      "\u001b[0;31m---------------------------------------------------------------------------\u001b[0m",
      "\u001b[0;31mAttributeError\u001b[0m                            Traceback (most recent call last)",
      "Cell \u001b[0;32mIn[42], line 3\u001b[0m\n\u001b[1;32m      1\u001b[0m seg1_snr_sig \u001b[38;5;241m=\u001b[39m seg1\u001b[38;5;241m.\u001b[39mwhere(seg1[\u001b[38;5;124m'\u001b[39m\u001b[38;5;124msignal_snr\u001b[39m\u001b[38;5;124m'\u001b[39m] \u001b[38;5;241m>\u001b[39m \u001b[38;5;241m10\u001b[39m)\n\u001b[0;32m----> 3\u001b[0m \u001b[43msns\u001b[49m\u001b[38;5;241;43m.\u001b[39;49m\u001b[43mhistplot\u001b[49m\u001b[43m(\u001b[49m\u001b[43mx\u001b[49m\u001b[38;5;241;43m=\u001b[39;49m\u001b[38;5;124;43m'\u001b[39;49m\u001b[38;5;124;43msignal_frequency\u001b[39;49m\u001b[38;5;124;43m'\u001b[39;49m\u001b[43m,\u001b[49m\u001b[43m \u001b[49m\u001b[43my\u001b[49m\u001b[38;5;241;43m=\u001b[39;49m\u001b[38;5;124;43m'\u001b[39;49m\u001b[38;5;124;43msignal_snr\u001b[39;49m\u001b[38;5;124;43m'\u001b[39;49m\u001b[43m,\u001b[49m\u001b[43m \u001b[49m\u001b[43mdata\u001b[49m\u001b[38;5;241;43m=\u001b[39;49m\u001b[43mseg1_snr_sig\u001b[49m\u001b[43m,\u001b[49m\u001b[43m \u001b[49m\u001b[43mbins\u001b[49m\u001b[38;5;241;43m=\u001b[39;49m\u001b[38;5;241;43m55\u001b[39;49m\u001b[43m,\u001b[49m\u001b[43m \u001b[49m\u001b[43mcbar\u001b[49m\u001b[38;5;241;43m=\u001b[39;49m\u001b[38;5;28;43;01mTrue\u001b[39;49;00m\u001b[43m,\u001b[49m\u001b[43m \u001b[49m\u001b[43mc\u001b[49m\u001b[38;5;241;43m=\u001b[39;49m\u001b[38;5;124;43m'\u001b[39;49m\u001b[38;5;124;43mbeam\u001b[39;49m\u001b[38;5;124;43m'\u001b[39;49m\u001b[43m)\u001b[49m\n",
      "File \u001b[0;32m/lustre/aoc/students/jsofair/jnrao/lib/python3.8/site-packages/seaborn/distributions.py:1450\u001b[0m, in \u001b[0;36mhistplot\u001b[0;34m(data, x, y, hue, weights, stat, bins, binwidth, binrange, discrete, cumulative, common_bins, common_norm, multiple, element, fill, shrink, kde, kde_kws, line_kws, thresh, pthresh, pmax, cbar, cbar_ax, cbar_kws, palette, hue_order, hue_norm, color, log_scale, legend, ax, **kwargs)\u001b[0m\n\u001b[1;32m   1432\u001b[0m     p\u001b[38;5;241m.\u001b[39mplot_univariate_histogram(\n\u001b[1;32m   1433\u001b[0m         multiple\u001b[38;5;241m=\u001b[39mmultiple,\n\u001b[1;32m   1434\u001b[0m         element\u001b[38;5;241m=\u001b[39melement,\n\u001b[0;32m   (...)\u001b[0m\n\u001b[1;32m   1445\u001b[0m         \u001b[38;5;241m*\u001b[39m\u001b[38;5;241m*\u001b[39mkwargs,\n\u001b[1;32m   1446\u001b[0m     )\n\u001b[1;32m   1448\u001b[0m \u001b[38;5;28;01melse\u001b[39;00m:\n\u001b[0;32m-> 1450\u001b[0m     \u001b[43mp\u001b[49m\u001b[38;5;241;43m.\u001b[39;49m\u001b[43mplot_bivariate_histogram\u001b[49m\u001b[43m(\u001b[49m\n\u001b[1;32m   1451\u001b[0m \u001b[43m        \u001b[49m\u001b[43mcommon_bins\u001b[49m\u001b[38;5;241;43m=\u001b[39;49m\u001b[43mcommon_bins\u001b[49m\u001b[43m,\u001b[49m\n\u001b[1;32m   1452\u001b[0m \u001b[43m        \u001b[49m\u001b[43mcommon_norm\u001b[49m\u001b[38;5;241;43m=\u001b[39;49m\u001b[43mcommon_norm\u001b[49m\u001b[43m,\u001b[49m\n\u001b[1;32m   1453\u001b[0m \u001b[43m        \u001b[49m\u001b[43mthresh\u001b[49m\u001b[38;5;241;43m=\u001b[39;49m\u001b[43mthresh\u001b[49m\u001b[43m,\u001b[49m\n\u001b[1;32m   1454\u001b[0m \u001b[43m        \u001b[49m\u001b[43mpthresh\u001b[49m\u001b[38;5;241;43m=\u001b[39;49m\u001b[43mpthresh\u001b[49m\u001b[43m,\u001b[49m\n\u001b[1;32m   1455\u001b[0m \u001b[43m        \u001b[49m\u001b[43mpmax\u001b[49m\u001b[38;5;241;43m=\u001b[39;49m\u001b[43mpmax\u001b[49m\u001b[43m,\u001b[49m\n\u001b[1;32m   1456\u001b[0m \u001b[43m        \u001b[49m\u001b[43mcolor\u001b[49m\u001b[38;5;241;43m=\u001b[39;49m\u001b[43mcolor\u001b[49m\u001b[43m,\u001b[49m\n\u001b[1;32m   1457\u001b[0m \u001b[43m        \u001b[49m\u001b[43mlegend\u001b[49m\u001b[38;5;241;43m=\u001b[39;49m\u001b[43mlegend\u001b[49m\u001b[43m,\u001b[49m\n\u001b[1;32m   1458\u001b[0m \u001b[43m        \u001b[49m\u001b[43mcbar\u001b[49m\u001b[38;5;241;43m=\u001b[39;49m\u001b[43mcbar\u001b[49m\u001b[43m,\u001b[49m\n\u001b[1;32m   1459\u001b[0m \u001b[43m        \u001b[49m\u001b[43mcbar_ax\u001b[49m\u001b[38;5;241;43m=\u001b[39;49m\u001b[43mcbar_ax\u001b[49m\u001b[43m,\u001b[49m\n\u001b[1;32m   1460\u001b[0m \u001b[43m        \u001b[49m\u001b[43mcbar_kws\u001b[49m\u001b[38;5;241;43m=\u001b[39;49m\u001b[43mcbar_kws\u001b[49m\u001b[43m,\u001b[49m\n\u001b[1;32m   1461\u001b[0m \u001b[43m        \u001b[49m\u001b[43mestimate_kws\u001b[49m\u001b[38;5;241;43m=\u001b[39;49m\u001b[43mestimate_kws\u001b[49m\u001b[43m,\u001b[49m\n\u001b[1;32m   1462\u001b[0m \u001b[43m        \u001b[49m\u001b[38;5;241;43m*\u001b[39;49m\u001b[38;5;241;43m*\u001b[39;49m\u001b[43mkwargs\u001b[49m\u001b[43m,\u001b[49m\n\u001b[1;32m   1463\u001b[0m \u001b[43m    \u001b[49m\u001b[43m)\u001b[49m\n\u001b[1;32m   1465\u001b[0m \u001b[38;5;28;01mreturn\u001b[39;00m ax\n",
      "File \u001b[0;32m/lustre/aoc/students/jsofair/jnrao/lib/python3.8/site-packages/seaborn/distributions.py:857\u001b[0m, in \u001b[0;36m_DistributionPlotter.plot_bivariate_histogram\u001b[0;34m(self, common_bins, common_norm, thresh, pthresh, pmax, color, legend, cbar, cbar_ax, cbar_kws, estimate_kws, **plot_kws)\u001b[0m\n\u001b[1;32m    854\u001b[0m x_grid \u001b[38;5;241m=\u001b[39m \u001b[38;5;28many\u001b[39m([l\u001b[38;5;241m.\u001b[39mget_visible() \u001b[38;5;28;01mfor\u001b[39;00m l \u001b[38;5;129;01min\u001b[39;00m ax\u001b[38;5;241m.\u001b[39mxaxis\u001b[38;5;241m.\u001b[39mget_gridlines()])\n\u001b[1;32m    855\u001b[0m y_grid \u001b[38;5;241m=\u001b[39m \u001b[38;5;28many\u001b[39m([l\u001b[38;5;241m.\u001b[39mget_visible() \u001b[38;5;28;01mfor\u001b[39;00m l \u001b[38;5;129;01min\u001b[39;00m ax\u001b[38;5;241m.\u001b[39myaxis\u001b[38;5;241m.\u001b[39mget_gridlines()])\n\u001b[0;32m--> 857\u001b[0m mesh \u001b[38;5;241m=\u001b[39m \u001b[43max\u001b[49m\u001b[38;5;241;43m.\u001b[39;49m\u001b[43mpcolormesh\u001b[49m\u001b[43m(\u001b[49m\n\u001b[1;32m    858\u001b[0m \u001b[43m    \u001b[49m\u001b[43mx_edges\u001b[49m\u001b[43m,\u001b[49m\n\u001b[1;32m    859\u001b[0m \u001b[43m    \u001b[49m\u001b[43my_edges\u001b[49m\u001b[43m,\u001b[49m\n\u001b[1;32m    860\u001b[0m \u001b[43m    \u001b[49m\u001b[43mheights\u001b[49m\u001b[38;5;241;43m.\u001b[39;49m\u001b[43mT\u001b[49m\u001b[43m,\u001b[49m\n\u001b[1;32m    861\u001b[0m \u001b[43m    \u001b[49m\u001b[38;5;241;43m*\u001b[39;49m\u001b[38;5;241;43m*\u001b[39;49m\u001b[43martist_kws\u001b[49m\u001b[43m,\u001b[49m\n\u001b[1;32m    862\u001b[0m \u001b[43m\u001b[49m\u001b[43m)\u001b[49m\n\u001b[1;32m    864\u001b[0m \u001b[38;5;66;03m# pcolormesh sets sticky edges, but we only want them if not thresholding\u001b[39;00m\n\u001b[1;32m    865\u001b[0m \u001b[38;5;28;01mif\u001b[39;00m thresh \u001b[38;5;129;01mis\u001b[39;00m \u001b[38;5;129;01mnot\u001b[39;00m \u001b[38;5;28;01mNone\u001b[39;00m:\n",
      "File \u001b[0;32m/lustre/aoc/students/jsofair/jnrao/lib/python3.8/site-packages/matplotlib/__init__.py:1442\u001b[0m, in \u001b[0;36m_preprocess_data.<locals>.inner\u001b[0;34m(ax, data, *args, **kwargs)\u001b[0m\n\u001b[1;32m   1439\u001b[0m \u001b[38;5;129m@functools\u001b[39m\u001b[38;5;241m.\u001b[39mwraps(func)\n\u001b[1;32m   1440\u001b[0m \u001b[38;5;28;01mdef\u001b[39;00m \u001b[38;5;21minner\u001b[39m(ax, \u001b[38;5;241m*\u001b[39margs, data\u001b[38;5;241m=\u001b[39m\u001b[38;5;28;01mNone\u001b[39;00m, \u001b[38;5;241m*\u001b[39m\u001b[38;5;241m*\u001b[39mkwargs):\n\u001b[1;32m   1441\u001b[0m     \u001b[38;5;28;01mif\u001b[39;00m data \u001b[38;5;129;01mis\u001b[39;00m \u001b[38;5;28;01mNone\u001b[39;00m:\n\u001b[0;32m-> 1442\u001b[0m         \u001b[38;5;28;01mreturn\u001b[39;00m \u001b[43mfunc\u001b[49m\u001b[43m(\u001b[49m\u001b[43max\u001b[49m\u001b[43m,\u001b[49m\u001b[43m \u001b[49m\u001b[38;5;241;43m*\u001b[39;49m\u001b[38;5;28;43mmap\u001b[39;49m\u001b[43m(\u001b[49m\u001b[43msanitize_sequence\u001b[49m\u001b[43m,\u001b[49m\u001b[43m \u001b[49m\u001b[43margs\u001b[49m\u001b[43m)\u001b[49m\u001b[43m,\u001b[49m\u001b[43m \u001b[49m\u001b[38;5;241;43m*\u001b[39;49m\u001b[38;5;241;43m*\u001b[39;49m\u001b[43mkwargs\u001b[49m\u001b[43m)\u001b[49m\n\u001b[1;32m   1444\u001b[0m     bound \u001b[38;5;241m=\u001b[39m new_sig\u001b[38;5;241m.\u001b[39mbind(ax, \u001b[38;5;241m*\u001b[39margs, \u001b[38;5;241m*\u001b[39m\u001b[38;5;241m*\u001b[39mkwargs)\n\u001b[1;32m   1445\u001b[0m     auto_label \u001b[38;5;241m=\u001b[39m (bound\u001b[38;5;241m.\u001b[39marguments\u001b[38;5;241m.\u001b[39mget(label_namer)\n\u001b[1;32m   1446\u001b[0m                   \u001b[38;5;129;01mor\u001b[39;00m bound\u001b[38;5;241m.\u001b[39mkwargs\u001b[38;5;241m.\u001b[39mget(label_namer))\n",
      "File \u001b[0;32m/lustre/aoc/students/jsofair/jnrao/lib/python3.8/site-packages/matplotlib/axes/_axes.py:6229\u001b[0m, in \u001b[0;36mAxes.pcolormesh\u001b[0;34m(self, alpha, norm, cmap, vmin, vmax, shading, antialiased, *args, **kwargs)\u001b[0m\n\u001b[1;32m   6225\u001b[0m     C \u001b[38;5;241m=\u001b[39m C\u001b[38;5;241m.\u001b[39mravel()\n\u001b[1;32m   6227\u001b[0m kwargs\u001b[38;5;241m.\u001b[39msetdefault(\u001b[38;5;124m'\u001b[39m\u001b[38;5;124msnap\u001b[39m\u001b[38;5;124m'\u001b[39m, mpl\u001b[38;5;241m.\u001b[39mrcParams[\u001b[38;5;124m'\u001b[39m\u001b[38;5;124mpcolormesh.snap\u001b[39m\u001b[38;5;124m'\u001b[39m])\n\u001b[0;32m-> 6229\u001b[0m collection \u001b[38;5;241m=\u001b[39m \u001b[43mmcoll\u001b[49m\u001b[38;5;241;43m.\u001b[39;49m\u001b[43mQuadMesh\u001b[49m\u001b[43m(\u001b[49m\n\u001b[1;32m   6230\u001b[0m \u001b[43m    \u001b[49m\u001b[43mcoords\u001b[49m\u001b[43m,\u001b[49m\u001b[43m \u001b[49m\u001b[43mantialiased\u001b[49m\u001b[38;5;241;43m=\u001b[39;49m\u001b[43mantialiased\u001b[49m\u001b[43m,\u001b[49m\u001b[43m \u001b[49m\u001b[43mshading\u001b[49m\u001b[38;5;241;43m=\u001b[39;49m\u001b[43mshading\u001b[49m\u001b[43m,\u001b[49m\n\u001b[1;32m   6231\u001b[0m \u001b[43m    \u001b[49m\u001b[43marray\u001b[49m\u001b[38;5;241;43m=\u001b[39;49m\u001b[43mC\u001b[49m\u001b[43m,\u001b[49m\u001b[43m \u001b[49m\u001b[43mcmap\u001b[49m\u001b[38;5;241;43m=\u001b[39;49m\u001b[43mcmap\u001b[49m\u001b[43m,\u001b[49m\u001b[43m \u001b[49m\u001b[43mnorm\u001b[49m\u001b[38;5;241;43m=\u001b[39;49m\u001b[43mnorm\u001b[49m\u001b[43m,\u001b[49m\u001b[43m \u001b[49m\u001b[43malpha\u001b[49m\u001b[38;5;241;43m=\u001b[39;49m\u001b[43malpha\u001b[49m\u001b[43m,\u001b[49m\u001b[43m \u001b[49m\u001b[38;5;241;43m*\u001b[39;49m\u001b[38;5;241;43m*\u001b[39;49m\u001b[43mkwargs\u001b[49m\u001b[43m)\u001b[49m\n\u001b[1;32m   6232\u001b[0m collection\u001b[38;5;241m.\u001b[39m_scale_norm(norm, vmin, vmax)\n\u001b[1;32m   6234\u001b[0m coords \u001b[38;5;241m=\u001b[39m coords\u001b[38;5;241m.\u001b[39mreshape(\u001b[38;5;241m-\u001b[39m\u001b[38;5;241m1\u001b[39m, \u001b[38;5;241m2\u001b[39m)  \u001b[38;5;66;03m# flatten the grid structure; keep x, y\u001b[39;00m\n",
      "File \u001b[0;32m/lustre/aoc/students/jsofair/jnrao/lib/python3.8/site-packages/matplotlib/collections.py:1939\u001b[0m, in \u001b[0;36mQuadMesh.__init__\u001b[0;34m(self, coordinates, antialiased, shading, **kwargs)\u001b[0m\n\u001b[1;32m   1936\u001b[0m \u001b[38;5;28mself\u001b[39m\u001b[38;5;241m.\u001b[39m_bbox\u001b[38;5;241m.\u001b[39mupdate_from_data_xy(\u001b[38;5;28mself\u001b[39m\u001b[38;5;241m.\u001b[39m_coordinates\u001b[38;5;241m.\u001b[39mreshape(\u001b[38;5;241m-\u001b[39m\u001b[38;5;241m1\u001b[39m, \u001b[38;5;241m2\u001b[39m))\n\u001b[1;32m   1937\u001b[0m \u001b[38;5;66;03m# super init delayed after own init because array kwarg requires\u001b[39;00m\n\u001b[1;32m   1938\u001b[0m \u001b[38;5;66;03m# self._coordinates and self._shading\u001b[39;00m\n\u001b[0;32m-> 1939\u001b[0m \u001b[38;5;28;43msuper\u001b[39;49m\u001b[43m(\u001b[49m\u001b[43m)\u001b[49m\u001b[38;5;241;43m.\u001b[39;49m\u001b[38;5;21;43m__init__\u001b[39;49m\u001b[43m(\u001b[49m\u001b[38;5;241;43m*\u001b[39;49m\u001b[38;5;241;43m*\u001b[39;49m\u001b[43mkwargs\u001b[49m\u001b[43m)\u001b[49m\n\u001b[1;32m   1940\u001b[0m \u001b[38;5;28mself\u001b[39m\u001b[38;5;241m.\u001b[39mset_mouseover(\u001b[38;5;28;01mFalse\u001b[39;00m)\n",
      "File \u001b[0;32m/lustre/aoc/students/jsofair/jnrao/lib/python3.8/site-packages/matplotlib/_api/deprecation.py:454\u001b[0m, in \u001b[0;36mmake_keyword_only.<locals>.wrapper\u001b[0;34m(*args, **kwargs)\u001b[0m\n\u001b[1;32m    448\u001b[0m \u001b[38;5;28;01mif\u001b[39;00m \u001b[38;5;28mlen\u001b[39m(args) \u001b[38;5;241m>\u001b[39m name_idx:\n\u001b[1;32m    449\u001b[0m     warn_deprecated(\n\u001b[1;32m    450\u001b[0m         since, message\u001b[38;5;241m=\u001b[39m\u001b[38;5;124m\"\u001b[39m\u001b[38;5;124mPassing the \u001b[39m\u001b[38;5;132;01m%(name)s\u001b[39;00m\u001b[38;5;124m \u001b[39m\u001b[38;5;132;01m%(obj_type)s\u001b[39;00m\u001b[38;5;124m \u001b[39m\u001b[38;5;124m\"\u001b[39m\n\u001b[1;32m    451\u001b[0m         \u001b[38;5;124m\"\u001b[39m\u001b[38;5;124mpositionally is deprecated since Matplotlib \u001b[39m\u001b[38;5;132;01m%(since)s\u001b[39;00m\u001b[38;5;124m; the \u001b[39m\u001b[38;5;124m\"\u001b[39m\n\u001b[1;32m    452\u001b[0m         \u001b[38;5;124m\"\u001b[39m\u001b[38;5;124mparameter will become keyword-only \u001b[39m\u001b[38;5;132;01m%(removal)s\u001b[39;00m\u001b[38;5;124m.\u001b[39m\u001b[38;5;124m\"\u001b[39m,\n\u001b[1;32m    453\u001b[0m         name\u001b[38;5;241m=\u001b[39mname, obj_type\u001b[38;5;241m=\u001b[39m\u001b[38;5;124mf\u001b[39m\u001b[38;5;124m\"\u001b[39m\u001b[38;5;124mparameter of \u001b[39m\u001b[38;5;132;01m{\u001b[39;00mfunc\u001b[38;5;241m.\u001b[39m\u001b[38;5;18m__name__\u001b[39m\u001b[38;5;132;01m}\u001b[39;00m\u001b[38;5;124m()\u001b[39m\u001b[38;5;124m\"\u001b[39m)\n\u001b[0;32m--> 454\u001b[0m \u001b[38;5;28;01mreturn\u001b[39;00m \u001b[43mfunc\u001b[49m\u001b[43m(\u001b[49m\u001b[38;5;241;43m*\u001b[39;49m\u001b[43margs\u001b[49m\u001b[43m,\u001b[49m\u001b[43m \u001b[49m\u001b[38;5;241;43m*\u001b[39;49m\u001b[38;5;241;43m*\u001b[39;49m\u001b[43mkwargs\u001b[49m\u001b[43m)\u001b[49m\n",
      "File \u001b[0;32m/lustre/aoc/students/jsofair/jnrao/lib/python3.8/site-packages/matplotlib/collections.py:201\u001b[0m, in \u001b[0;36mCollection.__init__\u001b[0;34m(self, edgecolors, facecolors, linewidths, linestyles, capstyle, joinstyle, antialiaseds, offsets, offset_transform, norm, cmap, pickradius, hatch, urls, zorder, **kwargs)\u001b[0m\n\u001b[1;32m    198\u001b[0m \u001b[38;5;28mself\u001b[39m\u001b[38;5;241m.\u001b[39m_offset_transform \u001b[38;5;241m=\u001b[39m offset_transform\n\u001b[1;32m    200\u001b[0m \u001b[38;5;28mself\u001b[39m\u001b[38;5;241m.\u001b[39m_path_effects \u001b[38;5;241m=\u001b[39m \u001b[38;5;28;01mNone\u001b[39;00m\n\u001b[0;32m--> 201\u001b[0m \u001b[38;5;28;43mself\u001b[39;49m\u001b[38;5;241;43m.\u001b[39;49m\u001b[43m_internal_update\u001b[49m\u001b[43m(\u001b[49m\u001b[43mkwargs\u001b[49m\u001b[43m)\u001b[49m\n\u001b[1;32m    202\u001b[0m \u001b[38;5;28mself\u001b[39m\u001b[38;5;241m.\u001b[39m_paths \u001b[38;5;241m=\u001b[39m \u001b[38;5;28;01mNone\u001b[39;00m\n",
      "File \u001b[0;32m/lustre/aoc/students/jsofair/jnrao/lib/python3.8/site-packages/matplotlib/artist.py:1223\u001b[0m, in \u001b[0;36mArtist._internal_update\u001b[0;34m(self, kwargs)\u001b[0m\n\u001b[1;32m   1216\u001b[0m \u001b[38;5;28;01mdef\u001b[39;00m \u001b[38;5;21m_internal_update\u001b[39m(\u001b[38;5;28mself\u001b[39m, kwargs):\n\u001b[1;32m   1217\u001b[0m \u001b[38;5;250m    \u001b[39m\u001b[38;5;124;03m\"\"\"\u001b[39;00m\n\u001b[1;32m   1218\u001b[0m \u001b[38;5;124;03m    Update artist properties without prenormalizing them, but generating\u001b[39;00m\n\u001b[1;32m   1219\u001b[0m \u001b[38;5;124;03m    errors as if calling `set`.\u001b[39;00m\n\u001b[1;32m   1220\u001b[0m \n\u001b[1;32m   1221\u001b[0m \u001b[38;5;124;03m    The lack of prenormalization is to maintain backcompatibility.\u001b[39;00m\n\u001b[1;32m   1222\u001b[0m \u001b[38;5;124;03m    \"\"\"\u001b[39;00m\n\u001b[0;32m-> 1223\u001b[0m     \u001b[38;5;28;01mreturn\u001b[39;00m \u001b[38;5;28;43mself\u001b[39;49m\u001b[38;5;241;43m.\u001b[39;49m\u001b[43m_update_props\u001b[49m\u001b[43m(\u001b[49m\n\u001b[1;32m   1224\u001b[0m \u001b[43m        \u001b[49m\u001b[43mkwargs\u001b[49m\u001b[43m,\u001b[49m\u001b[43m \u001b[49m\u001b[38;5;124;43m\"\u001b[39;49m\u001b[38;5;132;43;01m{cls.__name__}\u001b[39;49;00m\u001b[38;5;124;43m.set() got an unexpected keyword argument \u001b[39;49m\u001b[38;5;124;43m\"\u001b[39;49m\n\u001b[1;32m   1225\u001b[0m \u001b[43m        \u001b[49m\u001b[38;5;124;43m\"\u001b[39;49m\u001b[38;5;132;43;01m{prop_name!r}\u001b[39;49;00m\u001b[38;5;124;43m\"\u001b[39;49m\u001b[43m)\u001b[49m\n",
      "File \u001b[0;32m/lustre/aoc/students/jsofair/jnrao/lib/python3.8/site-packages/matplotlib/artist.py:1197\u001b[0m, in \u001b[0;36mArtist._update_props\u001b[0;34m(self, props, errfmt)\u001b[0m\n\u001b[1;32m   1195\u001b[0m             func \u001b[38;5;241m=\u001b[39m \u001b[38;5;28mgetattr\u001b[39m(\u001b[38;5;28mself\u001b[39m, \u001b[38;5;124mf\u001b[39m\u001b[38;5;124m\"\u001b[39m\u001b[38;5;124mset_\u001b[39m\u001b[38;5;132;01m{\u001b[39;00mk\u001b[38;5;132;01m}\u001b[39;00m\u001b[38;5;124m\"\u001b[39m, \u001b[38;5;28;01mNone\u001b[39;00m)\n\u001b[1;32m   1196\u001b[0m             \u001b[38;5;28;01mif\u001b[39;00m \u001b[38;5;129;01mnot\u001b[39;00m \u001b[38;5;28mcallable\u001b[39m(func):\n\u001b[0;32m-> 1197\u001b[0m                 \u001b[38;5;28;01mraise\u001b[39;00m \u001b[38;5;167;01mAttributeError\u001b[39;00m(\n\u001b[1;32m   1198\u001b[0m                     errfmt\u001b[38;5;241m.\u001b[39mformat(\u001b[38;5;28mcls\u001b[39m\u001b[38;5;241m=\u001b[39m\u001b[38;5;28mtype\u001b[39m(\u001b[38;5;28mself\u001b[39m), prop_name\u001b[38;5;241m=\u001b[39mk))\n\u001b[1;32m   1199\u001b[0m             ret\u001b[38;5;241m.\u001b[39mappend(func(v))\n\u001b[1;32m   1200\u001b[0m \u001b[38;5;28;01mif\u001b[39;00m ret:\n",
      "\u001b[0;31mAttributeError\u001b[0m: QuadMesh.set() got an unexpected keyword argument 'c'"
     ]
    },
    {
     "data": {
      "image/png": "[encoded data removed]",
      "text/plain": [
       "<Figure size 640x480 with 1 Axes>"
      ]
     },
     "metadata": {},
     "output_type": "display_data"
    }
   ],
   "source": [
    "seg1_snr_sig = seg1.where(seg1['signal_snr'] > 10)\n",
    "\n",
    "sns.histplot(x='signal_frequency', y='signal_snr', data=seg1_snr_sig, bins=55, cbar=True, c='beam')"
   ]
  },
  {
   "cell_type": "code",
   "execution_count": 41,
   "id": "09f582db",
   "metadata": {},
   "outputs": [
    {
     "name": "stdout",
     "output_type": "stream",
     "text": [
      "True True\n"
     ]
    }
   ],
   "source": [
    "ind1=1139550\n",
    "ind2=1139559\n",
    "\n",
    "print(seg1['file_path'][ind1] == seg1['file_path'][ind2],\n",
    "seg1['beam'][ind1] == seg1['beam'][ind2])"
   ]
  },
  {
   "cell_type": "code",
   "execution_count": null,
   "id": "5103b70c",
   "metadata": {},
   "outputs": [],
   "source": [
    "fig, ax = plt.subplots()\n",
    "sns.lmplot(data=seg1, x='signal_frequency', y='signal_snr', ax=ax)\n",
    "sns.lmplot(data=seg2, x='signal_frequency', y='signal_snr', ax=ax)"
   ]
  },
  {
   "cell_type": "code",
   "execution_count": 220,
   "id": "4c265b6a",
   "metadata": {},
   "outputs": [],
   "source": [
    "# Concatenating all of the segs...?\n",
    "\n",
    "concat = pd.concat([seg1.assign(dataset='set1'), seg2.assign(dataset='set2')])"
   ]
  },
  {
   "cell_type": "code",
   "execution_count": 221,
   "id": "07eb93a8",
   "metadata": {},
   "outputs": [
    {
     "data": {
      "text/plain": [
       "<Axes: xlabel='signal_frequency', ylabel='signal_snr'>"
      ]
     },
     "execution_count": 221,
     "metadata": {},
     "output_type": "execute_result"
    },
    {
     "data": {
      "image/png": "[encoded data removed]",
      "text/plain": [
       "<Figure size 640x480 with 1 Axes>"
      ]
     },
     "metadata": {},
     "output_type": "display_data"
    }
   ],
   "source": [
    "sns.scatterplot(x='signal_frequency', y='signal_snr', data=concat, style='dataset')"
   ]
  },
  {
   "cell_type": "code",
   "execution_count": 218,
   "id": "4f053769",
   "metadata": {},
   "outputs": [
    {
     "data": {
      "text/plain": [
       "<Axes: xlabel='signal_frequency', ylabel='signal_power'>"
      ]
     },
     "execution_count": 218,
     "metadata": {},
     "output_type": "execute_result"
    },
    {
     "data": {
      "image/png": "[encoded data removed]",
      "text/plain": [
       "<Figure size 640x480 with 1 Axes>"
      ]
     },
     "metadata": {},
     "output_type": "display_data"
    }
   ],
   "source": [
    "seg1_pow_sig = seg1.where(seg1['signal_power'] > 0)\n",
    "\n",
    "\n",
    "sns.histplot(data=seg1, x='signal_frequency', y='signal_power', bins=55)"
   ]
  },
  {
   "cell_type": "code",
   "execution_count": 110,
   "id": "fb4a07f1",
   "metadata": {},
   "outputs": [
    {
     "data": {
      "text/plain": [
       "[<matplotlib.lines.Line2D at 0x7fc904d56460>]"
      ]
     },
     "execution_count": 110,
     "metadata": {},
     "output_type": "execute_result"
    },
    {
     "data": {
      "image/png": "[encoded data removed]",
      "text/plain": [
       "<Figure size 640x480 with 1 Axes>"
      ]
     },
     "metadata": {},
     "output_type": "display_data"
    }
   ],
   "source": [
    "plt.xlabel(\"ra\")\n",
    "plt.ylabel('dec')\n",
    "plt.plot(seg1['ra'],seg1['dec'], '.')"
   ]
  },
  {
   "cell_type": "markdown",
   "id": "295adb73",
   "metadata": {},
   "source": [
    "**Splitting up the original .json into 5 .jsons.** A comparison of 2 methods:\n",
    "1. Reading it in as a pandas dataframe and splitting up the dataframe with np.array_split()\n",
    "2. Converting it to a .csv\\\n",
    "    a. Splitting the .csv into smaller .csvs (this step done in terminal) \n",
    "---\n",
    "It appears that method 1 is MUCH faster! This is what I will be using. I will copy and paste the necessary cells above this."
   ]
  },
  {
   "cell_type": "markdown",
   "id": "bd0f97fa",
   "metadata": {},
   "source": [
    "**Method 1: Reading in pandas dataframe and splitting the dataframe using np.array_split()**"
   ]
  },
  {
   "cell_type": "code",
   "execution_count": 91,
   "id": "91d32ed1",
   "metadata": {},
   "outputs": [
    {
     "name": "stdout",
     "output_type": "stream",
     "text": [
      "Elapsed time: 54.46286916732788\n"
     ]
    }
   ],
   "source": [
    "t0 = time.time()\n",
    "\n",
    "hits_collation = pd.read_json(os.path.join(melust,'filterbank/hits/hits_collation.json'))\n",
    "\n",
    "t1 = time.time()\n",
    "print(f'Elapsed time: {t1 - t0}')"
   ]
  },
  {
   "cell_type": "markdown",
   "id": "595d8d35",
   "metadata": {},
   "source": [
    "Get factors of 5697746 so it can be split into an even number of portions."
   ]
  },
  {
   "cell_type": "code",
   "execution_count": 83,
   "id": "c0f9a225",
   "metadata": {},
   "outputs": [
    {
     "name": "stdout",
     "output_type": "stream",
     "text": [
      "1 2 29 58 193 386 509 1018 5597 11194 14761 29522 98237 196474 2848873 5697746 "
     ]
    }
   ],
   "source": [
    "N = 5697746 \n",
    "for x in range (1,N+1):\n",
    "    if N%x==0:\n",
    "        print(x , end=' ')\n",
    "        \n",
    "# 98237 splits 5697746 into 58 parts"
   ]
  },
  {
   "cell_type": "markdown",
   "id": "5be6f2b7",
   "metadata": {},
   "source": [
    "Splitting the dataframe into 58 equal chunks."
   ]
  },
  {
   "cell_type": "code",
   "execution_count": 84,
   "id": "b61a6e96",
   "metadata": {},
   "outputs": [
    {
     "name": "stdout",
     "output_type": "stream",
     "text": [
      "Elapsed time: 1.72257399559021\n"
     ]
    }
   ],
   "source": [
    "t0 = time.time()\n",
    "\n",
    "#df.iloc[0] gives all of the information for the 1st (0th index) target\n",
    "#df.iloc[0,1] gives the 2nd (1st index) piece of information for the 1st (0th index) target\n",
    "\n",
    "hits_segs = np.array_split(hits_collation, 58)\n",
    "\n",
    "# hits_segs[n] gives the nth index chunk of hits_collation\n",
    "# hits_segs[n] is a pandas dataframe\n",
    "\n",
    "t1 = time.time()\n",
    "print(f'Elapsed time: {t1 - t0}')"
   ]
  },
  {
   "cell_type": "markdown",
   "id": "75222cac",
   "metadata": {},
   "source": [
    "Splitting the dataframe into 58 equal chunks, all with names seg0, seg1, seg2, etc. This is merely for convenience."
   ]
  },
  {
   "cell_type": "code",
   "execution_count": 85,
   "id": "ec908458",
   "metadata": {},
   "outputs": [
    {
     "name": "stdout",
     "output_type": "stream",
     "text": [
      "Elapsed time: 23.44322943687439\n"
     ]
    }
   ],
   "source": [
    "t0 = time.time()\n",
    "for i, seg in enumerate(hits_collation):\n",
    "    exec(f'seg{i} = np.array_split(hits_collation, 58)[i]')\n",
    "\n",
    "t1 = time.time()\n",
    "print(f'Elapsed time: {t1 - t0}')"
   ]
  },
  {
   "cell_type": "markdown",
   "id": "59137bcb",
   "metadata": {},
   "source": [
    "**Method 2: Converting to .csv and splitting this into smaller .csvs**"
   ]
  },
  {
   "cell_type": "markdown",
   "id": "30a77cd6",
   "metadata": {},
   "source": [
    "Convert to .csv"
   ]
  },
  {
   "cell_type": "code",
   "execution_count": 86,
   "id": "cf4ed582",
   "metadata": {},
   "outputs": [
    {
     "name": "stdout",
     "output_type": "stream",
     "text": [
      "Elapsed time: 118.16067266464233\n"
     ]
    }
   ],
   "source": [
    "t0 = time.time()\n",
    "\n",
    "hits_collation.to_csv(path_or_buf=os.path.join(melust,'filterbank/hits_collation.csv'))\n",
    "\n",
    "t1 = time.time()\n",
    "print(f'Elapsed time: {t1 - t0}')"
   ]
  },
  {
   "cell_type": "markdown",
   "id": "baf585dc",
   "metadata": {},
   "source": [
    "Read in .csvs"
   ]
  },
  {
   "cell_type": "code",
   "execution_count": 15,
   "id": "3019af44",
   "metadata": {},
   "outputs": [
    {
     "name": "stdout",
     "output_type": "stream",
     "text": [
      "Elapsed time: 26.937621355056763\n"
     ]
    }
   ],
   "source": [
    "t0 = time.time()\n",
    "\n",
    "seg_list_none = glob.glob(os.path.join(melust, 'filterbank/hits/hits_collation_seg_*'))\n",
    "seg_list_csv = []\n",
    "\n",
    "for i, seg in enumerate(seg_list_none):\n",
    "    exec(f'seg_{i+1} = pd.read_csv(seg_list_none[i])')\n",
    "    exec(f'seg_list_csv.append(seg_{i+1})')\n",
    "    \n",
    "t1 = time.time()\n",
    "print(f'Elapsed time: {t1 - t0}')"
   ]
  },
  {
   "cell_type": "markdown",
   "id": "a12e8d28",
   "metadata": {},
   "source": [
    "Convert .csvs to .jsons (*not necessary anymore!*)"
   ]
  },
  {
   "cell_type": "code",
   "execution_count": 90,
   "id": "6d2c62ee",
   "metadata": {},
   "outputs": [],
   "source": [
    "# t0 = time.time()\n",
    "\n",
    "# seg_list_json = []\n",
    "\n",
    "# for i, seg in enumerate(seg_list_csv):\n",
    "#     exec(f'seg_{i+1}.to_json(path_or_buf=os.path.join(melust,\"filterbank/hits/hits_collation_seg{i+1}.json\"))')\n",
    "#     exec(f'seg_list_json.append(seg_{i+1})')\n",
    "    \n",
    "# # print(type(seg_1),len(seg_list_json))\n",
    "# t1 = time.time()\n",
    "# print(f'Elapsed time: {t1 - t0}')\n",
    "\n",
    "# t0 = time.time()\n",
    "\n",
    "# for i, seg in enumerate(seg_list_json):\n",
    "    \n",
    "# #     seg_n.read_json(path)\n",
    "#     exec(f'seg_{i+1}.read_json(os.path.join(melust,\"filterbank/hits/hits_collation_seg1.json\"))')\n",
    "# #     exec(f'seg_list_json.append(seg_{i+1})')\n",
    "         \n",
    "# t1 = time.time()\n",
    "# print(f'Elapsed time: {t1 - t0}')\n",
    "\n",
    "\n",
    "# seg1_csv.to_json(path_or_buf=os.path.join(melust,'filterbank/hits/hits_collation_seg1.json'))\n",
    "# seg2_csv.to_json(path_or_buf=os.path.join(melust,'filterbank/hits/hits_collation_seg2.json'))\n",
    "# seg3_csv.to_json(path_or_buf=os.path.join(melust,'filterbank/hits/hits_collation_seg3.json'))\n",
    "# seg4_csv.to_json(path_or_buf=os.path.join(melust,'filterbank/hits/hits_collation_seg4.json'))\n",
    "# seg5_csv.to_json(path_or_buf=os.path.join(melust,'filterbank/hits/hits_collation_seg5.json'))\n",
    "\n",
    "\n",
    "# seg1 = pd.read_json(os.path.join(melust,'filterbank/hits/hits_collation_seg1.json'))\n",
    "# seg2 = pd.read_json(os.path.join(melust,'filterbank/hits/hits_collation_seg2.json'))\n",
    "# seg3 = pd.read_json(os.path.join(melust,'filterbank/hits/hits_collation_seg3.json'))\n",
    "# seg4 = pd.read_json(os.path.join(melust,'filterbank/hits/hits_collation_seg4.json'))\n",
    "# seg5 = pd.read_json(os.path.join(melust,'filterbank/hits/hits_collation_seg5.json'))"
   ]
  },
  {
   "cell_type": "code",
   "execution_count": null,
   "id": "2e7aabac",
   "metadata": {},
   "outputs": [],
   "source": [
    "seg1.info()"
   ]
  },
  {
   "cell_type": "code",
   "execution_count": 2,
   "id": "0580f057",
   "metadata": {},
   "outputs": [
    {
     "name": "stdout",
     "output_type": "stream",
     "text": [
      "<class 'pandas.core.frame.DataFrame'>\n",
      "RangeIndex: 5697746 entries, 0 to 5697745\n",
      "Data columns (total 24 columns):\n",
      " #   Column                  Dtype  \n",
      "---  ------                  -----  \n",
      " 0   file_path               object \n",
      " 1   hit_file_enumeration    int64  \n",
      " 2   signal_frequency        float64\n",
      " 3   signal_index            int64  \n",
      " 4   signal_driftSteps       int64  \n",
      " 5   signal_driftRate        float64\n",
      " 6   signal_snr              float64\n",
      " 7   signal_coarseChannel    int64  \n",
      " 8   signal_numTimesteps     int64  \n",
      " 9   signal_power            int64  \n",
      " 10  signal_incoherentPower  int64  \n",
      " 11  sourceName              object \n",
      " 12  fch1                    float64\n",
      " 13  foff                    float64\n",
      " 14  tstart                  float64\n",
      " 15  tsamp                   float64\n",
      " 16  ra                      float64\n",
      " 17  dec                     float64\n",
      " 18  telescopeId             int64  \n",
      " 19  numTimesteps            int64  \n",
      " 20  numChannels             int64  \n",
      " 21  coarseChannel           int64  \n",
      " 22  startChannel            int64  \n",
      " 23  beam                    int64  \n",
      "dtypes: float64(9), int64(13), object(2)\n",
      "memory usage: 1.0+ GB\n"
     ]
    }
   ],
   "source": [
    "df.info()"
   ]
  },
  {
   "cell_type": "code",
   "execution_count": 18,
   "id": "bfd76fc3",
   "metadata": {},
   "outputs": [
    {
     "data": {
      "text/plain": [
       "Index(['file_path', 'hit_file_enumeration', 'signal_frequency', 'signal_index',\n",
       "       'signal_driftSteps', 'signal_driftRate', 'signal_snr',\n",
       "       'signal_coarseChannel', 'signal_numTimesteps', 'signal_power',\n",
       "       'signal_incoherentPower', 'sourceName', 'fch1', 'foff', 'tstart',\n",
       "       'tsamp', 'ra', 'dec', 'telescopeId', 'numTimesteps', 'numChannels',\n",
       "       'coarseChannel', 'startChannel', 'beam'],\n",
       "      dtype='object')"
      ]
     },
     "execution_count": 18,
     "metadata": {},
     "output_type": "execute_result"
    }
   ],
   "source": [
    "df.columns"
   ]
  },
  {
   "cell_type": "code",
   "execution_count": 20,
   "id": "6dc6c20b",
   "metadata": {},
   "outputs": [
    {
     "data": {
      "text/plain": [
       "0            9.934638\n",
       "1           30.248476\n",
       "2           10.520581\n",
       "3          131.106888\n",
       "4          113.227287\n",
       "              ...    \n",
       "5697741     89.246376\n",
       "5697742     48.087265\n",
       "5697743     13.065119\n",
       "5697744     18.228556\n",
       "5697745     17.409325\n",
       "Name: signal_snr, Length: 5697746, dtype: float64"
      ]
     },
     "execution_count": 20,
     "metadata": {},
     "output_type": "execute_result"
    }
   ],
   "source": [
    "df['signal_snr']"
   ]
  },
  {
   "cell_type": "code",
   "execution_count": null,
   "id": "e432536a",
   "metadata": {},
   "outputs": [],
   "source": [
    "df.hist(column='signal_frequency')"
   ]
  },
  {
   "cell_type": "code",
   "execution_count": 7,
   "id": "d24acd2d",
   "metadata": {},
   "outputs": [
    {
     "name": "stdout",
     "output_type": "stream",
     "text": [
      "0      9.934638\n",
      "1     30.248476\n",
      "2     10.520581\n",
      "3    131.106888\n",
      "4    113.227287\n",
      "Name: signal_snr, dtype: float64\n",
      "[]\n"
     ]
    }
   ],
   "source": [
    "hits = []\n",
    "\n",
    "print(df['signal_snr'][0:5])\n",
    "\n",
    "# for i in df['signal_snr']:\n",
    "#     if i > 20:\n",
    "#         hits.append(i)\n",
    "\n",
    "\n",
    "print(hits)"
   ]
  },
  {
   "cell_type": "code",
   "execution_count": null,
   "id": "32584cf4",
   "metadata": {
    "scrolled": true
   },
   "outputs": [],
   "source": [
    "plt.plot(df['signal_frequency'], hits, '.')"
   ]
  },
  {
   "cell_type": "code",
   "execution_count": null,
   "id": "6c1af018",
   "metadata": {},
   "outputs": [],
   "source": [
    "plt.xlabel(\"ra\")\n",
    "plt.ylabel('dec')\n",
    "plt.plot(df['ra'],df['dec'], '.')"
   ]
  },
  {
   "cell_type": "code",
   "execution_count": null,
   "id": "7d8440cc",
   "metadata": {
    "scrolled": false
   },
   "outputs": [],
   "source": [
    "# plt.scatter(x=df['signal_frequency'],y=df['signal_power'], c=df['beam'], cmap=\"summer\")\n",
    "# plt.colorbar()\n",
    "# plt.show()\n",
    "# cmap = mpl.cm.viridis\n",
    "# bounds = [0,1,2,3,4]\n",
    "# norm = mpl.colors.BoundaryNorm(bounds, cmap.N)\n",
    "\n",
    "fig, ax = plt.subplots()\n",
    "divider = make_axes_locatable(ax)\n",
    "# cax = divider.append_axes('right', size = '5%', pad = 0.1)\n",
    "\n",
    "# (x=, c=df['beam'],cmap=cm)\n",
    "\n",
    "# plt.xlabel(\"Frequency (MHz)\")\n",
    "# plt.ylabel(\"Power (counts)\")\n",
    "\n",
    "# data = (df['signal_frequency'],df['signal_power'])\n",
    "\n",
    "ax.plot(df['signal_frequency'], df['signal_power'], '.')\n",
    "\n",
    "# fig.colorbar(im, cax=cax, orientation='vertical', label = 'beam')\n",
    "\n",
    "# fig.colorbar(im, mpl.cm.ScalarMappable(norm=norm, cmap=cmap), cax=ax, orientation='vertical',label='beam')\n",
    "\n",
    "# ax.set(xlabel = 'Frequency (MHz)', ylabel = 'Power (counts)')\n",
    "\n",
    "plt.tight_layout()\n",
    "plt.show()"
   ]
  },
  {
   "cell_type": "code",
   "execution_count": null,
   "id": "3f5ad51e",
   "metadata": {},
   "outputs": [],
   "source": [
    "cm = plt.cm.get_cmap('RdYlBu')\n",
    "xy = range(20)\n",
    "z = xy\n",
    "sc = plt.scatter(xy, xy, c=z, vmin=0, vmax=20, cmap=cm)\n",
    "plt.colorbar(sc)\n",
    "plt.show()"
   ]
  }
 ],
 "metadata": {
  "kernelspec": {
   "display_name": "Python 3 (ipykernel)",
   "language": "python",
   "name": "python3"
  },
  "language_info": {
   "codemirror_mode": {
    "name": "ipython",
    "version": 3
   },
   "file_extension": ".py",
   "mimetype": "text/x-python",
   "name": "python",
   "nbconvert_exporter": "python",
   "pygments_lexer": "ipython3",
   "version": "3.8.2"
  }
 },
 "nbformat": 4,
 "nbformat_minor": 5
}
