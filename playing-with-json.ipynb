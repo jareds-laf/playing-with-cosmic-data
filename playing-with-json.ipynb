{
 "cells": [
  {
   "cell_type": "code",
   "execution_count": 26,
   "id": "179a15de",
   "metadata": {},
   "outputs": [],
   "source": [
    "%matplotlib inline\n",
    "import pandas as pd\n",
    "import os\n",
    "import matplotlib as mpl\n",
    "import matplotlib.pyplot as plt\n",
    "import numpy as np\n",
    "import glob\n",
    "from mpl_toolkits.axes_grid1 import make_axes_locatable\n",
    "import time\n",
    "import blimpy\n",
    "import seaborn as sns\n",
    "from scipy.stats import kurtosis\n",
    "\n",
    "melust = os.path.normpath('/lustre/aoc/students/jsofair/')\n",
    "hits = os.path.join(melust, 'playing-with-cosmic-data/filterbank/hits/')"
   ]
  },
  {
   "cell_type": "markdown",
   "id": "f67d59e9",
   "metadata": {},
   "source": [
    "Splitting hits_collation.json into chunks."
   ]
  },
  {
   "cell_type": "code",
   "execution_count": 2,
   "id": "7d8b88f7",
   "metadata": {},
   "outputs": [
    {
     "name": "stdout",
     "output_type": "stream",
     "text": [
      "Elapsed time: 53.18369936943054\n"
     ]
    }
   ],
   "source": [
    "t0 = time.time()\n",
    "\n",
    "hits_collation = pd.read_json(os.path.join(hits,'hits_collation.json'))\n",
    "\n",
    "t1 = time.time()\n",
    "print(f'Elapsed time: {t1 - t0}')"
   ]
  },
  {
   "cell_type": "markdown",
   "id": "dd3b6d13",
   "metadata": {},
   "source": [
    "Get factors of 5697746 so it can be split into an even number of portions. This is not necessary by any means :)"
   ]
  },
  {
   "cell_type": "code",
   "execution_count": 3,
   "id": "c794d0a6",
   "metadata": {},
   "outputs": [
    {
     "name": "stdout",
     "output_type": "stream",
     "text": [
      "1 2 29 58 193 386 509 1018 5597 11194 14761 29522 98237 196474 2848873 5697746 "
     ]
    }
   ],
   "source": [
    "N = 5697746 \n",
    "for x in range (1,N+1):\n",
    "    if N%x==0:\n",
    "        print(x , end=' ')\n",
    "        \n",
    "# 98237 splits 5697746 into 58 parts"
   ]
  },
  {
   "cell_type": "markdown",
   "id": "b87d242d",
   "metadata": {},
   "source": [
    "**DON'T RUN, SEE SECTION BELOW.** Splitting the dataframe into chunks."
   ]
  },
  {
   "cell_type": "code",
   "execution_count": 35,
   "id": "10d61a45",
   "metadata": {},
   "outputs": [
    {
     "name": "stdout",
     "output_type": "stream",
     "text": [
      "Elapsed time: 2.968430519104004\n"
     ]
    }
   ],
   "source": [
    "t0 = time.time()\n",
    "\n",
    "#df.iloc[n] gives all of the information for the nth target (by index, not by counting number)\n",
    "#df.iloc[n,m] gives the mth piece of information for the nth target (again, n and m are by index)\n",
    "\n",
    "# n_segs = 5\n",
    "hits_segs = np.array_split(hits_collation, n_segs)\n",
    "\n",
    "# hits_segs[n] gives the nth index chunk of hits_collation\n",
    "# hits_segs[n] is a pandas dataframe\n",
    "\n",
    "t1 = time.time()\n",
    "print(f'Elapsed time: {t1 - t0}')"
   ]
  },
  {
   "cell_type": "code",
   "execution_count": null,
   "id": "f1f0bb2e",
   "metadata": {
    "scrolled": false
   },
   "outputs": [],
   "source": [
    "print((hits_collation))"
   ]
  },
  {
   "cell_type": "markdown",
   "id": "eb823a7c",
   "metadata": {},
   "source": [
    "Splitting the dataframe into chunks, all with names seg0, seg1, seg2, etc. This is merely for convenience."
   ]
  },
  {
   "cell_type": "code",
   "execution_count": 7,
   "id": "026a75be",
   "metadata": {},
   "outputs": [
    {
     "name": "stdout",
     "output_type": "stream",
     "text": [
      "seg0 has been instantiated (1/10)\n",
      "seg1 has been instantiated (2/10)\n",
      "seg2 has been instantiated (3/10)\n",
      "seg3 has been instantiated (4/10)\n",
      "seg4 has been instantiated (5/10)\n",
      "seg5 has been instantiated (6/10)\n",
      "seg6 has been instantiated (7/10)\n",
      "seg7 has been instantiated (8/10)\n",
      "seg8 has been instantiated (9/10)\n",
      "seg9 has been instantiated (10/10)\n",
      "Elapsed time: 21.638136386871338\n"
     ]
    }
   ],
   "source": [
    "t0 = time.time()\n",
    "n_segs = 10\n",
    "for i, seg in enumerate(hits_collation):\n",
    "    if i < n_segs:\n",
    "        exec(f'seg{i} = np.array_split(hits_collation, {n_segs})[i]')\n",
    "        exec(f'print(\"seg{i} has been instantiated ({i+1}/{n_segs})\")')\n",
    "    else:\n",
    "        pass\n",
    "#     exec(f'print(seg{i})')\n",
    "\n",
    "t1 = time.time()\n",
    "print(f'Elapsed time: {t1 - t0}')"
   ]
  },
  {
   "cell_type": "code",
   "execution_count": 8,
   "id": "2bcf584a",
   "metadata": {},
   "outputs": [
    {
     "name": "stdout",
     "output_type": "stream",
     "text": [
      "<class 'pandas.core.frame.DataFrame'>\n",
      "RangeIndex: 569775 entries, 569775 to 1139549\n",
      "Data columns (total 24 columns):\n",
      " #   Column                  Non-Null Count   Dtype  \n",
      "---  ------                  --------------   -----  \n",
      " 0   file_path               569775 non-null  object \n",
      " 1   hit_file_enumeration    569775 non-null  int64  \n",
      " 2   signal_frequency        569775 non-null  float64\n",
      " 3   signal_index            569775 non-null  int64  \n",
      " 4   signal_driftSteps       569775 non-null  int64  \n",
      " 5   signal_driftRate        569775 non-null  float64\n",
      " 6   signal_snr              569775 non-null  float64\n",
      " 7   signal_coarseChannel    569775 non-null  int64  \n",
      " 8   signal_numTimesteps     569775 non-null  int64  \n",
      " 9   signal_power            569775 non-null  int64  \n",
      " 10  signal_incoherentPower  569775 non-null  int64  \n",
      " 11  sourceName              569775 non-null  object \n",
      " 12  fch1                    569775 non-null  float64\n",
      " 13  foff                    569775 non-null  float64\n",
      " 14  tstart                  569775 non-null  float64\n",
      " 15  tsamp                   569775 non-null  float64\n",
      " 16  ra                      569775 non-null  float64\n",
      " 17  dec                     569775 non-null  float64\n",
      " 18  telescopeId             569775 non-null  int64  \n",
      " 19  numTimesteps            569775 non-null  int64  \n",
      " 20  numChannels             569775 non-null  int64  \n",
      " 21  coarseChannel           569775 non-null  int64  \n",
      " 22  startChannel            569775 non-null  int64  \n",
      " 23  beam                    569775 non-null  int64  \n",
      "dtypes: float64(9), int64(13), object(2)\n",
      "memory usage: 104.3+ MB\n"
     ]
    }
   ],
   "source": [
    "seg1.info()"
   ]
  },
  {
   "cell_type": "code",
   "execution_count": 24,
   "id": "abe62959",
   "metadata": {},
   "outputs": [
    {
     "data": {
      "text/plain": [
       "<seaborn.axisgrid.FacetGrid at 0x7fe3ef407d60>"
      ]
     },
     "execution_count": 24,
     "metadata": {},
     "output_type": "execute_result"
    },
    {
     "data": {
      "image/png": "[encoded data removed]",
      "text/plain": [
       "<Figure size 500x500 with 1 Axes>"
      ]
     },
     "metadata": {},
     "output_type": "display_data"
    }
   ],
   "source": [
    "sns.lmplot(data=seg1, x='signal_frequency', y='signal_power')"
   ]
  },
  {
   "cell_type": "code",
   "execution_count": 26,
   "id": "e69a685d",
   "metadata": {},
   "outputs": [
    {
     "data": {
      "image/png": "[encoded data removed]",
      "text/plain": [
       "<Figure size 640x480 with 1 Axes>"
      ]
     },
     "metadata": {},
     "output_type": "display_data"
    }
   ],
   "source": [
    "fig, ax = plt.subplots()\n",
    "\n",
    "ax.plot(seg1['signal_frequency'], seg1['signal_power'], '.')\n",
    "ax.set_xlabel('Frequency (MHz)');\n",
    "ax.set_ylabel('Power (???)');"
   ]
  },
  {
   "cell_type": "markdown",
   "id": "e88d9e62",
   "metadata": {},
   "source": [
    "**Single segment kurtosis**"
   ]
  },
  {
   "cell_type": "code",
   "execution_count": 13,
   "id": "ce6c6822",
   "metadata": {},
   "outputs": [
    {
     "name": "stdout",
     "output_type": "stream",
     "text": [
      "2477.043556213379 3500.9941024780273\n"
     ]
    }
   ],
   "source": [
    "min_f = np.amin(seg1['signal_frequency'])\n",
    "max_f = np.amax(seg1['signal_frequency'])\n",
    "\n",
    "print(min_f, max_f)"
   ]
  },
  {
   "cell_type": "code",
   "execution_count": 14,
   "id": "f7cba82c",
   "metadata": {},
   "outputs": [
    {
     "name": "stdout",
     "output_type": "stream",
     "text": [
      "[2477.04355621 2478.04350792 2479.04345962 ... 3498.99419907 3499.99415077\n",
      " 3500.99410248]\n"
     ]
    }
   ],
   "source": [
    "# Use bins = 1024 to break the 1024 MHz range into 1 MHz channels\n",
    "bin_edges = np.histogram_bin_edges(seg1['signal_frequency'], bins=1024);\n",
    "\n",
    "# print(len(bin_edges))\n",
    "# print(bin_edges[0], bin_edges[1])\n",
    "\n",
    "print(bin_edges)\n",
    "\n",
    "plt.hist(seg1['signal_frequency'], bins='fd');"
   ]
  },
  {
   "cell_type": "code",
   "execution_count": null,
   "id": "8f0c5d0f",
   "metadata": {},
   "outputs": [],
   "source": [
    "np.digitize(seg1['signal_frequency'], bins=bin_edges)"
   ]
  },
  {
   "cell_type": "code",
   "execution_count": null,
   "id": "5fe58cb0",
   "metadata": {},
   "outputs": [],
   "source": [
    "kurt1_targs = np.array_split(seg1['signal_frequency'], 1024)\n",
    "kurt1_list = []\n",
    "for div in kurt1_targs:\n",
    "    kurt1_list.append(kurtosis(div))\n",
    "    \n",
    "# kurt1 = kurtosis(kurt1_targs)"
   ]
  },
  {
   "cell_type": "code",
   "execution_count": 101,
   "id": "d46e7685",
   "metadata": {},
   "outputs": [
    {
     "name": "stdout",
     "output_type": "stream",
     "text": [
      "2477.043556213379 3500.9941024780273\n",
      "2477.043556213379 3500.9941024780273\n",
      "2477.043601989746 3500.9941024780273\n",
      "2477.043601989746 3500.9941024780273\n",
      "2477.0435943603516 3500.9941024780273\n",
      "2477.0435943603516 3500.9941024780273\n",
      "2477.0435943603516 3500.9941024780273\n",
      "2477.043571472168 3500.9941024780273\n",
      "2477.043571472168 3500.9941024780273\n",
      "2477.0483016967773 3500.9941024780273\n"
     ]
    }
   ],
   "source": [
    "for i in range(0, n_segs):\n",
    "    exec(f'print(np.amin(seg{i}[\"signal_frequency\"]), np.amax(seg{i}[\"signal_frequency\"]))')    \n",
    "\n",
    "# min_f = np.amin(seg1['signal_frequency'])\n",
    "# max_f = np.amax(seg1['signal_frequency'])"
   ]
  },
  {
   "cell_type": "code",
   "execution_count": 81,
   "id": "abc924c7",
   "metadata": {
    "scrolled": true
   },
   "outputs": [
    {
     "data": {
      "text/plain": [
       "[<matplotlib.lines.Line2D at 0x7fe3d6a676a0>]"
      ]
     },
     "execution_count": 81,
     "metadata": {},
     "output_type": "execute_result"
    },
    {
     "data": {
      "image/png": "[encoded data removed]",
      "text/plain": [
       "<Figure size 640x480 with 1 Axes>"
      ]
     },
     "metadata": {},
     "output_type": "display_data"
    }
   ],
   "source": [
    "fig, ax = plt.subplots()\n",
    "\n",
    "ax.plot(seg1['signal_frequency'][0:1024], kurt1_list, '.')"
   ]
  },
  {
   "cell_type": "markdown",
   "id": "9abf0df5",
   "metadata": {},
   "source": [
    "**Multi-segment kurtosis**"
   ]
  },
  {
   "cell_type": "code",
   "execution_count": 15,
   "id": "5544bc4d",
   "metadata": {},
   "outputs": [
    {
     "name": "stdout",
     "output_type": "stream",
     "text": [
      "2477.043556213379 3500.9941024780273\n"
     ]
    }
   ],
   "source": [
    "min_f = np.amin(seg1['signal_frequency'])\n",
    "max_f = np.amax(seg1['signal_frequency'])\n",
    "\n",
    "print(min_f, max_f)"
   ]
  },
  {
   "cell_type": "code",
   "execution_count": 16,
   "id": "3b0ef7b4",
   "metadata": {},
   "outputs": [
    {
     "name": "stdout",
     "output_type": "stream",
     "text": [
      "10\n"
     ]
    }
   ],
   "source": [
    "seg_list = []\n",
    "for i in range(0,n_segs):\n",
    "    exec(f'seg_list.append(seg{i})')\n",
    "\n",
    "print(len(seg_list))"
   ]
  },
  {
   "cell_type": "code",
   "execution_count": 17,
   "id": "cfc6c8b1",
   "metadata": {},
   "outputs": [],
   "source": [
    "# Use bins = 1024 to break the 1024 MHz range into 1 MHz channels\n",
    "# for i in seg_list\n",
    "for j in range(n_segs):\n",
    "    exec(f'bin_edges = np.histogram_bin_edges(seg{j}[\"signal_frequency\"], bins=1024);')\n",
    "    #     exec(f'print(i, bin_edges)')\n",
    "\n",
    "\n",
    "\n",
    "# print(len(bin_edges))\n",
    "# print(bin_edges[0], bin_edges[1])\n",
    "\n",
    "# print(bin_edges)\n",
    "\n",
    "# plt.hist(seg1['signal_frequency'], bins='fd');"
   ]
  },
  {
   "cell_type": "code",
   "execution_count": 18,
   "id": "2c600706",
   "metadata": {},
   "outputs": [
    {
     "data": {
      "text/plain": [
       "array([130, 130, 130, ...,  65,  65,  65])"
      ]
     },
     "execution_count": 18,
     "metadata": {},
     "output_type": "execute_result"
    }
   ],
   "source": [
    "np.digitize(seg1['signal_frequency'], bins=bin_edges)"
   ]
  },
  {
   "cell_type": "code",
   "execution_count": 19,
   "id": "0ececcd9",
   "metadata": {},
   "outputs": [],
   "source": [
    "kurt1_targs = np.array_split(seg1['signal_frequency'], 1024)\n",
    "kurt1_list = []\n",
    "for div in kurt1_targs:\n",
    "    kurt1_list.append(kurtosis(div))\n",
    "    \n",
    "# kurt1 = kurtosis(kurt1_targs)"
   ]
  },
  {
   "cell_type": "code",
   "execution_count": 21,
   "id": "474700a4",
   "metadata": {
    "scrolled": true
   },
   "outputs": [
    {
     "name": "stdout",
     "output_type": "stream",
     "text": [
      "2477.043556213379 3500.9941024780273\n",
      "2477.043556213379 3500.9941024780273\n",
      "2477.043601989746 3500.9941024780273\n",
      "2477.043601989746 3500.9941024780273\n",
      "2477.0435943603516 3500.9941024780273\n",
      "2477.0435943603516 3500.9941024780273\n",
      "2477.0435943603516 3500.9941024780273\n",
      "2477.043571472168 3500.9941024780273\n",
      "2477.043571472168 3500.9941024780273\n",
      "2477.0483016967773 3500.9941024780273\n"
     ]
    }
   ],
   "source": [
    "for i in range(0, n_segs):\n",
    "    exec(f'print(np.amin(seg{i}[\"signal_frequency\"]), np.amax(seg{i}[\"signal_frequency\"]))')    \n",
    "\n",
    "# min_f = np.amin(seg1['signal_frequency'])\n",
    "# max_f = np.amax(seg1['signal_frequency'])"
   ]
  },
  {
   "cell_type": "code",
   "execution_count": 29,
   "id": "5e5f398f",
   "metadata": {
    "scrolled": false
   },
   "outputs": [
    {
     "data": {
      "text/plain": [
       "[<matplotlib.lines.Line2D at 0x7f7bab0d3df0>]"
      ]
     },
     "execution_count": 29,
     "metadata": {},
     "output_type": "execute_result"
    },
    {
     "data": {
      "image/png": "[encoded data removed]",
      "text/plain": [
       "<Figure size 640x480 with 1 Axes>"
      ]
     },
     "metadata": {},
     "output_type": "display_data"
    }
   ],
   "source": [
    "fig, ax = plt.subplots()\n",
    "\n",
    "ax.plot(seg1['signal_frequency'][0:1024], kurt1_list, '.')\n"
   ]
  },
  {
   "cell_type": "markdown",
   "id": "c8685f20",
   "metadata": {},
   "source": [
    "**More miscellaneous playing (no longer strictly kurtosis-related)**"
   ]
  },
  {
   "cell_type": "code",
   "execution_count": 7,
   "id": "2d5276c9",
   "metadata": {},
   "outputs": [
    {
     "data": {
      "text/plain": [
       "<Axes: xlabel='signal_frequency', ylabel='signal_snr'>"
      ]
     },
     "execution_count": 7,
     "metadata": {},
     "output_type": "execute_result"
    }
   ],
   "source": [
    "seg1_snr_sig = seg1.where(seg1['signal_snr'] > 10)\n",
    "\n",
    "sns.histplot(x='signal_frequency', y='signal_snr', data=seg1_snr_sig, bins=55, cbar=True)"
   ]
  },
  {
   "cell_type": "code",
   "execution_count": 41,
   "id": "09f582db",
   "metadata": {},
   "outputs": [
    {
     "name": "stdout",
     "output_type": "stream",
     "text": [
      "True True\n"
     ]
    }
   ],
   "source": [
    "ind1=1139550\n",
    "ind2=1139559\n",
    "\n",
    "print(seg1['file_path'][ind1] == seg1['file_path'][ind2],\n",
    "seg1['beam'][ind1] == seg1['beam'][ind2])"
   ]
  },
  {
   "cell_type": "code",
   "execution_count": null,
   "id": "5103b70c",
   "metadata": {},
   "outputs": [],
   "source": [
    "fig, ax = plt.subplots()\n",
    "sns.lmplot(data=seg1, x='signal_frequency', y='signal_snr', ax=ax)\n",
    "sns.lmplot(data=seg2, x='signal_frequency', y='signal_snr', ax=ax)"
   ]
  },
  {
   "cell_type": "code",
   "execution_count": 220,
   "id": "4c265b6a",
   "metadata": {},
   "outputs": [],
   "source": [
    "# Concatenating all of the segs...?\n",
    "\n",
    "concat = pd.concat([seg1.assign(dataset='set1'), seg2.assign(dataset='set2')])"
   ]
  },
  {
   "cell_type": "code",
   "execution_count": 221,
   "id": "07eb93a8",
   "metadata": {},
   "outputs": [
    {
     "data": {
      "text/plain": [
       "<Axes: xlabel='signal_frequency', ylabel='signal_snr'>"
      ]
     },
     "execution_count": 221,
     "metadata": {},
     "output_type": "execute_result"
    },
    {
     "data": {
      "image/png": "[encoded data removed]",
      "text/plain": [
       "<Figure size 640x480 with 1 Axes>"
      ]
     },
     "metadata": {},
     "output_type": "display_data"
    }
   ],
   "source": [
    "sns.scatterplot(x='signal_frequency', y='signal_snr', data=concat, style='dataset')"
   ]
  },
  {
   "cell_type": "code",
   "execution_count": 218,
   "id": "4f053769",
   "metadata": {},
   "outputs": [
    {
     "data": {
      "text/plain": [
       "<Axes: xlabel='signal_frequency', ylabel='signal_power'>"
      ]
     },
     "execution_count": 218,
     "metadata": {},
     "output_type": "execute_result"
    },
    {
     "data": {
      "image/png": "[encoded data removed]",
      "text/plain": [
       "<Figure size 640x480 with 1 Axes>"
      ]
     },
     "metadata": {},
     "output_type": "display_data"
    }
   ],
   "source": [
    "seg1_pow_sig = seg1.where(seg1['signal_power'] > 0)\n",
    "\n",
    "\n",
    "sns.histplot(data=seg1, x='signal_frequency', y='signal_power', bins=55)"
   ]
  },
  {
   "cell_type": "code",
   "execution_count": 110,
   "id": "fb4a07f1",
   "metadata": {},
   "outputs": [
    {
     "data": {
      "text/plain": [
       "[<matplotlib.lines.Line2D at 0x7fc904d56460>]"
      ]
     },
     "execution_count": 110,
     "metadata": {},
     "output_type": "execute_result"
    },
    {
     "data": {
      "image/png": "[encoded data removed]",
      "text/plain": [
       "<Figure size 640x480 with 1 Axes>"
      ]
     },
     "metadata": {},
     "output_type": "display_data"
    }
   ],
   "source": [
    "plt.xlabel(\"ra\")\n",
    "plt.ylabel('dec')\n",
    "plt.plot(seg1['ra'],seg1['dec'], '.')"
   ]
  },
  {
   "cell_type": "markdown",
   "id": "295adb73",
   "metadata": {},
   "source": [
    "**Splitting up the original .json into 5 .jsons.** A comparison of 2 methods:\n",
    "1. Reading it in as a pandas dataframe and splitting up the dataframe with np.array_split()\n",
    "2. Converting it to a .csv\\\n",
    "    a. Splitting the .csv into smaller .csvs (this step done in terminal) \n",
    "---\n",
    "It appears that method 1 is MUCH faster! This is what I will be using. I will copy and paste the necessary cells above this."
   ]
  },
  {
   "cell_type": "markdown",
   "id": "bd0f97fa",
   "metadata": {},
   "source": [
    "**Method 1: Reading in pandas dataframe and splitting the dataframe using np.array_split()**"
   ]
  },
  {
   "cell_type": "code",
   "execution_count": 91,
   "id": "91d32ed1",
   "metadata": {},
   "outputs": [
    {
     "name": "stdout",
     "output_type": "stream",
     "text": [
      "Elapsed time: 54.46286916732788\n"
     ]
    }
   ],
   "source": [
    "t0 = time.time()\n",
    "\n",
    "hits_collation = pd.read_json(os.path.join(melust,'filterbank/hits/hits_collation.json'))\n",
    "\n",
    "t1 = time.time()\n",
    "print(f'Elapsed time: {t1 - t0}')"
   ]
  },
  {
   "cell_type": "markdown",
   "id": "595d8d35",
   "metadata": {},
   "source": [
    "Get factors of 5697746 so it can be split into an even number of portions."
   ]
  },
  {
   "cell_type": "code",
   "execution_count": 83,
   "id": "c0f9a225",
   "metadata": {},
   "outputs": [
    {
     "name": "stdout",
     "output_type": "stream",
     "text": [
      "1 2 29 58 193 386 509 1018 5597 11194 14761 29522 98237 196474 2848873 5697746 "
     ]
    }
   ],
   "source": [
    "N = 5697746 \n",
    "for x in range (1,N+1):\n",
    "    if N%x==0:\n",
    "        print(x , end=' ')\n",
    "        \n",
    "# 98237 splits 5697746 into 58 parts"
   ]
  },
  {
   "cell_type": "markdown",
   "id": "5be6f2b7",
   "metadata": {},
   "source": [
    "Splitting the dataframe into 58 equal chunks."
   ]
  },
  {
   "cell_type": "code",
   "execution_count": 84,
   "id": "b61a6e96",
   "metadata": {},
   "outputs": [
    {
     "name": "stdout",
     "output_type": "stream",
     "text": [
      "Elapsed time: 1.72257399559021\n"
     ]
    }
   ],
   "source": [
    "t0 = time.time()\n",
    "\n",
    "#df.iloc[0] gives all of the information for the 1st (0th index) target\n",
    "#df.iloc[0,1] gives the 2nd (1st index) piece of information for the 1st (0th index) target\n",
    "\n",
    "hits_segs = np.array_split(hits_collation, 58)\n",
    "\n",
    "# hits_segs[n] gives the nth index chunk of hits_collation\n",
    "# hits_segs[n] is a pandas dataframe\n",
    "\n",
    "t1 = time.time()\n",
    "print(f'Elapsed time: {t1 - t0}')"
   ]
  },
  {
   "cell_type": "markdown",
   "id": "75222cac",
   "metadata": {},
   "source": [
    "Splitting the dataframe into 58 equal chunks, all with names seg0, seg1, seg2, etc. This is merely for convenience."
   ]
  },
  {
   "cell_type": "code",
   "execution_count": 85,
   "id": "ec908458",
   "metadata": {},
   "outputs": [
    {
     "name": "stdout",
     "output_type": "stream",
     "text": [
      "Elapsed time: 23.44322943687439\n"
     ]
    }
   ],
   "source": [
    "t0 = time.time()\n",
    "for i, seg in enumerate(hits_collation):\n",
    "    exec(f'seg{i} = np.array_split(hits_collation, 58)[i]')\n",
    "\n",
    "t1 = time.time()\n",
    "print(f'Elapsed time: {t1 - t0}')"
   ]
  },
  {
   "cell_type": "markdown",
   "id": "59137bcb",
   "metadata": {},
   "source": [
    "**Method 2: Converting to .csv and splitting this into smaller .csvs**"
   ]
  },
  {
   "cell_type": "markdown",
   "id": "30a77cd6",
   "metadata": {},
   "source": [
    "Convert to .csv"
   ]
  },
  {
   "cell_type": "code",
   "execution_count": 86,
   "id": "cf4ed582",
   "metadata": {},
   "outputs": [
    {
     "name": "stdout",
     "output_type": "stream",
     "text": [
      "Elapsed time: 118.16067266464233\n"
     ]
    }
   ],
   "source": [
    "t0 = time.time()\n",
    "\n",
    "hits_collation.to_csv(path_or_buf=os.path.join(melust,'filterbank/hits_collation.csv'))\n",
    "\n",
    "t1 = time.time()\n",
    "print(f'Elapsed time: {t1 - t0}')"
   ]
  },
  {
   "cell_type": "markdown",
   "id": "baf585dc",
   "metadata": {},
   "source": [
    "Read in .csvs"
   ]
  },
  {
   "cell_type": "code",
   "execution_count": 15,
   "id": "3019af44",
   "metadata": {},
   "outputs": [
    {
     "name": "stdout",
     "output_type": "stream",
     "text": [
      "Elapsed time: 26.937621355056763\n"
     ]
    }
   ],
   "source": [
    "t0 = time.time()\n",
    "\n",
    "seg_list_none = glob.glob(os.path.join(melust, 'filterbank/hits/hits_collation_seg_*'))\n",
    "seg_list_csv = []\n",
    "\n",
    "for i, seg in enumerate(seg_list_none):\n",
    "    exec(f'seg_{i+1} = pd.read_csv(seg_list_none[i])')\n",
    "    exec(f'seg_list_csv.append(seg_{i+1})')\n",
    "    \n",
    "t1 = time.time()\n",
    "print(f'Elapsed time: {t1 - t0}')"
   ]
  },
  {
   "cell_type": "markdown",
   "id": "a12e8d28",
   "metadata": {},
   "source": [
    "Convert .csvs to .jsons (*not necessary anymore!*)"
   ]
  },
  {
   "cell_type": "code",
   "execution_count": 90,
   "id": "6d2c62ee",
   "metadata": {},
   "outputs": [],
   "source": [
    "# t0 = time.time()\n",
    "\n",
    "# seg_list_json = []\n",
    "\n",
    "# for i, seg in enumerate(seg_list_csv):\n",
    "#     exec(f'seg_{i+1}.to_json(path_or_buf=os.path.join(melust,\"filterbank/hits/hits_collation_seg{i+1}.json\"))')\n",
    "#     exec(f'seg_list_json.append(seg_{i+1})')\n",
    "    \n",
    "# # print(type(seg_1),len(seg_list_json))\n",
    "# t1 = time.time()\n",
    "# print(f'Elapsed time: {t1 - t0}')\n",
    "\n",
    "# t0 = time.time()\n",
    "\n",
    "# for i, seg in enumerate(seg_list_json):\n",
    "    \n",
    "# #     seg_n.read_json(path)\n",
    "#     exec(f'seg_{i+1}.read_json(os.path.join(melust,\"filterbank/hits/hits_collation_seg1.json\"))')\n",
    "# #     exec(f'seg_list_json.append(seg_{i+1})')\n",
    "         \n",
    "# t1 = time.time()\n",
    "# print(f'Elapsed time: {t1 - t0}')\n",
    "\n",
    "\n",
    "# seg1_csv.to_json(path_or_buf=os.path.join(melust,'filterbank/hits/hits_collation_seg1.json'))\n",
    "# seg2_csv.to_json(path_or_buf=os.path.join(melust,'filterbank/hits/hits_collation_seg2.json'))\n",
    "# seg3_csv.to_json(path_or_buf=os.path.join(melust,'filterbank/hits/hits_collation_seg3.json'))\n",
    "# seg4_csv.to_json(path_or_buf=os.path.join(melust,'filterbank/hits/hits_collation_seg4.json'))\n",
    "# seg5_csv.to_json(path_or_buf=os.path.join(melust,'filterbank/hits/hits_collation_seg5.json'))\n",
    "\n",
    "\n",
    "# seg1 = pd.read_json(os.path.join(melust,'filterbank/hits/hits_collation_seg1.json'))\n",
    "# seg2 = pd.read_json(os.path.join(melust,'filterbank/hits/hits_collation_seg2.json'))\n",
    "# seg3 = pd.read_json(os.path.join(melust,'filterbank/hits/hits_collation_seg3.json'))\n",
    "# seg4 = pd.read_json(os.path.join(melust,'filterbank/hits/hits_collation_seg4.json'))\n",
    "# seg5 = pd.read_json(os.path.join(melust,'filterbank/hits/hits_collation_seg5.json'))"
   ]
  },
  {
   "cell_type": "code",
   "execution_count": null,
   "id": "2e7aabac",
   "metadata": {},
   "outputs": [],
   "source": [
    "seg1.info()"
   ]
  },
  {
   "cell_type": "code",
   "execution_count": 2,
   "id": "0580f057",
   "metadata": {},
   "outputs": [
    {
     "name": "stdout",
     "output_type": "stream",
     "text": [
      "<class 'pandas.core.frame.DataFrame'>\n",
      "RangeIndex: 5697746 entries, 0 to 5697745\n",
      "Data columns (total 24 columns):\n",
      " #   Column                  Dtype  \n",
      "---  ------                  -----  \n",
      " 0   file_path               object \n",
      " 1   hit_file_enumeration    int64  \n",
      " 2   signal_frequency        float64\n",
      " 3   signal_index            int64  \n",
      " 4   signal_driftSteps       int64  \n",
      " 5   signal_driftRate        float64\n",
      " 6   signal_snr              float64\n",
      " 7   signal_coarseChannel    int64  \n",
      " 8   signal_numTimesteps     int64  \n",
      " 9   signal_power            int64  \n",
      " 10  signal_incoherentPower  int64  \n",
      " 11  sourceName              object \n",
      " 12  fch1                    float64\n",
      " 13  foff                    float64\n",
      " 14  tstart                  float64\n",
      " 15  tsamp                   float64\n",
      " 16  ra                      float64\n",
      " 17  dec                     float64\n",
      " 18  telescopeId             int64  \n",
      " 19  numTimesteps            int64  \n",
      " 20  numChannels             int64  \n",
      " 21  coarseChannel           int64  \n",
      " 22  startChannel            int64  \n",
      " 23  beam                    int64  \n",
      "dtypes: float64(9), int64(13), object(2)\n",
      "memory usage: 1.0+ GB\n"
     ]
    }
   ],
   "source": [
    "df.info()"
   ]
  },
  {
   "cell_type": "code",
   "execution_count": 18,
   "id": "bfd76fc3",
   "metadata": {},
   "outputs": [
    {
     "data": {
      "text/plain": [
       "Index(['file_path', 'hit_file_enumeration', 'signal_frequency', 'signal_index',\n",
       "       'signal_driftSteps', 'signal_driftRate', 'signal_snr',\n",
       "       'signal_coarseChannel', 'signal_numTimesteps', 'signal_power',\n",
       "       'signal_incoherentPower', 'sourceName', 'fch1', 'foff', 'tstart',\n",
       "       'tsamp', 'ra', 'dec', 'telescopeId', 'numTimesteps', 'numChannels',\n",
       "       'coarseChannel', 'startChannel', 'beam'],\n",
       "      dtype='object')"
      ]
     },
     "execution_count": 18,
     "metadata": {},
     "output_type": "execute_result"
    }
   ],
   "source": [
    "df.columns"
   ]
  },
  {
   "cell_type": "code",
   "execution_count": 20,
   "id": "6dc6c20b",
   "metadata": {},
   "outputs": [
    {
     "data": {
      "text/plain": [
       "0            9.934638\n",
       "1           30.248476\n",
       "2           10.520581\n",
       "3          131.106888\n",
       "4          113.227287\n",
       "              ...    \n",
       "5697741     89.246376\n",
       "5697742     48.087265\n",
       "5697743     13.065119\n",
       "5697744     18.228556\n",
       "5697745     17.409325\n",
       "Name: signal_snr, Length: 5697746, dtype: float64"
      ]
     },
     "execution_count": 20,
     "metadata": {},
     "output_type": "execute_result"
    }
   ],
   "source": [
    "df['signal_snr']"
   ]
  },
  {
   "cell_type": "code",
   "execution_count": null,
   "id": "e432536a",
   "metadata": {},
   "outputs": [],
   "source": [
    "df.hist(column='signal_frequency')"
   ]
  },
  {
   "cell_type": "code",
   "execution_count": 7,
   "id": "d24acd2d",
   "metadata": {},
   "outputs": [
    {
     "name": "stdout",
     "output_type": "stream",
     "text": [
      "0      9.934638\n",
      "1     30.248476\n",
      "2     10.520581\n",
      "3    131.106888\n",
      "4    113.227287\n",
      "Name: signal_snr, dtype: float64\n",
      "[]\n"
     ]
    }
   ],
   "source": [
    "hits = []\n",
    "\n",
    "print(df['signal_snr'][0:5])\n",
    "\n",
    "# for i in df['signal_snr']:\n",
    "#     if i > 20:\n",
    "#         hits.append(i)\n",
    "\n",
    "\n",
    "print(hits)"
   ]
  },
  {
   "cell_type": "code",
   "execution_count": null,
   "id": "32584cf4",
   "metadata": {
    "scrolled": true
   },
   "outputs": [],
   "source": [
    "plt.plot(df['signal_frequency'], hits, '.')"
   ]
  },
  {
   "cell_type": "code",
   "execution_count": null,
   "id": "6c1af018",
   "metadata": {},
   "outputs": [],
   "source": [
    "plt.xlabel(\"ra\")\n",
    "plt.ylabel('dec')\n",
    "plt.plot(df['ra'],df['dec'], '.')"
   ]
  },
  {
   "cell_type": "code",
   "execution_count": null,
   "id": "7d8440cc",
   "metadata": {
    "scrolled": false
   },
   "outputs": [],
   "source": [
    "# plt.scatter(x=df['signal_frequency'],y=df['signal_power'], c=df['beam'], cmap=\"summer\")\n",
    "# plt.colorbar()\n",
    "# plt.show()\n",
    "# cmap = mpl.cm.viridis\n",
    "# bounds = [0,1,2,3,4]\n",
    "# norm = mpl.colors.BoundaryNorm(bounds, cmap.N)\n",
    "\n",
    "fig, ax = plt.subplots()\n",
    "divider = make_axes_locatable(ax)\n",
    "# cax = divider.append_axes('right', size = '5%', pad = 0.1)\n",
    "\n",
    "# (x=, c=df['beam'],cmap=cm)\n",
    "\n",
    "# plt.xlabel(\"Frequency (MHz)\")\n",
    "# plt.ylabel(\"Power (counts)\")\n",
    "\n",
    "# data = (df['signal_frequency'],df['signal_power'])\n",
    "\n",
    "ax.plot(df['signal_frequency'], df['signal_power'], '.')\n",
    "\n",
    "# fig.colorbar(im, cax=cax, orientation='vertical', label = 'beam')\n",
    "\n",
    "# fig.colorbar(im, mpl.cm.ScalarMappable(norm=norm, cmap=cmap), cax=ax, orientation='vertical',label='beam')\n",
    "\n",
    "# ax.set(xlabel = 'Frequency (MHz)', ylabel = 'Power (counts)')\n",
    "\n",
    "plt.tight_layout()\n",
    "plt.show()"
   ]
  },
  {
   "cell_type": "code",
   "execution_count": null,
   "id": "3f5ad51e",
   "metadata": {},
   "outputs": [],
   "source": [
    "cm = plt.cm.get_cmap('RdYlBu')\n",
    "xy = range(20)\n",
    "z = xy\n",
    "sc = plt.scatter(xy, xy, c=z, vmin=0, vmax=20, cmap=cm)\n",
    "plt.colorbar(sc)\n",
    "plt.show()"
   ]
  }
 ],
 "metadata": {
  "kernelspec": {
   "display_name": "Python 3 (ipykernel)",
   "language": "python",
   "name": "python3"
  },
  "language_info": {
   "codemirror_mode": {
    "name": "ipython",
    "version": 3
   },
   "file_extension": ".py",
   "mimetype": "text/x-python",
   "name": "python",
   "nbconvert_exporter": "python",
   "pygments_lexer": "ipython3",
   "version": "3.8.2"
  }
 },
 "nbformat": 4,
 "nbformat_minor": 5
}
