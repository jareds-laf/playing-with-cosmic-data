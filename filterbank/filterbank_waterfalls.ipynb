{
 "cells": [
  {
   "cell_type": "code",
   "execution_count": 1,
   "id": "1eb989eb",
   "metadata": {},
   "outputs": [],
   "source": [
    "%matplotlib inline\n",
    "import blimpy\n",
    "import pylab as plt\n",
    "from blimpy import Waterfall\n",
    "from blimpy import calcload\n",
    "import os\n",
    "import glob\n",
    "import matplotlib.pyplot as plt\n",
    "import numpy as np\n",
    "from astropy.time import Time\n",
    "import time\n",
    "from scipy.stats import norm, kurtosis, kurtosistest\n",
    "import numpy.ma as ma"
   ]
  },
  {
   "cell_type": "code",
   "execution_count": 2,
   "id": "ad696c4c",
   "metadata": {},
   "outputs": [
    {
     "name": "stdout",
     "output_type": "stream",
     "text": [
      "9.0 -- Band_Test_BD_C512-beam0001.fil\n",
      "8.0 -- band_test_AC_C512-beam0001.fil\n",
      "11.0 -- Band_Test_BD_C0-beam0001.fil\n",
      "7.0 -- band_test_GPU3_BD_C32-beam0001.fil\n",
      "11.0 -- band_test_AC_C32-beam0001.fil\n",
      "4.0 -- band_test_AC_C544-beam0001.fil\n"
     ]
    }
   ],
   "source": [
    "file_path = '/lustre/aoc/students/jsofair/filterbank/'\n",
    "filelist = glob.glob(os.path.join(file_path,'*.fil'))\n",
    "\n",
    "ml_list = []\n",
    "for i, file in enumerate(filelist):\n",
    "    ml = blimpy.calcload.calc_max_load(os.path.join(file))\n",
    "    ml_list.append(ml)\n",
    "    print(f'{ml} -- {file[40:]}')"
   ]
  },
  {
   "cell_type": "code",
   "execution_count": 3,
   "id": "35458fee",
   "metadata": {},
   "outputs": [
    {
     "name": "stdout",
     "output_type": "stream",
     "text": [
      "Elapsed time: 13.035140991210938\n"
     ]
    }
   ],
   "source": [
    "t0 = time.time()\n",
    "water0 = Waterfall(os.path.normpath(filelist[0]), max_load = ml_list[0])\n",
    "\n",
    "t1 = time.time()\n",
    "print(f'Elapsed time: {t1 - t0}')"
   ]
  },
  {
   "cell_type": "code",
   "execution_count": 4,
   "id": "6694e911",
   "metadata": {},
   "outputs": [],
   "source": [
    "water0 = Waterfall(os.path.normpath(filelist[0]), max_load = ml_list[0])\n",
    "water1 = Waterfall(os.path.normpath(filelist[1]), max_load = ml_list[1])\n",
    "water2 = Waterfall(os.path.normpath(filelist[2]), max_load = ml_list[2])\n",
    "water3 = Waterfall(os.path.normpath(filelist[3]), max_load = ml_list[3])\n",
    "water4 = Waterfall(os.path.normpath(filelist[4]), max_load = ml_list[4])\n",
    "water5 = Waterfall(os.path.normpath(filelist[5]), max_load = ml_list[5])\n",
    "\n",
    "water_list = [water0, water1, water2, water3, water4, water5]"
   ]
  },
  {
   "cell_type": "code",
   "execution_count": 5,
   "id": "c5845389",
   "metadata": {},
   "outputs": [
    {
     "name": "stdout",
     "output_type": "stream",
     "text": [
      "\n",
      "--- File Info ---\n",
      "      machine_id :                                0\n",
      "    telescope_id :                               -1\n",
      "         src_raj :                 4:09:22.00873993\n",
      "         src_dej :                12:17:39.84749624\n",
      "        az_start :             6.9397794901351e-310\n",
      "        za_start :             4.6720091597949e-310\n",
      "       data_type :                                1\n",
      "            fch1 :           2028.4999961853027 MHz\n",
      "            foff :           -7.62939453125e-06 MHz\n",
      "          nchans :                          4194304\n",
      "          nbeams :                                2\n",
      "           ibeam :                                1\n",
      "           nbits :                               32\n",
      "   tstart (ISOT) :          2023-05-10T21:56:53.857\n",
      "    tstart (MJD) :                60074.91451223567\n",
      "           tsamp :                         0.131072\n",
      "            nifs :                                1\n",
      "     barycentric :                                1\n",
      "   pulsarcentric :                                1\n",
      "     source_name :                       Incoherent\n",
      "     rawdatafile : TCOS0001_sb43905589_1_1_000.60074.91206391204.3.1.AC.C32\n",
      "\n",
      "Num ints in file :                              640\n",
      "      File shape :                (640, 1, 4194304)\n",
      "--- Selection Info ---\n",
      "Data selection shape :                (640, 1, 4194304)\n",
      "Minimum freq (MHz) :               1996.5000038146973\n",
      "Maximum freq (MHz) :               2028.4999961853027\n",
      "extracting integration 0...\n"
     ]
    }
   ],
   "source": [
    "obs = Waterfall(os.path.join(file_path,'band_test_AC_C32-beam0001.fil'))\n",
    "obs.info()\n",
    "obs.plot_spectrum(logged=True, f_start=2000,f_stop=2005)\n",
    "plt.figure()\n",
    "obs.plot_waterfall(f_start=2000,f_stop=2005)\n",
    "# print(obs.header)\n",
    "# print(obs.data.shape)\n",
    "\n",
    "# obs.plot_spectrum()"
   ]
  },
  {
   "cell_type": "code",
   "execution_count": 6,
   "id": "d7298338",
   "metadata": {},
   "outputs": [
    {
     "data": {
      "text/plain": [
       "6"
      ]
     },
     "execution_count": 6,
     "metadata": {},
     "output_type": "execute_result"
    }
   ],
   "source": [
    "len(filelist)"
   ]
  },
  {
   "cell_type": "code",
   "execution_count": 7,
   "id": "9669d551",
   "metadata": {
    "scrolled": true
   },
   "outputs": [
    {
     "name": "stdout",
     "output_type": "stream",
     "text": [
      "['/lustre/aoc/students/jsofair/filterbank/Band_Test_BD_C512-beam0001.fil', '/lustre/aoc/students/jsofair/filterbank/band_test_AC_C512-beam0001.fil', '/lustre/aoc/students/jsofair/filterbank/Band_Test_BD_C0-beam0001.fil', '/lustre/aoc/students/jsofair/filterbank/band_test_GPU3_BD_C32-beam0001.fil', '/lustre/aoc/students/jsofair/filterbank/band_test_AC_C32-beam0001.fil', '/lustre/aoc/students/jsofair/filterbank/band_test_AC_C544-beam0001.fil']\n"
     ]
    },
    {
     "data": {
      "text/plain": [
       "'/lustre/aoc/students/jsofair/filterbank/Band_Test_BD_C512-beam0001.fil'"
      ]
     },
     "execution_count": 7,
     "metadata": {},
     "output_type": "execute_result"
    }
   ],
   "source": [
    "print(filelist)\n",
    "os.path.normpath(filelist[0])"
   ]
  },
  {
   "cell_type": "code",
   "execution_count": 8,
   "id": "c744f343",
   "metadata": {},
   "outputs": [
    {
     "name": "stdout",
     "output_type": "stream",
     "text": [
      "\n",
      "--- File Info ---\n",
      "      machine_id :                                0\n",
      "    telescope_id :                               -1\n",
      "         src_raj :                 4:09:22.00873993\n",
      "         src_dej :                12:17:39.84749624\n",
      "        az_start :             6.9287069824102e-310\n",
      "        za_start :             4.6633787335631e-310\n",
      "       data_type :                                1\n",
      "            fch1 :           3532.4999961853027 MHz\n",
      "            foff :           -7.62939453125e-06 MHz\n",
      "          nchans :                          4194304\n",
      "          nbeams :                                2\n",
      "           ibeam :                                1\n",
      "           nbits :                               32\n",
      "   tstart (ISOT) :          2023-05-10T22:08:42.502\n",
      "    tstart (MJD) :               60074.922714145854\n",
      "           tsamp :                         0.131072\n",
      "            nifs :                                1\n",
      "     barycentric :                                1\n",
      "   pulsarcentric :                                1\n",
      "     source_name :                       Incoherent\n",
      "     rawdatafile : TCOS0001_sb43905589_1_1_001.60074.91866136574.4.1.BD.C512\n",
      "\n",
      "Num ints in file :                              512\n",
      "      File shape :                (512, 1, 4194304)\n",
      "--- Selection Info ---\n",
      "Data selection shape :                (512, 1, 4194304)\n",
      "Minimum freq (MHz) :               3500.5000038146973\n",
      "Maximum freq (MHz) :               3532.4999961853027\n"
     ]
    }
   ],
   "source": [
    "water0.info()"
   ]
  },
  {
   "cell_type": "code",
   "execution_count": 16,
   "id": "708a38b6",
   "metadata": {},
   "outputs": [
    {
     "name": "stdout",
     "output_type": "stream",
     "text": [
      "['2023-5-10T22:8:42.502201796', '2023-5-10T22:8:42.502201796', '2023-5-10T21:56:53.857161999', '2023-5-10T21:56:53.857161999', '2023-5-10T21:56:53.857161999', '2023-5-10T22:8:42.502201796']\n"
     ]
    }
   ],
   "source": [
    "# Observation date: 5/10/2023\n",
    "times = [] \n",
    "for file in water_list:\n",
    "    time_mjd = Time(file.header['tstart'], format='mjd')\n",
    "    time_ymdhms = (time_mjd.to_value('ymdhms'))\n",
    "    time_ymdhms_formatted = f\"{time_ymdhms[0]}-{time_ymdhms[1]}-{time_ymdhms[2]}T{time_ymdhms[3]}:{time_ymdhms[4]}:{time_ymdhms[5]}\"\n",
    "    times.append(time_ymdhms_formatted)\n",
    "\n",
    "print(times)\n",
    "\n",
    "# print(times[0] == times[1])\n",
    "# print(times[2] == times[3])\n",
    "# print(times[2] == times[4])\n",
    "\n",
    "# for i in water0.header.values():\n",
    "#     if water0.header.values[i] != water0.header.values[i]:\n",
    "#         print(water0.header[i])\n",
    "#         print(water1.header[i])\n"
   ]
  },
  {
   "cell_type": "code",
   "execution_count": 10,
   "id": "e3dcb4eb",
   "metadata": {},
   "outputs": [],
   "source": [
    "water0_abr = Waterfall(os.path.normpath(filelist[0]), max_load = ml_list[0], f_start = 3514, f_stop=3517)"
   ]
  },
  {
   "cell_type": "code",
   "execution_count": 11,
   "id": "dde565b4",
   "metadata": {},
   "outputs": [
    {
     "name": "stdout",
     "output_type": "stream",
     "text": [
      "Plotting Min Max\n",
      "averaging along time axis...\n",
      "Plotting Spectrum\n",
      "extracting integration 0...\n",
      "Plotting Waterfall\n",
      "Plotting Timeseries\n",
      "Plotting Kurtosis\n"
     ]
    },
    {
     "name": "stderr",
     "output_type": "stream",
     "text": [
      "/lustre/aoc/students/jsofair/jnrao/lib/python3.8/site-packages/numpy/core/_methods.py:181: RuntimeWarning: overflow encountered in reduce\n",
      "  ret = umr_sum(arr, axis, dtype, out, keepdims, where=where)\n"
     ]
    },
    {
     "name": "stdout",
     "output_type": "stream",
     "text": [
      "Plotting Header\n"
     ]
    }
   ],
   "source": [
    "plt.figure()\n",
    "water0_abr.plot_all()"
   ]
  },
  {
   "cell_type": "code",
   "execution_count": 12,
   "id": "92ade54a",
   "metadata": {},
   "outputs": [
    {
     "name": "stdout",
     "output_type": "stream",
     "text": [
      "Plotting Min Max\n",
      "averaging along time axis...\n",
      "Plotting Spectrum\n",
      "extracting integration 0...\n",
      "Plotting Waterfall\n",
      "Plotting Timeseries\n",
      "Plotting Kurtosis\n",
      "Plotting Header\n",
      "Elapsed time: 7.738856315612793\n"
     ]
    }
   ],
   "source": [
    "t0 = time.time()\n",
    "\n",
    "plt.figure()\n",
    "water0_abr.plot_all()\n",
    "\n",
    "t1 = time.time()\n",
    "print(f'Elapsed time: {t1 - t0}')"
   ]
  },
  {
   "cell_type": "code",
   "execution_count": 13,
   "id": "0ce6fd2a",
   "metadata": {},
   "outputs": [],
   "source": [
    "water0_abr2 = Waterfall(os.path.normpath(filelist[0]), max_load = ml_list[0], f_start = 3501, f_stop=3506)"
   ]
  },
  {
   "cell_type": "code",
   "execution_count": 14,
   "id": "26381d97",
   "metadata": {},
   "outputs": [
    {
     "name": "stderr",
     "output_type": "stream",
     "text": [
      "/lustre/aoc/students/jsofair/jnrao/lib/python3.8/site-packages/scipy/stats/_stats_py.py:1203: RuntimeWarning: overflow encountered in square\n",
      "  s = s**2\n"
     ]
    },
    {
     "name": "stdout",
     "output_type": "stream",
     "text": [
      "Elapsed time: 9.312691926956177\n"
     ]
    }
   ],
   "source": [
    "t0 = time.time()\n",
    "\n",
    "water0_abr2.plot_kurtosis()\n",
    "plt.ylim([3,6])\n",
    "plt.figure()\n",
    "plt.show()\n",
    "\n",
    "t1 = time.time()\n",
    "print(f'Elapsed time: {t1 - t0}')"
   ]
  },
  {
   "cell_type": "markdown",
   "id": "3f192dab",
   "metadata": {},
   "source": [
    "---\n",
    "**Self-made kurtosis plot(s)?** Here's my plan:\n",
    "- Break up waterN.freqs into channels of width w\n",
    "- Calculate the kurtosis of each channel\n",
    "- Create an array that contains all channels with kurtosis > 0 (the Fisher definition is used by default)\n",
    "- Compare these channels with Dept. of Commerce graph to see where RFI might be coming in\n",
    "- Will also compare to waterN+1.freqs, etc. to see common threads to identify RFI"
   ]
  },
  {
   "cell_type": "markdown",
   "id": "b3203880",
   "metadata": {},
   "source": [
    "**Step 1:** Break up waterN.freqs into channels of width w"
   ]
  },
  {
   "cell_type": "code",
   "execution_count": 17,
   "id": "51257643",
   "metadata": {},
   "outputs": [
    {
     "name": "stdout",
     "output_type": "stream",
     "text": [
      "Waterfall data: /lustre/aoc/students/jsofair/filterbank/Band_Test_BD_C512-beam0001.fil\n"
     ]
    },
    {
     "ename": "AttributeError",
     "evalue": "'Waterfall' object has no attribute 'freqs'",
     "output_type": "error",
     "traceback": [
      "\u001b[0;31m---------------------------------------------------------------------------\u001b[0m",
      "\u001b[0;31mAttributeError\u001b[0m                            Traceback (most recent call last)",
      "Cell \u001b[0;32mIn[17], line 2\u001b[0m\n\u001b[1;32m      1\u001b[0m \u001b[38;5;28mprint\u001b[39m(water0)\n\u001b[0;32m----> 2\u001b[0m min_f \u001b[38;5;241m=\u001b[39m \u001b[38;5;28mint\u001b[39m(np\u001b[38;5;241m.\u001b[39mround(\u001b[43mwater0\u001b[49m\u001b[38;5;241;43m.\u001b[39;49m\u001b[43mfreqs\u001b[49m[\u001b[38;5;28mlen\u001b[39m(water0\u001b[38;5;241m.\u001b[39mfreqs)\u001b[38;5;241m-\u001b[39m\u001b[38;5;241m1\u001b[39m]))\n\u001b[1;32m      3\u001b[0m max_f \u001b[38;5;241m=\u001b[39m \u001b[38;5;28mint\u001b[39m(np\u001b[38;5;241m.\u001b[39mround(water0\u001b[38;5;241m.\u001b[39mfreqs[\u001b[38;5;241m0\u001b[39m]))\n\u001b[1;32m      5\u001b[0m \u001b[38;5;124;03m'''\u001b[39;00m\n\u001b[1;32m      6\u001b[0m \u001b[38;5;124;03mFor now, this is all just using water0. Eventually, I want this to hit the point\u001b[39;00m\n\u001b[1;32m      7\u001b[0m \u001b[38;5;124;03mwhere it will go through all N of the .fil files\u001b[39;00m\n\u001b[1;32m      8\u001b[0m \u001b[38;5;124;03m'''\u001b[39;00m\n",
      "\u001b[0;31mAttributeError\u001b[0m: 'Waterfall' object has no attribute 'freqs'"
     ]
    }
   ],
   "source": [
    "print(water0)\n",
    "min_f = int(np.round(water0.freqs[len(water0.freqs)-1]))\n",
    "max_f = int(np.round(water0.freqs[0]))\n",
    "\n",
    "'''\n",
    "For now, this is all just using water0. Eventually, I want this to hit the point\n",
    "where it will go through all N of the .fil files\n",
    "'''\n",
    "\n",
    "# Create an array of channel borders for each .fil file\n",
    "all_channels = []\n",
    "\n",
    "for i in range(0, len(water_list)):\n",
    "    exec(f'water{i}_channels = []')\n",
    "    exec(f'all_channels.append(water{i}_channels)')\n",
    "\n",
    "\n",
    "    \n",
    "print(max_f, min_f)\n",
    "# Add channel divisions to an array\n",
    "for j in enumerate(range(min_f, max_f, 5)):\n",
    "    freq = j[1]\n",
    "    exec(f'water{0}_channels.append(freq)')\n",
    "    \n",
    "\n",
    "\n",
    "# for i, freq in enumerate(range(0, len(water_list))):\n",
    "#     for j in enumerate(range(min_f, max_f, 10)):\n",
    "#         print(freq)\n",
    "#         exec(f'water{i}_channels.append(freq)')\n",
    "\n",
    "# for i, freq in enumerate(range(0, len(water_list))):\n",
    "#     for j in enumerate(range(min_f, max_f, 10)):\n",
    "\n",
    "print(all_channels)\n",
    "print(water0_channels)"
   ]
  },
  {
   "cell_type": "markdown",
   "id": "f4aa0153",
   "metadata": {},
   "source": [
    "**Step 2:** Calculate the kurtosis of each channel"
   ]
  },
  {
   "cell_type": "code",
   "execution_count": null,
   "id": "9d4ea4ad",
   "metadata": {},
   "outputs": [],
   "source": [
    "# Grouping channels\n",
    "# chnl = water0.freqs[div[i-1]:div[i]]\n",
    "\n",
    "# print(water0.freqs[0:2])\n",
    "\n",
    "\n",
    "def channel_kurtosis(arr, min, max):\n",
    "    chnl = ma.masked_outside(arr, min, max)\n",
    "    return kurtosis(chnl)\n",
    "\n",
    "\n",
    "for i, j in enumerate(range(0, len(all_channels[0]))):\n",
    "    exec(f'channel_kurtosis(water{i}.freqs, min_f, max_f)')\n",
    "\n",
    "channel_kurtosis(water0.freqs, 3501, 3506)"
   ]
  },
  {
   "cell_type": "code",
   "execution_count": null,
   "id": "dc3baf60",
   "metadata": {},
   "outputs": [],
   "source": [
    "# i = 0 # i goes through the waterN\n",
    "# j = 0 # j goes through the elements of the waterN borders\n",
    "# while i <= len(water0.freqs)-2:\n",
    "#     chnl = ma.masked_outside(water0.freqs, all_channels[i][j], all_channels[i][j+1])\n",
    "#     print(chnl)\n",
    "#     i += 2\n",
    "#     j += 1\n",
    "print(ma.masked_outside(water0.freqs, 3501, 3506))\n",
    "print(kurtosis(ma.masked_outside(water0.freqs, 3501, 3506)))\n",
    "\n",
    "# indeces = np.where((water0.freqs > 3501) & (water0.freqs < 3506))\n",
    "a = water0.freqs[indeces]\n",
    "print(kurtosis(a), kurtosistest(a))\n",
    "print(a, len(a))\n",
    "len(water0.freqs)"
   ]
  },
  {
   "cell_type": "code",
   "execution_count": null,
   "id": "46f41535",
   "metadata": {},
   "outputs": [],
   "source": []
  },
  {
   "cell_type": "code",
   "execution_count": null,
   "id": "b4dd8f1a",
   "metadata": {},
   "outputs": [],
   "source": [
    "water0_abr2.plot_kurtosis(f_start=3501, f_stop=3506)\n",
    "plt.figure()"
   ]
  },
  {
   "cell_type": "code",
   "execution_count": null,
   "id": "e90d464a",
   "metadata": {},
   "outputs": [],
   "source": [
    "# print(all_channels[0][0], all_channels[0][1])\n",
    "\n",
    "# chnl = water0.freqs\n",
    "# print(chnl)\n",
    "# for i, water in enumerate(all_channels):\n",
    "#     for j, div in enumerate(water0.freqs):\n",
    "#         print(div)\n",
    "#         chnl = water[0:div]\n",
    "#         print(chnl)"
   ]
  },
  {
   "cell_type": "markdown",
   "id": "66194d1b",
   "metadata": {},
   "source": [
    "**Step 3:** Create an array that contains all channels with kurtosis > 0 (the Fisher definition is used by default)"
   ]
  },
  {
   "cell_type": "markdown",
   "id": "11be9e6a",
   "metadata": {},
   "source": [
    "**Step 4:** Compare these channels with Dept. of Commerce graph to see where RFI might be coming in"
   ]
  },
  {
   "cell_type": "markdown",
   "id": "46abb9af",
   "metadata": {},
   "source": [
    "**Step 5:** Will also compare to waterN+1.freqs, etc. to see common threads to identify RFI"
   ]
  },
  {
   "cell_type": "markdown",
   "id": "fcd9f51e",
   "metadata": {},
   "source": [
    "---"
   ]
  },
  {
   "cell_type": "code",
   "execution_count": null,
   "id": "eaef1306",
   "metadata": {},
   "outputs": [],
   "source": [
    "# kurtosis(water0.freqs)\n",
    "water0.freqs"
   ]
  },
  {
   "cell_type": "code",
   "execution_count": null,
   "id": "22721ea1",
   "metadata": {},
   "outputs": [],
   "source": [
    "print(filelist[0][40:])\n",
    "plt.figure()\n",
    "water0.plot_waterfall(vmin=90, vmax=100)"
   ]
  },
  {
   "cell_type": "code",
   "execution_count": null,
   "id": "9a1f6e59",
   "metadata": {},
   "outputs": [],
   "source": [
    "print(filelist[1][40:])\n",
    "plt.figure()\n",
    "water1.plot_waterfall(vmin=90, vmax=100)"
   ]
  },
  {
   "cell_type": "code",
   "execution_count": null,
   "id": "0006548f",
   "metadata": {},
   "outputs": [],
   "source": [
    "print(filelist[2][40:])\n",
    "plt.figure()\n",
    "water2.plot_waterfall()"
   ]
  },
  {
   "cell_type": "code",
   "execution_count": null,
   "id": "2d03f21f",
   "metadata": {},
   "outputs": [],
   "source": [
    "water3.info()"
   ]
  },
  {
   "cell_type": "code",
   "execution_count": null,
   "id": "8a7d365a",
   "metadata": {},
   "outputs": [],
   "source": [
    "print(filelist[3][40:])\n",
    "plt.figure()\n",
    "water3.plot_waterfall()"
   ]
  },
  {
   "cell_type": "code",
   "execution_count": null,
   "id": "f86ce581",
   "metadata": {},
   "outputs": [],
   "source": [
    "print(filelist[4][40:])\n",
    "plt.figure()\n",
    "water4.plot_waterfall()"
   ]
  },
  {
   "cell_type": "code",
   "execution_count": null,
   "id": "47fa1d4b",
   "metadata": {},
   "outputs": [],
   "source": [
    "print(filelist[5][40:])\n",
    "plt.figure()\n",
    "water5.plot_waterfall()"
   ]
  },
  {
   "cell_type": "code",
   "execution_count": null,
   "id": "f6a320dc",
   "metadata": {},
   "outputs": [],
   "source": [
    "# print(np.max(water0.freqs), np.min(water0.freqs))\n",
    "water0.freqs"
   ]
  },
  {
   "cell_type": "code",
   "execution_count": null,
   "id": "95b343ce",
   "metadata": {},
   "outputs": [],
   "source": [
    "water0.plot_spectrum(t=0,f_start=3500,f_stop=3502)"
   ]
  },
  {
   "cell_type": "markdown",
   "id": "83c3091c",
   "metadata": {},
   "source": [
    "^^ Interesting...? Seems like there's nothing there except in the ~3500-3501.5 MHz range"
   ]
  },
  {
   "cell_type": "code",
   "execution_count": null,
   "id": "ea2ad81f",
   "metadata": {},
   "outputs": [],
   "source": [
    "water1.freqs"
   ]
  },
  {
   "cell_type": "code",
   "execution_count": null,
   "id": "04f835fa",
   "metadata": {},
   "outputs": [],
   "source": [
    "water1.plot_spectrum(f_start=2476, f_stop=2478)"
   ]
  },
  {
   "cell_type": "code",
   "execution_count": null,
   "id": "d8f19271",
   "metadata": {},
   "outputs": [],
   "source": [
    "water2.freqs"
   ]
  },
  {
   "cell_type": "code",
   "execution_count": null,
   "id": "10a18342",
   "metadata": {},
   "outputs": [],
   "source": [
    "water2.plot_spectrum()"
   ]
  },
  {
   "cell_type": "code",
   "execution_count": null,
   "id": "e36c1d7b",
   "metadata": {},
   "outputs": [],
   "source": [
    "water3.freqs"
   ]
  },
  {
   "cell_type": "code",
   "execution_count": null,
   "id": "27ac13cc",
   "metadata": {},
   "outputs": [],
   "source": [
    "water3.plot_spectrum()"
   ]
  },
  {
   "cell_type": "code",
   "execution_count": null,
   "id": "8a231427",
   "metadata": {},
   "outputs": [],
   "source": [
    "water4.freqs"
   ]
  },
  {
   "cell_type": "code",
   "execution_count": null,
   "id": "21fbeca4",
   "metadata": {},
   "outputs": [],
   "source": [
    "water4.plot_spectrum()"
   ]
  },
  {
   "cell_type": "code",
   "execution_count": null,
   "id": "e03136df",
   "metadata": {},
   "outputs": [],
   "source": [
    "water5.freqs"
   ]
  },
  {
   "cell_type": "code",
   "execution_count": null,
   "id": "42808cb5",
   "metadata": {},
   "outputs": [],
   "source": [
    "water5.plot_spectrum()"
   ]
  },
  {
   "cell_type": "code",
   "execution_count": null,
   "id": "640a09d2",
   "metadata": {},
   "outputs": [],
   "source": [
    "data_test = water5.data\n",
    "print(data_test.shape)\n",
    "test_mean = np.mean(data_test, axis=0)\n",
    "print(test_mean, len(test_mean[0]))\n",
    "test_mean0 = test_mean[0]\n",
    "print(test_mean0.shape)\n",
    "print(test_mean0)"
   ]
  },
  {
   "cell_type": "code",
   "execution_count": null,
   "id": "93b6e3b3",
   "metadata": {},
   "outputs": [],
   "source": [
    "# plt.xlim([2510,2515])\n",
    "plt.ylim([0,0.5*10**11])\n",
    "plt.plot(water5.freqs, test_mean0)"
   ]
  },
  {
   "cell_type": "code",
   "execution_count": null,
   "id": "1999641d",
   "metadata": {},
   "outputs": [],
   "source": [
    "water5.plot_histogram()"
   ]
  },
  {
   "cell_type": "code",
   "execution_count": null,
   "id": "88601c99",
   "metadata": {},
   "outputs": [],
   "source": []
  }
 ],
 "metadata": {
  "kernelspec": {
   "display_name": "Python 3 (ipykernel)",
   "language": "python",
   "name": "python3"
  },
  "language_info": {
   "codemirror_mode": {
    "name": "ipython",
    "version": 3
   },
   "file_extension": ".py",
   "mimetype": "text/x-python",
   "name": "python",
   "nbconvert_exporter": "python",
   "pygments_lexer": "ipython3",
   "version": "3.8.2"
  }
 },
 "nbformat": 4,
 "nbformat_minor": 5
}
