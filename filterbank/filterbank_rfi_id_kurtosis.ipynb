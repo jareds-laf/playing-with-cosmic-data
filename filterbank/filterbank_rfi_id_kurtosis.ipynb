{
 "cells": [
  {
   "cell_type": "code",
   "execution_count": 1,
   "id": "1f069aa6",
   "metadata": {},
   "outputs": [],
   "source": [
    "import matplotlib"
   ]
  },
  {
   "cell_type": "code",
   "execution_count": 2,
   "id": "249fa161",
   "metadata": {},
   "outputs": [],
   "source": [
    "# %matplotlib qt\n",
    "# matplotlib.use('TkAgg')\n",
    "import matplotlib.pyplot as plt\n",
    "# import pylab as plt\n",
    "import blimpy\n",
    "from blimpy import Waterfall\n",
    "from blimpy import calcload\n",
    "import os\n",
    "import glob\n",
    "import numpy as np\n",
    "import time\n",
    "from scipy.stats import norm, kurtosis\n",
    "import scipy\n",
    "import numpy.ma as ma\n",
    "import pandas as pd\n",
    "from crickets.plotting import plot_tavg_power, plot_mask_exkurt"
   ]
  },
  {
   "cell_type": "code",
   "execution_count": 2,
   "id": "c1e7f7c0",
   "metadata": {},
   "outputs": [
    {
     "ename": "ModuleNotFoundError",
     "evalue": "No module named 'analysis_functions'",
     "output_type": "error",
     "traceback": [
      "\u001b[0;31m---------------------------------------------------------------------------\u001b[0m",
      "\u001b[0;31mModuleNotFoundError\u001b[0m                       Traceback (most recent call last)",
      "Cell \u001b[0;32mIn[2], line 1\u001b[0m\n\u001b[0;32m----> 1\u001b[0m \u001b[39mfrom\u001b[39;00m \u001b[39mcosmic_flag_rfi_kurtosis\u001b[39;00m\u001b[39m.\u001b[39;00m\u001b[39mplotting_functions\u001b[39;00m \u001b[39mimport\u001b[39;00m plot_exkurt\n",
      "File \u001b[0;32m~/nrao_summer_2023/.testcfrk/lib/python3.10/site-packages/cosmic_flag_rfi_kurtosis/plotting_functions.py:4\u001b[0m\n\u001b[1;32m      2\u001b[0m \u001b[39mimport\u001b[39;00m \u001b[39mnumpy\u001b[39;00m \u001b[39mas\u001b[39;00m \u001b[39mnp\u001b[39;00m\n\u001b[1;32m      3\u001b[0m \u001b[39mimport\u001b[39;00m \u001b[39mos\u001b[39;00m\n\u001b[0;32m----> 4\u001b[0m \u001b[39mfrom\u001b[39;00m \u001b[39manalysis_functions\u001b[39;00m \u001b[39mimport\u001b[39;00m get_exkurt\n\u001b[1;32m      7\u001b[0m \u001b[39m# TODO: Make it so that these functions access the table that\u001b[39;00m\n\u001b[1;32m      8\u001b[0m \u001b[39m# was created by the write_output_table() function!\u001b[39;00m\n\u001b[1;32m      9\u001b[0m \u001b[39m'''^^ This is definitely a stretch goal. It's more of an optimization thing.\u001b[39;00m\n\u001b[1;32m     10\u001b[0m \u001b[39mIt would take some more structural changes I don't have time to deal with this summer!'''\u001b[39;00m\n",
      "\u001b[0;31mModuleNotFoundError\u001b[0m: No module named 'analysis_functions'"
     ]
    }
   ],
   "source": [
    "from cosmic_flag_rfi_kurtosis.plotting_functions import plot_exkurt"
   ]
  },
  {
   "cell_type": "code",
   "execution_count": 24,
   "id": "f2581022",
   "metadata": {},
   "outputs": [],
   "source": [
    "%matplotlib inline"
   ]
  },
  {
   "cell_type": "code",
   "execution_count": 3,
   "id": "29949200",
   "metadata": {},
   "outputs": [],
   "source": [
    "# import sys\n",
    "file_path = '/lustre/aoc/students/jsofair/filterbank/'\n",
    "# sys.path.insert(1, file_path[:54])"
   ]
  },
  {
   "cell_type": "code",
   "execution_count": 36,
   "id": "e853f6ea",
   "metadata": {},
   "outputs": [],
   "source": [
    "%matplotlib inline"
   ]
  },
  {
   "cell_type": "code",
   "execution_count": 18,
   "id": "ae51cadd-1357-4ac6-aedc-2905736c0ff1",
   "metadata": {},
   "outputs": [
    {
     "name": "stdout",
     "output_type": "stream",
     "text": [
      "11.0 -- band_test_AC_CO-beam0001.fil\n",
      "9.0 -- band_test_AC_C512-beam0001.fil\n",
      "11.0 -- Band_Test_BD_C0-beam0001.fil\n"
     ]
    }
   ],
   "source": [
    "fil_loc = os.path.expanduser('~/nrao_summer_2023/filterbank/*.fil')\n",
    "file_list = glob.glob(fil_loc)\n",
    "\n",
    "ml_list = []\n",
    "name_index = fil_loc.rfind('/') + 1\n",
    "for i, file in enumerate(file_list):\n",
    "    ml = blimpy.calcload.calc_max_load(os.path.join(file))\n",
    "    ml_list.append(ml)\n",
    "    print(f'{ml} -- {file[file.rfind(\"/\")+1:]}')"
   ]
  },
  {
   "cell_type": "code",
   "execution_count": 3,
   "id": "e76a05fb",
   "metadata": {},
   "outputs": [],
   "source": [
    "filfil = os.path.expanduser('/home/sofairj/nrao_summer_2023/filterbank/band_test_AC_C544-beam0001.fil')"
   ]
  },
  {
   "cell_type": "code",
   "execution_count": 4,
   "id": "78330faf",
   "metadata": {},
   "outputs": [
    {
     "name": "stdout",
     "output_type": "stream",
     "text": [
      "\n",
      "Generating waterfall object...\n",
      "Done. Elapsed time: 6.636639833450317\n"
     ]
    }
   ],
   "source": [
    "t0 = time.time()\n",
    "print('\\nGenerating waterfall object...')\n",
    "ml = blimpy.calcload.calc_max_load(filfil)\n",
    "wf = Waterfall(os.path.normpath(filfil), max_load = ml)\n",
    "t1 = time.time()\n",
    "print(f'Done. Elapsed time: {t1 - t0}')"
   ]
  },
  {
   "cell_type": "code",
   "execution_count": 5,
   "id": "ed3c026a",
   "metadata": {},
   "outputs": [
    {
     "name": "stdout",
     "output_type": "stream",
     "text": [
      "Start time: 14:19:33\n",
      "Elapsed time: 202.60843014717102\n"
     ]
    }
   ],
   "source": [
    "wf.info()"
   ]
  },
  {
   "cell_type": "code",
   "execution_count": null,
   "id": "4fac81a6",
   "metadata": {},
   "outputs": [],
   "source": [
    "\n",
    "t0=time.time()\n",
    "print(f'Start time: {time.strftime(\"%H:%M:%S\", time.localtime())}')\n",
    "water0 = Waterfall(os.path.normpath(file_list[0]), max_load = ml_list[0])\n",
    "water1 = Waterfall(os.path.normpath(file_list[1]), max_load = ml_list[1])\n",
    "water2 = Waterfall(os.path.normpath(file_list[2]), max_load = ml_list[2])\n",
    "# water3 = Waterfall(os.path.normpath(file_list[3]), max_load = ml_list[3])\n",
    "# water4 = Waterfall(os.path.normpath(file_list[4]), max_load = ml_list[4])\n",
    "# water5 = Waterfall(os.path.normpath(file_list[5]), max_load = ml_list[5])\n",
    "# water6 = Waterfall(os.path.normpath(file_list[6]), max_load = ml_list[6])\n",
    "\n",
    "# water_list = [water0, water1, water2, water3, water4, water5, water6]\n",
    "# water_list = [0, water1, water2, water3, water4, 0, 0]\n",
    "water_list = [water0, water1, water2, 0, 0, 0, 0]\n",
    "# print(water_list)\n",
    "\n",
    "t1 = time.time()\n",
    "print(f'Elapsed time: {t1 - t0}')\n",
    "\n"
   ]
  },
  {
   "cell_type": "code",
   "execution_count": 21,
   "id": "bb0dad3f",
   "metadata": {},
   "outputs": [
    {
     "name": "stdout",
     "output_type": "stream",
     "text": [
      "2508.0 2541.0\n"
     ]
    }
   ],
   "source": [
    "f_min = np.floor(np.amin(wf.get_freqs()))\n",
    "f_max = np.ceil(np.amax(wf.get_freqs()))\n",
    "\n",
    "print(f_min, f_max)\n"
   ]
  },
  {
   "cell_type": "code",
   "execution_count": 22,
   "id": "5a74f822",
   "metadata": {},
   "outputs": [
    {
     "ename": "NameError",
     "evalue": "name 'plot_tavg_power' is not defined",
     "output_type": "error",
     "traceback": [
      "\u001b[0;31m---------------------------------------------------------------------------\u001b[0m",
      "\u001b[0;31mNameError\u001b[0m                                 Traceback (most recent call last)",
      "Cell \u001b[0;32mIn[22], line 1\u001b[0m\n\u001b[0;32m----> 1\u001b[0m \u001b[43mplot_tavg_power\u001b[49m(wf, n_divs\u001b[38;5;241m=\u001b[39m\u001b[38;5;241m256\u001b[39m, threshold\u001b[38;5;241m=\u001b[39m\u001b[38;5;241m5\u001b[39m, f_start\u001b[38;5;241m=\u001b[39mf_min, f_stop\u001b[38;5;241m=\u001b[39mf_max, p_start \u001b[38;5;241m=\u001b[39m \u001b[38;5;241m0\u001b[39m, p_stop \u001b[38;5;241m=\u001b[39m \u001b[38;5;241m2\u001b[39m\u001b[38;5;241m*\u001b[39m\u001b[38;5;241m10\u001b[39m\u001b[38;5;241m*\u001b[39m\u001b[38;5;241m*\u001b[39m\u001b[38;5;241m10\u001b[39m)\n",
      "\u001b[0;31mNameError\u001b[0m: name 'plot_tavg_power' is not defined"
     ]
    }
   ],
   "source": [
    "plot_tavg_power(wf, n_divs=256, threshold=5, f_start=f_min, f_stop=f_max, p_start = 0, p_stop = 2*10**10)"
   ]
  },
  {
   "cell_type": "code",
   "execution_count": 8,
   "id": "5d3ce790",
   "metadata": {},
   "outputs": [
    {
     "name": "stdout",
     "output_type": "stream",
     "text": [
      "[{3500.5000038146973: 1}, {2476.5000038146973: 2}, {2988.5000038146973: 3}, {3020.5000038146973: 4}]\n"
     ]
    }
   ],
   "source": [
    "freq_borders = []\n",
    "for i, wf in enumerate(water_list):\n",
    "    if wf != 0:\n",
    "        freq_borders.append({np.amin(wf.get_freqs()) : i})\n",
    "print(freq_borders)\n",
    "# np.set_printoptions(threshold=50)\n",
    "# print(np.sort(freq_borders, axis=0))"
   ]
  },
  {
   "cell_type": "code",
   "execution_count": 53,
   "id": "4e863293",
   "metadata": {},
   "outputs": [],
   "source": [
    "np.sort?"
   ]
  },
  {
   "cell_type": "code",
   "execution_count": 48,
   "id": "a3903056",
   "metadata": {},
   "outputs": [
    {
     "name": "stdout",
     "output_type": "stream",
     "text": [
      "\n",
      "--- File Info ---\n",
      "      machine_id :                                0\n",
      "    telescope_id :                               -1\n",
      "         src_raj :                 4:09:22.00873993\n",
      "         src_dej :                12:17:39.84749624\n",
      "        az_start :             6.9103053001604e-310\n",
      "        za_start :             4.6806657495702e-310\n",
      "       data_type :                                1\n",
      "            fch1 :           3020.4999961853027 MHz\n",
      "            foff :           -7.62939453125e-06 MHz\n",
      "          nchans :                          4194304\n",
      "          nbeams :                                2\n",
      "           ibeam :                                1\n",
      "           nbits :                               32\n",
      "   tstart (ISOT) :          2023-05-10T21:56:53.857\n",
      "    tstart (MJD) :                60074.91451223567\n",
      "           tsamp :                         0.131072\n",
      "            nifs :                                1\n",
      "     barycentric :                                1\n",
      "   pulsarcentric :                                1\n",
      "     source_name :                       Incoherent\n",
      "     rawdatafile : TCOS0001_sb43905589_1_1_000.60074.91206391204.3.1.BD.C0\n",
      "\n",
      "Num ints in file :                              640\n",
      "      File shape :                (640, 1, 4194304)\n",
      "--- Selection Info ---\n",
      "Data selection shape :                (640, 1, 4194304)\n",
      "Minimum freq (MHz) :               2988.5000038146973\n",
      "Maximum freq (MHz) :               3020.4999961853027\n"
     ]
    }
   ],
   "source": [
    "water2.info()\n"
   ]
  },
  {
   "cell_type": "code",
   "execution_count": null,
   "id": "1a9de900",
   "metadata": {},
   "outputs": [],
   "source": [
    "f_min0 = np.amin(water0.get_freqs())\n",
    "f_max0 = np.amax(water0.get_freqs())\n",
    "\n",
    "f_min1 = np.amin(water1.get_freqs())\n",
    "f_max1 = np.amax(water1.get_freqs())\n",
    "\n",
    "f_min2 = np.amin(water2.get_freqs())\n",
    "f_max2 = np.amax(water2.get_freqs())"
   ]
  },
  {
   "cell_type": "code",
   "execution_count": 34,
   "id": "507cc0da",
   "metadata": {},
   "outputs": [
    {
     "name": "stdout",
     "output_type": "stream",
     "text": [
      "2476.5000038146973 2508.4999961853027\n"
     ]
    }
   ],
   "source": [
    "for i, wf in enumerate(water_list):\n",
    "    if (i+1 > 0) & (i+1 < 2):\n",
    "        exec(f'f_min{i+1} = (np.amin(water{i+1}.get_freqs()))')\n",
    "        exec(f'f_max{i+1} = (np.amax(water{i+1}.get_freqs()))')\n",
    "        exec(f'print(f_min{i+1}, f_max{i+1})')\n",
    "# 640 channels (not true for every file!)\n",
    "# ~4.2 M fine frequency channels (seems to be true for every file I've worked with thus far!)\n"
   ]
  },
  {
   "cell_type": "code",
   "execution_count": 82,
   "id": "761d50d8",
   "metadata": {},
   "outputs": [
    {
     "name": "stdout",
     "output_type": "stream",
     "text": [
      "No infinite kurtoses found\n",
      "45 out of 256 channels flagged as having substantial RFI\n",
      "\n",
      "\n",
      "I think this is where the problem is happening?\n",
      "Info about flagged_bins: (256,), <class 'numpy.ma.core.MaskedArray'>, 45/256\n",
      "\n",
      "\n",
      "Here is flagged_bins: [2988.5000038146973 2988.6250038146973 2988.7500038146973\n",
      " 2988.8750038146973 2989.0000038146973 2989.1250038146973\n",
      " 2989.2500038146973 2989.3750038146973 2989.5000038146973 --\n",
      " 2989.7500038146973 2989.8750038146973 2990.0000038146973\n",
      " 2990.1250038146973 2990.2500038146973 2990.3750038146973\n",
      " 2990.5000038146973 -- 2990.7500038146973 2990.8750038146973 --\n",
      " 2991.1250038146973 -- 2991.3750038146973 2991.5000038146973 --\n",
      " 2991.7500038146973 2991.8750038146973 2992.0000038146973\n",
      " 2992.1250038146973 2992.2500038146973 -- -- 2992.6250038146973\n",
      " 2992.7500038146973 2992.8750038146973 2993.0000038146973 -- -- -- -- --\n",
      " -- 2993.8750038146973 2994.0000038146973 -- -- -- -- -- -- --\n",
      " 2995.0000038146973 -- -- -- -- -- -- -- 2996.0000038146973\n",
      " 2996.1250038146973 -- -- -- -- 2996.7500038146973 2996.8750038146973\n",
      " 2997.0000038146973 -- -- -- -- -- -- -- -- -- -- -- -- -- -- -- -- -- --\n",
      " -- -- -- -- -- -- -- -- -- -- -- -- -- -- -- -- -- -- -- -- -- -- -- --\n",
      " -- -- -- -- -- -- -- -- -- -- -- -- -- -- -- -- -- -- -- --\n",
      " 3004.8750038146973 3005.0000038146973 -- -- -- -- -- -- --\n",
      " 3006.0000038146973 -- -- -- -- -- -- -- -- -- -- -- -- -- -- -- -- -- --\n",
      " -- -- -- -- -- 3009.0000038146973 -- -- -- -- -- -- -- -- -- -- -- -- --\n",
      " -- -- -- -- -- -- -- -- -- -- -- -- -- -- -- -- -- -- -- -- -- -- -- --\n",
      " -- -- -- -- -- -- 3014.5000038146973 -- -- 3014.8750038146973\n",
      " 3015.0000038146973 -- -- -- -- -- -- -- -- -- -- -- -- -- -- -- -- -- --\n",
      " -- -- -- -- -- -- -- -- -- -- -- -- -- -- -- -- -- -- -- -- -- -- -- --\n",
      " --]\n",
      "\n",
      "\n",
      "\n",
      "\n",
      "And here is a comparison of the shapes and counts of flagged_bins before and after using .filled:\n",
      "flagged_bins\n",
      "(256,), 45, 211\n",
      "flagged_bins.filled\n",
      "(256,), 45, 211\n"
     ]
    },
    {
     "data": {
      "image/png": "[encoded data removed]",
      "text/plain": [
       "<Figure size 640x480 with 1 Axes>"
      ]
     },
     "metadata": {},
     "output_type": "display_data"
    }
   ],
   "source": [
    "plot_tavg_power(water1, f_start=f_min1, f_stop=f_max1, p_start=0, p_stop=0.5*10**10, n_divs=256, threshold=10, show_filtered_bins=True)"
   ]
  },
  {
   "cell_type": "code",
   "execution_count": 10,
   "id": "707f4f69",
   "metadata": {},
   "outputs": [],
   "source": [
    "def get_tavg_kurtosis(wf_in, n_divs=256):\n",
    "    # This function grabs the kurtosis of channels of a specified size for a blimpy waterfall object\n",
    "    \n",
    "    # wf_in: Specified blimpy waterfall object\n",
    "    # n_divs: Number of divisions to break wf_in into\n",
    "        # 32 is the correct number of channels to break a waterfall into assuming the frequency range\n",
    "        # of the waterfall is 32 MHz\n",
    "        \n",
    "#     np.set_printoptions(threshold=4)\n",
    "\n",
    "    # Get power and frequency in increasing order\n",
    "    if wf_in.header['foff'] < 0:\n",
    "        pows_flipped = np.flip(wf_in.data)\n",
    "        freqs_flipped = wf_in.get_freqs()[::-1]\n",
    "    \n",
    "    # So...\n",
    "    # pows_flipped is all of the powers in increasing order,\n",
    "    # freqs_flipped is all of the frequencies in increasing order\n",
    "\n",
    "    # Time-average the power\n",
    "    pows_mean_flipped = np.mean(pows_flipped, axis=0)[0]    \n",
    "\n",
    "    # Split frequency and time-averaged power into n_divs channels\n",
    "    freqs = np.array_split(freqs_flipped, n_divs)\n",
    "    pows_mean = np.array_split(pows_mean_flipped, n_divs)\n",
    "    \n",
    "    # Get kurtosis of all channels\n",
    "    kurts_list = []\n",
    "    \n",
    "    for i, division in enumerate(pows_mean):\n",
    "        kurts_list.append(kurtosis(division/(10**9))) # Rescaling data so that kurtosis != inf ever\n",
    "    \n",
    "    kurts = np.array(kurts_list, dtype=np.float64)\n",
    "    \n",
    "    # Check to see if any of the kurtoses are infinite\n",
    "    if np.any(np.isfinite(kurts)) == False:\n",
    "        print(f'Infinite kurtoses located at indices {np.where(np.isfinite(kurts) == False)}')\n",
    "    else:\n",
    "        print('No infinite kurtoses found')\n",
    "\n",
    "    # Binning frequencies such that the labeled frequency is the bottom of the bin\n",
    "    # i.e., if chnl[0] is 2010 MHz and each channel is 1 MHz, then the bin from 2010 MHz to 2010.99 MHz will have\n",
    "    # a value of \"2010\"\n",
    "    bins = []\n",
    "    for chnl in freqs:\n",
    "        bins.append(chnl[0])\n",
    "\n",
    "    # bins: All frequency bins for the frequency range of the waterfall\n",
    "    # kurts: Kurtosis of all frequency bins\n",
    "    # pows_mean_flipped: All time-averaged power (not split into bins)\n",
    "    return bins, kurts, pows_mean_flipped"
   ]
  },
  {
   "cell_type": "code",
   "execution_count": 11,
   "id": "370dbb5c",
   "metadata": {},
   "outputs": [],
   "source": [
    "def plot_tavg_kurtosis(wf_in, n_divs=256):\n",
    "    # This function plots the kurtosis of the time-averaged power spectrum.\n",
    "    # For info on inputs, see get_tavg_kurtosis() function definition.\n",
    "    \n",
    "    # Get bin and kurtosis information\n",
    "    bins, kurts, pows_mean = get_tavg_kurtosis(wf_in, n_divs)\n",
    "    \n",
    "    # Plot kurtosis vs. frequency\n",
    "    fig, ax = plt.subplots()\n",
    "    ax.set_xlabel('Frequency (MHz)')\n",
    "    ax.set_ylabel('Kurtosis')\n",
    "    \n",
    "    ax.plot(bins, kurts, '.', c='black')\n",
    "    "
   ]
  },
  {
   "cell_type": "code",
   "execution_count": 32,
   "id": "96df90af",
   "metadata": {},
   "outputs": [
    {
     "name": "stdout",
     "output_type": "stream",
     "text": [
      "No infinite kurtoses found\n",
      "No infinite kurtoses found\n",
      "31 out of 256 channels flagged as having substantial RFI\n"
     ]
    },
    {
     "data": {
      "image/png": "[encoded data removed]",
      "text/plain": [
       "<Figure size 640x480 with 1 Axes>"
      ]
     },
     "metadata": {},
     "output_type": "display_data"
    }
   ],
   "source": [
    "plot_mask_kurtosis(water3)"
   ]
  },
  {
   "cell_type": "code",
   "execution_count": 12,
   "id": "06db1c20",
   "metadata": {},
   "outputs": [],
   "source": [
    "def get_mask_kurtosis(wf_in, n_divs=256, threshold=50):\n",
    "    # This function flags bins with high kurtosis (i.e., heavy RFI) and returns the necessary information about\n",
    "    # these bins.\n",
    "    # wf_in: See get_tavg_kurtosis() function definition\n",
    "    # n_divs: See get_tavg_kurtosis() function definition\n",
    "    # threshold: Minimum kurtosis for a channel to be flagged as 'RFI-heavy'\n",
    "    \n",
    "    \n",
    "    # Get bin and kurtosis information\n",
    "    bins, kurts, pows_mean = get_tavg_kurtosis(wf_in, n_divs)\n",
    "    \n",
    "    # masked_kurts is an array that has all channels with |kurtosis| > threshold masked out\n",
    "    masked_kurts = ma.masked_where(np.abs(kurts) > threshold, kurts)\n",
    "    bin_mask = ma.getmask(masked_kurts)\n",
    "    \n",
    "    # flagged_bins is an array that has the frequencies of the channels with kurtosis > threshold NOT masked out\n",
    "    # flagged_kurts masks the opposite elements as masked_kurts (i.e., it contains all of the kurtoses of the\n",
    "    # high RFI channels)\n",
    "    flagged_bins = ma.masked_array(bins, mask=~bin_mask)\n",
    "    flagged_kurts = ma.masked_array(kurts, mask=~bin_mask)\n",
    "    \n",
    "    # The reason I am no longer using ma.count(masked_array) is because there can be an error where masked elements\n",
    "    # are converted to NaNs.\n",
    "    print(f'{len(np.where(bin_mask == True)[0])} out of {n_divs} channels flagged as having substantial RFI')\n",
    "    \n",
    "    # TODO: Grab mask that contains the frequencies with high RFI, not the frequency *bins*!\n",
    "    # Get frequency in increasing order, first\n",
    "    if wf_in.header['foff'] < 0:\n",
    "        freqs_flipped = wf_in.get_freqs()[::-1]\n",
    "        freqs = ma.masked_array(freqs_flipped)\n",
    "    \n",
    "    # Bin width...?\n",
    "    # There are 7 Hz in between each entry of freqs, and 32 MHz total\n",
    "    # Given a total of 4194304 elements in freqs, if there are 256 bins, then each bin spans 16384 elements\n",
    "    # If each bin spans 16384 elements, then it spans 125 kHz (125 kHz * 256 = 32 MHz)\n",
    "    \n",
    "    full_freq_range = freqs[-1] - freqs[0]\n",
    "    bin_width = bin_width = full_freq_range / n_divs # This is the bin width in terms of MHz\n",
    "    \n",
    "    bin_width_elements = int(np.floor(len(freqs) / n_divs)) # This is the bin width in terms of the number of elements in freqs\n",
    "    \n",
    "#     print(f'bin width: {bin_width}')\n",
    "    \n",
    "    masked_freqs = ma.masked_array(freqs)\n",
    "    \n",
    "    for rfi_bin in flagged_bins:\n",
    "        try:\n",
    "            # Get the frequency indices of the masked frequency bins and put them in a list\n",
    "            xmin = np.where(freqs == rfi_bin)[0][0]\n",
    "            xmax = xmin + bin_width_elements\n",
    "            masking_indices = np.arange(xmin, xmax)\n",
    "            \n",
    "            # Create a masked array that masks the indices of the high RFI bins\n",
    "            masked_freqs[masking_indices] = ma.masked\n",
    "            freq_mask = ma.getmask(masked_freqs)\n",
    "        except:\n",
    "            pass\n",
    "    \n",
    "    # Summary of returned variables:\n",
    "    # flagged_bins: Channels with high kurtosis (i.e., high RFI)\n",
    "    # flagged_kurts: Kurtosis of each channel that was flagged as having high RFI\n",
    "    # masked_kurts: Kurtosis of all 'clean' (low RFI) channels with high RFI channels masked out\n",
    "    # masked_freqs: List of all frequencies with high RFI channels masked out\n",
    "    # bin_mask: The mask used to generate masked_kurts -- Masks the frequency *bins*\n",
    "    # freq_mask: A mask to be used to block out the *actual* frequencies, rather than the frequency *bins*\n",
    "    return flagged_bins, flagged_kurts, masked_kurts, masked_freqs, bin_mask, freq_mask"
   ]
  },
  {
   "cell_type": "code",
   "execution_count": 11,
   "id": "789b5aa0",
   "metadata": {},
   "outputs": [
    {
     "name": "stdout",
     "output_type": "stream",
     "text": [
      "No infinite kurtoses found\n",
      "11 out of 256 channels flagged as having substantial RFI\n",
      "No infinite kurtoses found\n",
      "59 out of 256 channels flagged as having substantial RFI\n",
      "No infinite kurtoses found\n",
      "52 out of 256 channels flagged as having substantial RFI\n",
      "No infinite kurtoses found\n",
      "9 out of 256 channels flagged as having substantial RFI\n"
     ]
    }
   ],
   "source": [
    "flagged_bins1, flagged_kurts1, masked_kurts1, masked_freqs1, bin_mask1, freq_mask1 = get_mask_kurtosis(water1, threshold=1.25)\n",
    "flagged_bins2, flagged_kurts2, masked_kurts2, masked_freqs2, bin_mask2, freq_mask2 = get_mask_kurtosis(water2, threshold=1.5)\n",
    "flagged_bins3, flagged_kurts3, masked_kurts3, masked_freqs3, bin_mask3, freq_mask3 = get_mask_kurtosis(water3, threshold=4)\n",
    "flagged_bins4, flagged_kurts4, masked_kurts4, masked_freqs4, bin_mask4, freq_mask4 = get_mask_kurtosis(water4, threshold=1.25)"
   ]
  },
  {
   "cell_type": "code",
   "execution_count": 172,
   "id": "0ebd3ab6",
   "metadata": {},
   "outputs": [
    {
     "name": "stdout",
     "output_type": "stream",
     "text": [
      "256 [3500.5000038146973 3500.6250038146973 3500.7500038146973 ...\n",
      " 3532.1250038146973 -- 3532.3750038146973]\n"
     ]
    }
   ],
   "source": [
    "print(len(flagged_bins1), flagged_bins1)"
   ]
  },
  {
   "cell_type": "code",
   "execution_count": 12,
   "id": "7cdb82e3",
   "metadata": {},
   "outputs": [
    {
     "name": "stdout",
     "output_type": "stream",
     "text": [
      "No infinite kurtoses found\n",
      "No infinite kurtoses found\n",
      "No infinite kurtoses found\n",
      "No infinite kurtoses found\n"
     ]
    }
   ],
   "source": [
    "bins1, kurts1, pows_mean1 = get_tavg_kurtosis(water1)\n",
    "bins2, kurts2, pows_mean2 = get_tavg_kurtosis(water2)\n",
    "bins3, kurts3, pows_mean3 = get_tavg_kurtosis(water3)\n",
    "bins4, kurts4, pows_mean4 = get_tavg_kurtosis(water4)"
   ]
  },
  {
   "cell_type": "code",
   "execution_count": 38,
   "id": "d1c29244",
   "metadata": {},
   "outputs": [
    {
     "name": "stdout",
     "output_type": "stream",
     "text": [
      "1024\n",
      "16777216\n",
      "[3500.50000381 3500.62500381 3500.75000381 ... 3532.12500381           nan\n",
      " 3532.37500381]\n",
      "1024, <class 'numpy.ndarray'>, 131, [3500.50000381 3500.62500381 3500.75000381 ... 3052.12500381 3052.25000381\n",
      " 3052.37500381]\n"
     ]
    }
   ],
   "source": [
    "export_kurtoses = np.array([np.asarray(kurts1), np.asarray(kurts2), np.asarray(kurts3), np.asarray(kurts4)]).flatten()\n",
    "print(len(export_kurtoses))\n",
    "export_pows = np.array([np.asarray(pows_mean1), np.asarray(pows_mean2), np.asarray(pows_mean3), np.asarray(pows_mean4)]).flatten()\n",
    "print(len(export_pows))\n",
    "\n",
    "flagged_bins1 = ma.filled(flagged_bins1, fill_value=np.NaN)\n",
    "flagged_bins2 = ma.filled(flagged_bins2, fill_value=np.NaN)\n",
    "flagged_bins3 = ma.filled(flagged_bins3, fill_value=np.NaN)\n",
    "flagged_bins4 = ma.filled(flagged_bins4, fill_value=np.NaN)\n",
    "\n",
    "print(flagged_bins1)\n",
    "\n",
    "export_binbots = np.concatenate([flagged_bins1, flagged_bins2, flagged_bins3, flagged_bins4]).flatten()\n",
    "print(f'{len(export_binbots)}, {type(export_binbots)}, {np.count_nonzero(~np.isnan(export_binbots))}, {export_binbots}')"
   ]
  },
  {
   "cell_type": "code",
   "execution_count": 37,
   "id": "3eab9320",
   "metadata": {},
   "outputs": [
    {
     "name": "stdout",
     "output_type": "stream",
     "text": [
      "0.12499997019767761\n",
      "1024 [3500.62500378 3500.75000378 3500.87500378 ... 3052.25000378 3052.37500378\n",
      " 3052.50000378]\n",
      "16777216 [3532.49999619 3532.49998856 3532.49998093 ... 3020.50001907 3020.50001144\n",
      " 3020.50000381]\n",
      "16777216 [3500.50000381 3500.50001144 3500.50001907 ... 3052.49998093 3052.49998856\n",
      " 3052.49999619]\n"
     ]
    }
   ],
   "source": [
    "export_bin_width = (np.amax(water1.get_freqs()) - np.amin(water1.get_freqs()))/256\n",
    "print(export_bin_width)\n",
    "\n",
    "export_bintops = export_binbots + export_bin_width\n",
    "print(len(export_bintops), export_bintops)\n",
    "\n",
    "\n",
    "export_freqs = np.array([np.asarray(water1.get_freqs()), np.asarray(water2.get_freqs()), np.asarray(water3.get_freqs()), np.asarray(water4.get_freqs())]).flatten()\n",
    "print(len(export_freqs), export_freqs)\n",
    "\n",
    "export_masked_freqs = np.array([np.asarray(masked_freqs1), np.asarray(masked_freqs2), np.asarray(masked_freqs3), np.asarray(masked_freqs4)]).flatten()\n",
    "print(len(export_masked_freqs), export_masked_freqs)"
   ]
  },
  {
   "cell_type": "code",
   "execution_count": 1,
   "id": "fbffabc4",
   "metadata": {},
   "outputs": [],
   "source": [
    "arr1 = np.arange(1,5)\n",
    "arr2 = np.arange(5,16)\n",
    "arr3 = np.arange(16,18)\n",
    "arr4 = np.arange(18,22)\n",
    "\n",
    "test_data = {'col1':arr1, 'col2':arr2, 'col3':arr3, 'col4':arr4}\n",
    "\n",
    "test_df = pd.DataFrame(test_data)\n",
    "print(test_df)"
   ]
  },
  {
   "cell_type": "code",
   "execution_count": 44,
   "id": "4219576b",
   "metadata": {},
   "outputs": [
    {
     "name": "stdout",
     "output_type": "stream",
     "text": [
      "      rfi_freq_bin_bots  rfi_freq_bin_tops\n",
      "0           2476.500004        2476.625004\n",
      "1           2476.625004        2476.750004\n",
      "2           2476.750004        2476.875004\n",
      "3           2476.875004        2477.000004\n",
      "4           2477.000004        2477.125004\n",
      "...                 ...                ...\n",
      "1019                NaN                NaN\n",
      "1020                NaN                NaN\n",
      "1021                NaN                NaN\n",
      "1022                NaN                NaN\n",
      "1023                NaN                NaN\n",
      "\n",
      "[1024 rows x 2 columns]\n",
      "rfi_freq_bin_bots    131\n",
      "rfi_freq_bin_tops    131\n",
      "dtype: int64\n"
     ]
    }
   ],
   "source": [
    "export_masked_freqs_df = pd.DataFrame(data=export_masked_freqs, columns=['masked_freqs'])\n",
    "\n",
    "export_binbots_df = pd.DataFrame(data=export_binbots, columns=['rfi_freq_bin_bots'])\n",
    "export_bintops_df = pd.DataFrame(data=export_bintops, columns=['rfi_freq_bin_tops'])\n",
    "pre_export_bins = pd.concat([export_binbots_df, export_bintops_df], axis=1)\n",
    "\n",
    "bins_export_df = pre_export_bins.sort_values(by=['rfi_freq_bin_bots'])\n",
    "bins_export_df = pre_export_bins.sort_values(by=['rfi_freq_bin_tops']).reset_index(drop=True)\n",
    "\n",
    "print(bins_export_df)\n",
    "print(bins_export_df.count())"
   ]
  },
  {
   "cell_type": "code",
   "execution_count": 45,
   "id": "71bf0cea",
   "metadata": {},
   "outputs": [],
   "source": [
    "bins_export_df.to_csv('/lustre/aoc/students/jsofair/prelim_kurt_bins.csv', index=False)"
   ]
  },
  {
   "cell_type": "code",
   "execution_count": 203,
   "id": "4ddc9347",
   "metadata": {},
   "outputs": [],
   "source": [
    "data = {'all_freqs':export_freqs,\n",
    "        'masked_freqs':export_masked_freqs,\n",
    "        'freq_bin_bots':export_binbots,\n",
    "        'freq_bin_tops':export_bintops\n",
    "       }\n",
    "\n",
    "pre_export_freqs = pd.concat([export_freqs_df, export_masked_freqs_df], axis=1)\n",
    "export_freqs_df = pd.DataFrame(data=export_freqs, columns=['all_freqs'])\n",
    "\n",
    "\n",
    "freqs_export_df = pre_export_freqs.sort_values(by=['all_freqs'])\n",
    "\n",
    "\n",
    "\n",
    "# columns=['all_freqs','masked_freqs','freq_bin_bots','freq_bin_tops']\n",
    "freqs_export_df.to_csv('/lustre/aoc/students/jsofair/prelim_kurt_freqs.csv', index=False)"
   ]
  },
  {
   "cell_type": "code",
   "execution_count": 29,
   "id": "829fad4f",
   "metadata": {},
   "outputs": [
    {
     "name": "stdout",
     "output_type": "stream",
     "text": [
      "0    4014080\n",
      "dtype: int64, 4014080\n"
     ]
    }
   ],
   "source": [
    "print(f'{export_df.count()}, {ma.count(masked_freqs)}')"
   ]
  },
  {
   "cell_type": "code",
   "execution_count": 1,
   "id": "1d6dc44f",
   "metadata": {},
   "outputs": [],
   "source": [
    "testarr = np.arange(0,4194304)\n",
    "test_masked_arr = ma.masked_array(testarr, freq_mask)\n",
    "test_freqs_masked = ma.masked_array(water0.get_freqs(), mask=freq_mask)\n",
    "print(np.shape(water0.get_freqs()))\n",
    "print(test_masked_arr)\n",
    "print(test_freqs_masked)\n",
    "print(ma.count(test_freqs_masked))"
   ]
  },
  {
   "cell_type": "code",
   "execution_count": 13,
   "id": "ef3bfbbb",
   "metadata": {},
   "outputs": [],
   "source": [
    "def plot_mask_kurtosis(wf_in, n_divs=256, threshold=50, unfiltered=True, clean_chnls=True, rfi=False,\n",
    "                      f_start=0, f_stop=0, k_start=0, k_stop=0):\n",
    "    # This function plots the kurtosis of each frequency channel for a specified waterfall object.\n",
    "    # wf_in: See get_tavg_kurtosis() function definition\n",
    "    # n_divs: See get_tavg_kurtosis() function definition\n",
    "    # threshold: See get_mask_kurtosis() function definition\n",
    "    # unfiltered: If true, plot the data before any RFI filtering has occurred\n",
    "    # clean_chnls: If true, plot the data after RFI has been filtered out\n",
    "    # rfi: If true, plot the channels that have been marked as RFI\n",
    "    \n",
    "    bins, kurts, pows_mean = get_tavg_kurtosis(wf_in, n_divs)\n",
    "    flagged_bins, flagged_kurts, masked_kurts, masked_freqs, bin_mask, freq_mask = get_mask_kurtosis(wf_in, n_divs, threshold)\n",
    "    \n",
    "    fig, ax = plt.subplots()\n",
    "    \n",
    "    ax.set_xlabel('Frequency (MHz)')\n",
    "    ax.set_ylabel('Kurtosis')\n",
    "    \n",
    "    if unfiltered:\n",
    "        ax.plot(bins, kurts, 'o', c='black', label='Unfiltered data') # Color is a nice black\n",
    "    if clean_chnls:\n",
    "        ax.plot(bins, masked_kurts, '.', c='#43cc5c', label='Clean channels') # Color is a nice green\n",
    "    if rfi:\n",
    "        ax.plot(flagged_bins, flagged_kurts, '.', c='red', label='Heavy RFI') # Color is a nice red\n",
    "    \n",
    "    if np.any([f_start, f_stop, k_start, k_stop]) != 0:\n",
    "        ax.set_xlim(f_start, f_stop)\n",
    "        ax.set_ylim(k_start, k_stop)\n",
    "    \n",
    "        ax.legend(fancybox=True,shadow=True, loc='upper center', bbox_to_anchor=(0.5, 1.05), ncols=3)\n",
    "    else:\n",
    "        ax.legend(fancybox=True,shadow=True, loc='upper center', bbox_to_anchor=(0.5, 1.05), ncols=3)"
   ]
  },
  {
   "cell_type": "code",
   "execution_count": 14,
   "id": "d4d90c2b",
   "metadata": {},
   "outputs": [],
   "source": [
    "def plot_tavg_powertemp(wf_in,\n",
    "                    f_start=0, f_stop=6000,\n",
    "                    p_start=0, p_stop=5*10**10, n_divs=256, threshold=50,\n",
    "                    show_filtered_bins=True):\n",
    "    # Plot the time-averaged power spectrum for a given blimpy waterfall object\n",
    "    # wf: The desired input waterfall object\n",
    "    # t: The integration number\n",
    "    # f_start: Lower bound for frequency (horizontal) axis\n",
    "    # f_stop: Upper bound for frequency (horizontal) axis\n",
    "    # p_start: Lower bound for time-averaged power (veritcal) axis\n",
    "    # p_start: Lower bound for time-averaged power (veritcal) axis\n",
    "    # show_filtered: If true, draw a red box where high RFI channels are\n",
    "\n",
    "    # Time average the power\n",
    "    wf_pwr_mean_arr = np.mean(wf_in.data, axis=0)\n",
    "    wf_pwr_mean = wf_pwr_mean_arr[0]\n",
    "   \n",
    "    # Plot time-averaged power\n",
    "    fig, ax = plt.subplots()\n",
    "    \n",
    "    ax.set_xlim(f_start, f_stop)\n",
    "    ax.set_ylim(p_start, p_stop)\n",
    "    \n",
    "    ax.set_xlabel('Frequency (MHz)')\n",
    "    ax.set_ylabel('Time-Averaged Power (Counts)')\n",
    "\n",
    "    ax.plot(wf_in.get_freqs(), wf_pwr_mean, label='Time-averaged power spectrum', c='#1f1f1f')\n",
    "\n",
    "    # Grab info for RFI masking\n",
    "    bins, kurts, pows_mean = get_tavg_kurtosis(wf_in, n_divs)\n",
    "    flagged_bins, flagged_kurts, masked_kurts, masked_freqs, bin_mask, freq_mask = get_mask_kurtosis(wf_in, n_divs, threshold)\n",
    "\n",
    "    # Plot frequency bins that were flagged as RFI\n",
    "    if show_filtered_bins == True:\n",
    "        full_freq_range = np.amax(wf_in.get_freqs()) - np.amin(wf_in.get_freqs())\n",
    "        bin_width = full_freq_range / n_divs\n",
    "\n",
    "        for rfi_bin in flagged_bins:\n",
    "            xmin = rfi_bin\n",
    "            xmax = rfi_bin + bin_width\n",
    "            flagged_line = plt.axvspan(xmin=xmin, xmax=xmax, ymin=0, ymax=1, color='red', alpha=0.5)\n",
    "\n",
    "        flagged_line.set_label('RFI-flagged channels')\n",
    "        ax.legend(fancybox=True,shadow=True, loc='lower center', bbox_to_anchor=(1, 1), ncols=1)\n",
    "    else:\n",
    "        ax.legend(fancybox=True,shadow=True, loc='lower center', bbox_to_anchor=(1, 1), ncols=1)\n",
    "        "
   ]
  },
  {
   "cell_type": "code",
   "execution_count": 1,
   "id": "f43e03f5",
   "metadata": {},
   "outputs": [],
   "source": []
  },
  {
   "cell_type": "code",
   "execution_count": 30,
   "id": "50b50ac1",
   "metadata": {},
   "outputs": [],
   "source": [
    "thrsh = 300\n",
    "ndivs = 256"
   ]
  },
  {
   "cell_type": "code",
   "execution_count": 29,
   "id": "0aa7f17c",
   "metadata": {},
   "outputs": [
    {
     "name": "stdout",
     "output_type": "stream",
     "text": [
      "No infinite kurtoses found\n",
      "No infinite kurtoses found\n",
      "26 out of 256 channels flagged as having substantial RFI\n"
     ]
    },
    {
     "data": {
      "image/png": "[encoded data removed]",
      "text/plain": [
       "<Figure size 640x480 with 1 Axes>"
      ]
     },
     "metadata": {},
     "output_type": "display_data"
    }
   ],
   "source": [
    "plot_tavg_powertemp(water3, n_divs=ndivs, threshold=thrsh,\n",
    "                    f_start=f_min, f_stop=f_max,  p_start=0, p_stop=1*10**10, \n",
    "                    show_filtered_bins=True)"
   ]
  },
  {
   "cell_type": "code",
   "execution_count": 26,
   "id": "f26276e1",
   "metadata": {},
   "outputs": [
    {
     "name": "stdout",
     "output_type": "stream",
     "text": [
      "No infinite kurtoses found\n",
      "No infinite kurtoses found\n",
      "54 out of 256 channels flagged as having substantial RFI\n"
     ]
    },
    {
     "data": {
      "image/png": "[encoded data removed]",
      "text/plain": [
       "<Figure size 640x480 with 1 Axes>"
      ]
     },
     "metadata": {},
     "output_type": "display_data"
    }
   ],
   "source": [
    "plot_tavg_powertemp(water2, n_divs=256, threshold=5,\n",
    "                    f_start=2500, f_stop=2505, p_start=0, p_stop=1*10**10, \n",
    "                    show_filtered_bins=True)"
   ]
  },
  {
   "cell_type": "code",
   "execution_count": 63,
   "id": "4823e19e",
   "metadata": {},
   "outputs": [],
   "source": [
    "water5.plot_waterfall(f_start=2015, f_stop=2020)"
   ]
  },
  {
   "cell_type": "code",
   "execution_count": 53,
   "id": "ef685d52",
   "metadata": {},
   "outputs": [
    {
     "name": "stdout",
     "output_type": "stream",
     "text": [
      "57 2483.6250038146973\n",
      "58 2483.7500038146973\n",
      "59 2483.8750038146973\n",
      "60 2484.0000038146973\n",
      "61 2484.1250038146973\n",
      "62 2484.2500038146973\n",
      "63 2484.3750038146973\n",
      "64 2484.5000038146973\n",
      "65 2484.6250038146973\n",
      "66 2484.7500038146973\n",
      "67 2484.8750038146973\n",
      "68 2485.0000038146973\n",
      "69 2485.1250038146973\n",
      "70 2485.2500038146973\n",
      "71 2485.3750038146973\n",
      "72 2485.5000038146973\n",
      "73 2485.6250038146973\n",
      "74 2485.7500038146973\n",
      "75 2485.8750038146973\n",
      "76 2486.0000038146973\n",
      "77 2486.1250038146973\n",
      "78 2486.2500038146973\n",
      "79 2486.3750038146973\n",
      "80 2486.5000038146973\n",
      "81 2486.6250038146973\n",
      "82 2486.7500038146973\n",
      "83 2486.8750038146973\n",
      "84 2487.0000038146973\n",
      "85 2487.1250038146973\n",
      "86 2487.2500038146973\n",
      "87 2487.3750038146973\n",
      "88 2487.5000038146973\n",
      "89 2487.6250038146973\n",
      "90 2487.7500038146973\n",
      "91 2487.8750038146973\n",
      "92 2488.0000038146973\n",
      "93 2488.1250038146973\n",
      "94 2488.2500038146973\n",
      "95 2488.3750038146973\n",
      "96 2488.5000038146973\n",
      "97 2488.6250038146973\n",
      "98 2488.7500038146973\n",
      "99 2488.8750038146973\n",
      "100 2489.0000038146973\n",
      "101 2489.1250038146973\n",
      "102 2489.2500038146973\n",
      "103 2489.3750038146973\n",
      "104 2489.5000038146973\n",
      "105 2489.6250038146973\n",
      "106 2489.7500038146973\n",
      "107 2489.8750038146973\n",
      "108 2490.0000038146973\n",
      "109 2490.1250038146973\n",
      "110 2490.2500038146973\n",
      "111 2490.3750038146973\n",
      "112 2490.5000038146973\n",
      "113 2490.6250038146973\n",
      "114 2490.7500038146973\n",
      "115 2490.8750038146973\n"
     ]
    }
   ],
   "source": [
    "bins, kurts, pows_mean = get_tavg_kurtosis(water2, n_divs=256)\n",
    "for i in bins:\n",
    "#     print(i)\n",
    "    if i > 2483.625:\n",
    "        if i < 2490.9:\n",
    "#             pass\n",
    "            print(bins.index(i), i)"
   ]
  },
  {
   "cell_type": "code",
   "execution_count": 13,
   "id": "765fa3fa",
   "metadata": {},
   "outputs": [
    {
     "name": "stdout",
     "output_type": "stream",
     "text": [
      "[-- -- 3 -- 5]\n"
     ]
    },
    {
     "data": {
      "text/plain": [
       "array([500, 501, 502, 503, 504])"
      ]
     },
     "execution_count": 13,
     "metadata": {},
     "output_type": "execute_result"
    }
   ],
   "source": [
    "values = np.array([1,2,3,4,5])\n",
    "indices = np.array([0,1,3])\n",
    "\n",
    "masked_values = ma.masked_array(values)\n",
    "masked_values[indices] = ma.masked\n",
    "print(masked_values)\n",
    "\n",
    "# we want it so that the elements in arr1 that match the elements in arr2 are masked\n",
    "\n",
    "\n",
    "\n",
    "# print(maskiee)\n",
    "# np.arange(500, 505)"
   ]
  },
  {
   "cell_type": "code",
   "execution_count": 1,
   "id": "7250d30d",
   "metadata": {},
   "outputs": [],
   "source": [
    "x = np.arange(1,6)\n",
    "maskie = x>2\n",
    "\n",
    "print(~maskie)"
   ]
  },
  {
   "cell_type": "code",
   "execution_count": 14,
   "id": "82d26a3e",
   "metadata": {},
   "outputs": [
    {
     "name": "stdout",
     "output_type": "stream",
     "text": [
      "165 out of 256 channels flagged as having substantial RFI\n",
      "bin width: 0.12499997019767761\n",
      "16384\n",
      "16384\n",
      "16384\n",
      "16384\n",
      "16384\n",
      "16384\n",
      "16384\n",
      "16384\n",
      "16384\n",
      "16384\n",
      "16384\n",
      "16384\n",
      "16384\n",
      "16384\n",
      "16384\n",
      "16384\n",
      "16384\n",
      "16384\n",
      "16384\n",
      "16384\n",
      "16384\n",
      "16384\n",
      "16384\n",
      "16384\n",
      "16384\n",
      "16384\n",
      "16384\n",
      "16384\n",
      "16384\n",
      "16384\n",
      "16384\n",
      "16384\n",
      "16384\n",
      "16384\n",
      "16384\n",
      "16384\n",
      "16384\n",
      "16384\n",
      "16384\n",
      "16384\n",
      "16384\n",
      "16384\n",
      "16384\n",
      "16384\n",
      "16384\n",
      "16384\n",
      "16384\n",
      "16384\n",
      "16384\n",
      "16384\n",
      "16384\n",
      "16384\n",
      "16384\n",
      "16384\n",
      "16384\n",
      "16384\n",
      "16384\n",
      "16384\n",
      "16384\n",
      "16384\n",
      "16384\n",
      "16384\n",
      "16384\n",
      "16384\n",
      "16384\n",
      "16384\n",
      "16384\n",
      "16384\n",
      "16384\n",
      "16384\n",
      "16384\n",
      "16384\n",
      "16384\n",
      "16384\n",
      "16384\n",
      "16384\n",
      "16384\n",
      "16384\n",
      "16384\n",
      "16384\n",
      "16384\n",
      "16384\n",
      "16384\n",
      "16384\n",
      "16384\n",
      "16384\n",
      "16384\n",
      "16384\n",
      "16384\n",
      "16384\n",
      "16384\n",
      "16384\n",
      "16384\n",
      "16384\n",
      "16384\n",
      "16384\n",
      "16384\n",
      "16384\n",
      "16384\n",
      "16384\n",
      "16384\n",
      "16384\n",
      "16384\n",
      "16384\n",
      "16384\n",
      "16384\n",
      "16384\n",
      "16384\n",
      "16384\n",
      "16384\n",
      "16384\n",
      "16384\n",
      "16384\n",
      "16384\n",
      "16384\n",
      "16384\n",
      "16384\n",
      "16384\n",
      "16384\n",
      "16384\n",
      "16384\n",
      "16384\n",
      "16384\n",
      "16384\n",
      "16384\n",
      "16384\n",
      "16384\n",
      "16384\n",
      "16384\n",
      "16384\n",
      "16384\n",
      "16384\n",
      "16384\n",
      "16384\n",
      "16384\n",
      "16384\n",
      "16384\n",
      "16384\n",
      "16384\n",
      "16384\n",
      "16384\n",
      "16384\n",
      "16384\n",
      "16384\n",
      "16384\n",
      "16384\n",
      "16384\n",
      "16384\n",
      "16384\n",
      "16384\n",
      "16384\n",
      "16384\n",
      "16384\n",
      "16384\n",
      "16384\n",
      "16384\n",
      "16384\n",
      "16384\n",
      "16384\n",
      "16384\n",
      "16384\n",
      "16384\n",
      "16384\n",
      "16384\n",
      "16384\n",
      "\n"
     ]
    }
   ],
   "source": [
    "get_mask_kurtosis(water0, n_divs=256)\n",
    "print()\n",
    "\n",
    "# How many frequencies should be masked?"
   ]
  },
  {
   "cell_type": "code",
   "execution_count": 23,
   "id": "9e818105",
   "metadata": {},
   "outputs": [
    {
     "name": "stdout",
     "output_type": "stream",
     "text": [
      "240 out of 256 channels flagged as having substantial RFI\n"
     ]
    },
    {
     "data": {
      "image/png": "[encoded data removed]",
      "text/plain": [
       "<Figure size 640x480 with 1 Axes>"
      ]
     },
     "metadata": {},
     "output_type": "display_data"
    }
   ],
   "source": [
    "plot_mask_kurtosis(water2, n_divs=ndivs, threshold=thrsh, rfi=True,\n",
    "                  f_start=f_min, f_stop=f_max, k_start=-5, k_stop=600)"
   ]
  },
  {
   "cell_type": "code",
   "execution_count": 61,
   "id": "6b6d698a",
   "metadata": {
    "collapsed": true,
    "jupyter": {
     "outputs_hidden": true
    }
   },
   "outputs": [
    {
     "name": "stdout",
     "output_type": "stream",
     "text": [
      "240 out of 256 channels flagged as having substantial RFI\n",
      "[ True  True  True ...  True False False]\n"
     ]
    }
   ],
   "source": [
    "flagged_bins, flagged_kurts, masked_kurts, bin_mask, freq_mask = get_mask_kurtosis(water2, n_divs=ndivs, threshold=thrsh)\n",
    "\n",
    "print(mask)"
   ]
  },
  {
   "cell_type": "code",
   "execution_count": 57,
   "id": "a683b0f5",
   "metadata": {
    "collapsed": true,
    "jupyter": {
     "outputs_hidden": true
    }
   },
   "outputs": [
    {
     "name": "stdout",
     "output_type": "stream",
     "text": [
      "-0.9441275739966115\n",
      "0.2356335251804067\n",
      "-0.24289774071627557\n",
      "-0.3255770378777201\n",
      "-0.4819748895491336\n",
      "-0.9294241821704308\n",
      "-0.6420960059070691\n",
      "-0.11927614867614666\n",
      "0.16031438953312138\n",
      "-0.1565957051809339\n",
      "-0.35009353343198324\n",
      "-0.4261962086483675\n",
      "-0.6534365774420685\n",
      "-0.19175884404992827\n",
      "-0.4302306801260549\n",
      "-0.6522846519261498\n",
      "-0.7260550132783368\n",
      "-0.8072657713252278\n",
      "-0.2734562220529706\n",
      "-0.7860554616859523\n",
      "-0.13569532957596886\n",
      "-0.2968214882051461\n",
      "-0.8974747875381879\n",
      "-0.20118763156430397\n",
      "-0.45740783601655277\n",
      "-0.424624300919056\n",
      "-0.9980575318876475\n",
      "-0.7798652113475772\n",
      "-0.04860401965382222\n",
      "0.00882420723571542\n",
      "-0.47329790152901285\n",
      "-0.09298843571814963\n",
      "-0.9425098327586099\n",
      "-0.9286223569053575\n",
      "-0.8083614917819548\n",
      "-0.9448517829596792\n",
      "-0.1368367031430111\n",
      "-0.04678724865417205\n",
      "-0.8750630252396054\n",
      "-0.21474850128728118\n",
      "-0.08696885950453837\n"
     ]
    }
   ],
   "source": [
    "bins, kurts, pows_mean = get_tavg_kurtosis(water2, n_divs=256)\n",
    "np.set_printoptions(threshold=sys.maxsize, suppress=True)\n",
    "\n",
    "for i in kurts[57:118]:\n",
    "    if np.abs(i) < 1:\n",
    "        print(i)\n",
    "# print(kurts[57:118])"
   ]
  },
  {
   "cell_type": "code",
   "execution_count": 55,
   "id": "4035dcc5",
   "metadata": {
    "collapsed": true,
    "jupyter": {
     "outputs_hidden": true
    }
   },
   "outputs": [
    {
     "name": "stdout",
     "output_type": "stream",
     "text": [
      "64 out of 256 channels flagged as having substantial RFI\n",
      "rfi bins (64), std: 2283.6841365601363): [   -1.49447178    -1.43665892    -1.42848344    -1.30072005\n",
      "     1.36723619     1.77765499     1.95520294     1.99599226\n",
      "     2.69837153     2.77565842     7.45194075     9.15578843\n",
      "    12.13500016    34.08678727    53.79489517    56.06106366\n",
      "    58.8111758     62.21383076    71.23381903    73.59801816\n",
      "    77.0791839     77.4582707     79.15564534    82.84868186\n",
      "    82.9093589     84.27472784    88.12145303    92.5499934\n",
      "    96.20952554   100.51537048   112.10573374   116.29790198\n",
      "   123.1146959    137.56464516   137.99460361   145.47226332\n",
      "   147.7016066    149.17771718   149.27834244   152.92054149\n",
      "   154.62777942   155.68795645   161.78472667   161.80417559\n",
      "   167.90087146   173.5330335    176.94288065   178.86000016\n",
      "   203.19307854   205.33115996   213.13715848   222.13435578\n",
      "   276.43721047   329.37764649  1017.144765    7592.36995261\n",
      "  8344.13568248  8679.41036745  9316.69992882  9514.13234196\n",
      " 15197.08088192 15828.75745972 16018.59132448 16283.16724603]\n",
      "\n",
      "Clean bins (192): [-1.24744037 -1.22322219 -1.22280774 -1.22182228 -1.22108577 -1.22099964\n",
      " -1.22077689 -1.22062277 -1.22048384 -1.21983151 -1.2191918  -1.21836207\n",
      " -1.21823241 -1.21779786 -1.21752575 -1.21745436 -1.21730495 -1.21685928\n",
      " -1.21612235 -1.2156091  -1.21551823 -1.21534905 -1.2152113  -1.21446028\n",
      " -1.21419994 -1.21411933 -1.2136548  -1.21334824 -1.21307001 -1.21221752\n",
      " -1.21055027 -1.20930333 -1.20600672 -1.20439753 -1.19280013 -1.19216538\n",
      " -1.18501693 -1.18010999 -1.17500782 -1.15825677 -1.11720559 -1.09188327\n",
      " -1.08020508 -1.06888625 -1.06515894 -1.02998063 -1.02666295 -1.01995759\n",
      " -1.01922071 -1.01803436 -1.01724509 -1.01451946 -1.01442037 -1.01364986\n",
      " -1.01324518 -1.01283602 -1.0128201  -1.01218901 -1.01154991 -1.01072295\n",
      " -1.01028201 -1.00858515 -1.00850115 -1.00752515 -1.00726275 -1.00663896\n",
      " -1.0065943  -1.00593468 -1.00360968 -1.00338651 -1.00302763 -1.00225356\n",
      " -1.00198902 -1.00172949 -0.99936989 -0.99805753 -0.99561441 -0.99228205\n",
      " -0.98737261 -0.97962835 -0.97826034 -0.97615175 -0.9758996  -0.97491946\n",
      " -0.97434613 -0.97344649 -0.97270139 -0.97070112 -0.97063203 -0.97040626\n",
      " -0.96995613 -0.96920025 -0.96864889 -0.96827929 -0.96760625 -0.9673424\n",
      " -0.96693763 -0.9659487  -0.96559246 -0.9633998  -0.96207812 -0.95769228\n",
      " -0.95579772 -0.95316246 -0.94916254 -0.94730918 -0.94511865 -0.9450913\n",
      " -0.94485178 -0.94412757 -0.94250983 -0.94167552 -0.92942418 -0.92862236\n",
      " -0.90407302 -0.89795132 -0.89747479 -0.87506303 -0.85604877 -0.8437228\n",
      " -0.80836149 -0.80726577 -0.78605546 -0.77986521 -0.75360418 -0.72605501\n",
      " -0.7221017  -0.65343658 -0.65228465 -0.64209601 -0.58915864 -0.48197489\n",
      " -0.4732979  -0.45740784 -0.45280031 -0.44418438 -0.4388743  -0.43023068\n",
      " -0.42619621 -0.4246243  -0.38568392 -0.35009353 -0.32557704 -0.29682149\n",
      " -0.27345622 -0.24289774 -0.22280311 -0.2205598  -0.2147485  -0.21184332\n",
      " -0.20118763 -0.19175884 -0.18478443 -0.18189839 -0.18053618 -0.17817916\n",
      " -0.16328751 -0.1573961  -0.15659571 -0.15377011 -0.14019684 -0.13992468\n",
      " -0.1368367  -0.13569533 -0.13213921 -0.13135888 -0.1290361  -0.12565675\n",
      " -0.11927615 -0.11697225 -0.11171574 -0.1096103  -0.107646   -0.10509117\n",
      " -0.10332072 -0.09298844 -0.08696886 -0.06311414 -0.05719674 -0.04994219\n",
      " -0.04860402 -0.04678725 -0.01428395  0.00882421  0.10947075  0.11137645\n",
      "  0.11624334  0.16031439  0.1916556   0.23563353  0.71269475  1.04197283]\n",
      "\n",
      "All bins (kurt) (256): [   -1.49447178    -1.43665892    -1.42848344    -1.30072005\n",
      "    -1.24744037    -1.22322219    -1.22280774    -1.22182228\n",
      "    -1.22108577    -1.22099964    -1.22077689    -1.22062277\n",
      "    -1.22048384    -1.21983151    -1.2191918     -1.21836207\n",
      "    -1.21823241    -1.21779786    -1.21752575    -1.21745436\n",
      "    -1.21730495    -1.21685928    -1.21612235    -1.2156091\n",
      "    -1.21551823    -1.21534905    -1.2152113     -1.21446028\n",
      "    -1.21419994    -1.21411933    -1.2136548     -1.21334824\n",
      "    -1.21307001    -1.21221752    -1.21055027    -1.20930333\n",
      "    -1.20600672    -1.20439753    -1.19280013    -1.19216538\n",
      "    -1.18501693    -1.18010999    -1.17500782    -1.15825677\n",
      "    -1.11720559    -1.09188327    -1.08020508    -1.06888625\n",
      "    -1.06515894    -1.02998063    -1.02666295    -1.01995759\n",
      "    -1.01922071    -1.01803436    -1.01724509    -1.01451946\n",
      "    -1.01442037    -1.01364986    -1.01324518    -1.01283602\n",
      "    -1.0128201     -1.01218901    -1.01154991    -1.01072295\n",
      "    -1.01028201    -1.00858515    -1.00850115    -1.00752515\n",
      "    -1.00726275    -1.00663896    -1.0065943     -1.00593468\n",
      "    -1.00360968    -1.00338651    -1.00302763    -1.00225356\n",
      "    -1.00198902    -1.00172949    -0.99936989    -0.99805753\n",
      "    -0.99561441    -0.99228205    -0.98737261    -0.97962835\n",
      "    -0.97826034    -0.97615175    -0.9758996     -0.97491946\n",
      "    -0.97434613    -0.97344649    -0.97270139    -0.97070112\n",
      "    -0.97063203    -0.97040626    -0.96995613    -0.96920025\n",
      "    -0.96864889    -0.96827929    -0.96760625    -0.9673424\n",
      "    -0.96693763    -0.9659487     -0.96559246    -0.9633998\n",
      "    -0.96207812    -0.95769228    -0.95579772    -0.95316246\n",
      "    -0.94916254    -0.94730918    -0.94511865    -0.9450913\n",
      "    -0.94485178    -0.94412757    -0.94250983    -0.94167552\n",
      "    -0.92942418    -0.92862236    -0.90407302    -0.89795132\n",
      "    -0.89747479    -0.87506303    -0.85604877    -0.8437228\n",
      "    -0.80836149    -0.80726577    -0.78605546    -0.77986521\n",
      "    -0.75360418    -0.72605501    -0.7221017     -0.65343658\n",
      "    -0.65228465    -0.64209601    -0.58915864    -0.48197489\n",
      "    -0.4732979     -0.45740784    -0.45280031    -0.44418438\n",
      "    -0.4388743     -0.43023068    -0.42619621    -0.4246243\n",
      "    -0.38568392    -0.35009353    -0.32557704    -0.29682149\n",
      "    -0.27345622    -0.24289774    -0.22280311    -0.2205598\n",
      "    -0.2147485     -0.21184332    -0.20118763    -0.19175884\n",
      "    -0.18478443    -0.18189839    -0.18053618    -0.17817916\n",
      "    -0.16328751    -0.1573961     -0.15659571    -0.15377011\n",
      "    -0.14019684    -0.13992468    -0.1368367     -0.13569533\n",
      "    -0.13213921    -0.13135888    -0.1290361     -0.12565675\n",
      "    -0.11927615    -0.11697225    -0.11171574    -0.1096103\n",
      "    -0.107646      -0.10509117    -0.10332072    -0.09298844\n",
      "    -0.08696886    -0.06311414    -0.05719674    -0.04994219\n",
      "    -0.04860402    -0.04678725    -0.01428395     0.00882421\n",
      "     0.10947075     0.11137645     0.11624334     0.16031439\n",
      "     0.1916556      0.23563353     0.71269475     1.04197283\n",
      "     1.36723619     1.77765499     1.95520294     1.99599226\n",
      "     2.69837153     2.77565842     7.45194075     9.15578843\n",
      "    12.13500016    34.08678727    53.79489517    56.06106366\n",
      "    58.8111758     62.21383076    71.23381903    73.59801816\n",
      "    77.0791839     77.4582707     79.15564534    82.84868186\n",
      "    82.9093589     84.27472784    88.12145303    92.5499934\n",
      "    96.20952554   100.51537048   112.10573374   116.29790198\n",
      "   123.1146959    137.56464516   137.99460361   145.47226332\n",
      "   147.7016066    149.17771718   149.27834244   152.92054149\n",
      "   154.62777942   155.68795645   161.78472667   161.80417559\n",
      "   167.90087146   173.5330335    176.94288065   178.86000016\n",
      "   203.19307854   205.33115996   213.13715848   222.13435578\n",
      "   276.43721047   329.37764649  1017.144765    7592.36995261\n",
      "  8344.13568248  8679.41036745  9316.69992882  9514.13234196\n",
      " 15197.08088192 15828.75745972 16018.59132448 16283.16724603]\n",
      "\n",
      "All bins (freq): [2476.50000381 2476.62500381 2476.75000381 2476.87500381 2477.00000381\n",
      " 2477.12500381 2477.25000381 2477.37500381 2477.50000381 2477.62500381\n",
      " 2477.75000381 2477.87500381 2478.00000381 2478.12500381 2478.25000381\n",
      " 2478.37500381 2478.50000381 2478.62500381 2478.75000381 2478.87500381\n",
      " 2479.00000381 2479.12500381 2479.25000381 2479.37500381 2479.50000381\n",
      " 2479.62500381 2479.75000381 2479.87500381 2480.00000381 2480.12500381\n",
      " 2480.25000381 2480.37500381 2480.50000381 2480.62500381 2480.75000381\n",
      " 2480.87500381 2481.00000381 2481.12500381 2481.25000381 2481.37500381\n",
      " 2481.50000381 2481.62500381 2481.75000381 2481.87500381 2482.00000381\n",
      " 2482.12500381 2482.25000381 2482.37500381 2482.50000381 2482.62500381\n",
      " 2482.75000381 2482.87500381 2483.00000381 2483.12500381 2483.25000381\n",
      " 2483.37500381 2483.50000381 2483.62500381 2483.75000381 2483.87500381\n",
      " 2484.00000381 2484.12500381 2484.25000381 2484.37500381 2484.50000381\n",
      " 2484.62500381 2484.75000381 2484.87500381 2485.00000381 2485.12500381\n",
      " 2485.25000381 2485.37500381 2485.50000381 2485.62500381 2485.75000381\n",
      " 2485.87500381 2486.00000381 2486.12500381 2486.25000381 2486.37500381\n",
      " 2486.50000381 2486.62500381 2486.75000381 2486.87500381 2487.00000381\n",
      " 2487.12500381 2487.25000381 2487.37500381 2487.50000381 2487.62500381\n",
      " 2487.75000381 2487.87500381 2488.00000381 2488.12500381 2488.25000381\n",
      " 2488.37500381 2488.50000381 2488.62500381 2488.75000381 2488.87500381\n",
      " 2489.00000381 2489.12500381 2489.25000381 2489.37500381 2489.50000381\n",
      " 2489.62500381 2489.75000381 2489.87500381 2490.00000381 2490.12500381\n",
      " 2490.25000381 2490.37500381 2490.50000381 2490.62500381 2490.75000381\n",
      " 2490.87500381 2491.00000381 2491.12500381 2491.25000381 2491.37500381\n",
      " 2491.50000381 2491.62500381 2491.75000381 2491.87500381 2492.00000381\n",
      " 2492.12500381 2492.25000381 2492.37500381 2492.50000381 2492.62500381\n",
      " 2492.75000381 2492.87500381 2493.00000381 2493.12500381 2493.25000381\n",
      " 2493.37500381 2493.50000381 2493.62500381 2493.75000381 2493.87500381\n",
      " 2494.00000381 2494.12500381 2494.25000381 2494.37500381 2494.50000381\n",
      " 2494.62500381 2494.75000381 2494.87500381 2495.00000381 2495.12500381\n",
      " 2495.25000381 2495.37500381 2495.50000381 2495.62500381 2495.75000381\n",
      " 2495.87500381 2496.00000381 2496.12500381 2496.25000381 2496.37500381\n",
      " 2496.50000381 2496.62500381 2496.75000381 2496.87500381 2497.00000381\n",
      " 2497.12500381 2497.25000381 2497.37500381 2497.50000381 2497.62500381\n",
      " 2497.75000381 2497.87500381 2498.00000381 2498.12500381 2498.25000381\n",
      " 2498.37500381 2498.50000381 2498.62500381 2498.75000381 2498.87500381\n",
      " 2499.00000381 2499.12500381 2499.25000381 2499.37500381 2499.50000381\n",
      " 2499.62500381 2499.75000381 2499.87500381 2500.00000381 2500.12500381\n",
      " 2500.25000381 2500.37500381 2500.50000381 2500.62500381 2500.75000381\n",
      " 2500.87500381 2501.00000381 2501.12500381 2501.25000381 2501.37500381\n",
      " 2501.50000381 2501.62500381 2501.75000381 2501.87500381 2502.00000381\n",
      " 2502.12500381 2502.25000381 2502.37500381 2502.50000381 2502.62500381\n",
      " 2502.75000381 2502.87500381 2503.00000381 2503.12500381 2503.25000381\n",
      " 2503.37500381 2503.50000381 2503.62500381 2503.75000381 2503.87500381\n",
      " 2504.00000381 2504.12500381 2504.25000381 2504.37500381 2504.50000381\n",
      " 2504.62500381 2504.75000381 2504.87500381 2505.00000381 2505.12500381\n",
      " 2505.25000381 2505.37500381 2505.50000381 2505.62500381 2505.75000381\n",
      " 2505.87500381 2506.00000381 2506.12500381 2506.25000381 2506.37500381\n",
      " 2506.50000381 2506.62500381 2506.75000381 2506.87500381 2507.00000381\n",
      " 2507.12500381 2507.25000381 2507.37500381 2507.50000381 2507.62500381\n",
      " 2507.75000381 2507.87500381 2508.00000381 2508.12500381 2508.25000381\n",
      " 2508.37500381]\n"
     ]
    }
   ],
   "source": [
    "bins, kurts, pows_mean= get_tavg_kurtosis(water2, n_divs=256)\n",
    "flagged_bins, flagged_kurts, masked_kurts, bin_mask, freq_mask = get_mask_kurtosis(water2, n_divs=ndivs, threshold=thrsh)\n",
    "np.set_printoptions(threshold=sys.maxsize, suppress=True)\n",
    "\n",
    "rfi_flagged_bins = []\n",
    "clean_bins = []\n",
    "\n",
    "\n",
    "for i in ma.nonzero(flagged_kurts)[0]:\n",
    "    rfi_flagged_bins.append(flagged_kurts[i])\n",
    "\n",
    "# print(masked_kurts[ma.nonzero(masked_kurts)[0][0]])\n",
    "# print(ma.nonzero(masked_kurts)[0])\n",
    "for j in ma.nonzero(masked_kurts)[0]:\n",
    "    clean_bins.append(masked_kurts[j])\n",
    "\n",
    "print(f'rfi bins ({len(rfi_flagged_bins)}), std: {np.std(kurts)}): {np.sort(rfi_flagged_bins)}\\n\\nClean bins ({len(clean_bins)}): {np.sort(clean_bins)}\\n\\nAll bins (kurt) ({len(kurts)}): {np.sort(kurts)}\\n\\nAll bins (freq): {np.sort(bins)}')"
   ]
  }
 ],
 "metadata": {
  "kernelspec": {
   "display_name": "Python 3 (ipykernel)",
   "language": "python",
   "name": "python3"
  },
  "language_info": {
   "codemirror_mode": {
    "name": "ipython",
    "version": 3
   },
   "file_extension": ".py",
   "mimetype": "text/x-python",
   "name": "python",
   "nbconvert_exporter": "python",
   "pygments_lexer": "ipython3",
   "version": "3.10.6"
  }
 },
 "nbformat": 4,
 "nbformat_minor": 5
}
