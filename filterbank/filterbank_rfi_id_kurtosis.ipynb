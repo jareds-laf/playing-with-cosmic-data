{
 "cells": [
  {
   "cell_type": "code",
   "execution_count": 1,
   "id": "1f069aa6",
   "metadata": {},
   "outputs": [],
   "source": [
    "import matplotlib"
   ]
  },
  {
   "cell_type": "code",
   "execution_count": 3,
   "id": "f3fae414",
   "metadata": {},
   "outputs": [
    {
     "name": "stdout",
     "output_type": "stream",
     "text": [
      "Using matplotlib backend: <object object at 0x7f91a5e193b0>\n"
     ]
    }
   ],
   "source": [
    "%matplotlib"
   ]
  },
  {
   "cell_type": "code",
   "execution_count": null,
   "id": "7367c152",
   "metadata": {},
   "outputs": [],
   "source": [
    "%matplotlib tk\n",
    "matplotlib.use('TkAgg')"
   ]
  },
  {
   "cell_type": "code",
   "execution_count": 8,
   "id": "5ac4e889",
   "metadata": {},
   "outputs": [],
   "source": [
    "%matplotlib inline"
   ]
  },
  {
   "cell_type": "code",
   "execution_count": 2,
   "id": "29949200",
   "metadata": {},
   "outputs": [],
   "source": [
    "# %matplotlib qt\n",
    "# matplotlib.use('TkAgg')\n",
    "import matplotlib.pyplot as plt\n",
    "import pylab as plt\n",
    "import blimpy\n",
    "from blimpy import Waterfall\n",
    "from blimpy import calcload\n",
    "import os\n",
    "import glob\n",
    "import numpy as np\n",
    "import time\n",
    "from scipy.stats import norm, kurtosis, kurtosistest\n",
    "import scipy\n",
    "import numpy.ma as ma\n",
    "import seaborn as sns\n",
    "\n",
    "import sys\n",
    "file_path = '/lustre/aoc/students/jsofair/playing-with-cosmic-data/filterbank/'\n",
    "sys.path.insert(1, file_path[:54])\n",
    "from analysis_functions import plot_tavg_power"
   ]
  },
  {
   "cell_type": "code",
   "execution_count": 3,
   "id": "6b4579db",
   "metadata": {},
   "outputs": [
    {
     "name": "stdout",
     "output_type": "stream",
     "text": [
      "11.0 -- band_test_AC_CO-beam0001.fil\n",
      "9.0 -- Band_Test_BD_C512-beam0001.fil\n",
      "9.0 -- band_test_AC_C512-beam0001.fil\n",
      "11.0 -- Band_Test_BD_C0-beam0001.fil\n",
      "7.0 -- band_test_GPU3_BD_C32-beam0001.fil\n",
      "11.0 -- band_test_AC_C32-beam0001.fil\n",
      "4.0 -- band_test_AC_C544-beam0001.fil\n"
     ]
    }
   ],
   "source": [
    "file_list = glob.glob(os.path.join(file_path,'*.fil'))\n",
    "\n",
    "ml_list = []\n",
    "for i, file in enumerate(file_list):\n",
    "    ml = blimpy.calcload.calc_max_load(os.path.join(file))\n",
    "    ml_list.append(ml)\n",
    "    print(f'{ml} -- {file[65:]}')"
   ]
  },
  {
   "cell_type": "code",
   "execution_count": 4,
   "id": "ed3c026a",
   "metadata": {},
   "outputs": [
    {
     "name": "stdout",
     "output_type": "stream",
     "text": [
      "Elapsed time: 2.4603073596954346\n"
     ]
    }
   ],
   "source": [
    "t0=time.time()\n",
    "\n",
    "water6 = Waterfall(os.path.normpath(file_list[6]), max_load = ml_list[6])\n",
    "\n",
    "\n",
    "# water0 = Waterfall(os.path.normpath(file_list[0]), max_load = ml_list[0])\n",
    "# water1 = Waterfall(os.path.normpath(file_list[1]), max_load = ml_list[1])\n",
    "# water2 = Waterfall(os.path.normpath(file_list[2]), max_load = ml_list[2])\n",
    "# water3 = Waterfall(os.path.normpath(file_list[3]), max_load = ml_list[3])\n",
    "# water4 = Waterfall(os.path.normpath(file_list[4]), max_load = ml_list[4])\n",
    "# water5 = Waterfall(os.path.normpath(file_list[5]), max_load = ml_list[5])\n",
    "# water6 = Waterfall(os.path.normpath(file_list[6]), max_load = ml_list[6])\n",
    "\n",
    "# water_list = [water0, water1, water2, water3, water4, water5, water6]\n",
    "# print(water_list)\n",
    "\n",
    "t1 = time.time()\n",
    "print(f'Elapsed time: {t1 - t0}')"
   ]
  },
  {
   "cell_type": "code",
   "execution_count": 5,
   "id": "507cc0da",
   "metadata": {},
   "outputs": [
    {
     "name": "stdout",
     "output_type": "stream",
     "text": [
      "\n",
      "--- File Info ---\n",
      "      machine_id :                                0\n",
      "    telescope_id :                               -1\n",
      "         src_raj :                 4:09:22.00873993\n",
      "         src_dej :                12:17:39.84749624\n",
      "        az_start :              6.927632722041e-310\n",
      "        za_start :             4.6890767235416e-310\n",
      "       data_type :                                1\n",
      "            fch1 :           2540.4999961853027 MHz\n",
      "            foff :           -7.62939453125e-06 MHz\n",
      "          nchans :                          4194304\n",
      "          nbeams :                                2\n",
      "           ibeam :                                1\n",
      "           nbits :                               32\n",
      "   tstart (ISOT) :          2023-05-10T22:08:42.502\n",
      "    tstart (MJD) :               60074.922714145854\n",
      "           tsamp :                         0.131072\n",
      "            nifs :                                1\n",
      "     barycentric :                                1\n",
      "   pulsarcentric :                                1\n",
      "     source_name :                       Incoherent\n",
      "     rawdatafile : TCOS0001_sb43905589_1_1_001.60074.91866136574.4.1.AC.C544\n",
      "\n",
      "Num ints in file :                              223\n",
      "      File shape :                (223, 1, 4194304)\n",
      "--- Selection Info ---\n",
      "Data selection shape :                (223, 1, 4194304)\n",
      "Minimum freq (MHz) :               2508.5000038146973\n",
      "Maximum freq (MHz) :               2540.4999961853027\n"
     ]
    }
   ],
   "source": [
    "water6.info()\n",
    "# 640 channels\n",
    "# ~4.2 M fine frequency channels"
   ]
  },
  {
   "cell_type": "code",
   "execution_count": 36,
   "id": "96df90af",
   "metadata": {},
   "outputs": [],
   "source": [
    "def plot_tavg_kurtosis(wf_in, n_divs=32):\n",
    "    # This function grabs the kurtosis of each 1 MHz channel of a specified blimpy waterfall object\\\n",
    "    \n",
    "    # wf_in: Specified blimpy waterfall object\n",
    "    # n_divs: Number of divisions to break wf_in into\n",
    "        # 32 is the correct number of channels to break a waterfall into assuming the frequency range\n",
    "        # of the waterfall is 32 MHz\n",
    "        \n",
    "    np.set_printoptions(threshold=4)\n",
    "\n",
    "    # Get power and frequency in increasing order\n",
    "    if wf_in.header['foff'] < 0:\n",
    "        pows_flipped = np.flip(wf_in.data)\n",
    "        freqs_flipped = wf_in.get_freqs()[::-1]\n",
    "    \n",
    "    # Time-average the power\n",
    "    pows_mean_flipped = np.mean(pows_flipped, axis=0)[0]    \n",
    "\n",
    "    # Split frequency and time-averaged power into n_divs channels\n",
    "    freqs = np.array_split(freqs_flipped, n_divs)\n",
    "    pows_mean = np.array_split(pows_mean_flipped, n_divs)\n",
    "    \n",
    "    # Get kurtosis of all channels\n",
    "    kurts_list = []\n",
    "    \n",
    "    for i, division in enumerate(pows_mean):\n",
    "        kurts_list.append(kurtosis(division/(10**9))) # Rescaling data so that kurtosis != inf ever\n",
    "\n",
    "    kurts = np.array(kurts_list, dtype=np.float64)\n",
    "    \n",
    "    # Binning frequencies such that the labeled frequency is the bottom of the bin\n",
    "    # i.e., if chnl[0] is 2010 MHz and each channel is 1 MHz, then the bin from 2010 MHz to 2010.99 MHz \n",
    "    bins = []\n",
    "    for chnl in freqs:\n",
    "        bins.append(chnl[0])\n",
    "    \n",
    "    \n",
    "#     inf_kurt = np.where(np.isfinite(kurts) == False)\n",
    "    \n",
    "#     print(f'Where is kurtosis non-finite: {np.shape(inf_kurt)}, {inf_kurt}')\n",
    "# #     print(kurts.dtype)\n",
    "#     print(np.shape(bins))\n",
    "\n",
    "    # Plot kurtosis vs. frequency\n",
    "    fig, ax = plt.subplots()\n",
    "    \n",
    "    ax.plot(bins,kurts,'.')\n",
    "    ax.set_xlabel('Frequency (MHz)')\n",
    "    ax.set_ylabel('Kurtosis')\n",
    "    \n",
    "#     plt.show()\n",
    "    \n",
    "    return kurts#, inf_kurt\n",
    "#     inf_kurts = []\n",
    "#     for i in inf_kurt[0]:\n",
    "#         print(bins[i])\n",
    "#         inf_kurts.append(bins[i])\n",
    "# #         ax.plot(bins[i], 500, 'o', c='red')\n",
    "#         inf_line = plt.axvline(x=bins[i], ymin=0, ymax=10, c='r', ls='--')\n",
    "#     inf_line.set_label('Channels with infinite kurtosis')\n",
    "#     ax.legend(fancybox=True, shadow=True, loc='center right', bbox_to_anchor=(0.5, 1.05))\n",
    "        \n",
    "        \n",
    "#         inf_kurts.append(inf_kurt[i])\n",
    "    \n",
    "#     plt.axvline\n",
    "#     ax.plot(freqs[inf_kurt], inf_kurt, '.')\n",
    "    \n",
    "#     ax.plot(freqs,pows_mean)\n",
    "    \n",
    "#     ax.plot(freqs2.flatten(), pows_mean2.flatten())\n",
    "    \n",
    "#     ax.set_xlim(2508, 2541)\n",
    "#     ax.set_ylim(np.amin(kurts)-1,np.amax(kurts))\n",
    "    \n",
    "#     ax.plot(bins, kurts)\n",
    "#     plt.show()"
   ]
  },
  {
   "cell_type": "code",
   "execution_count": 34,
   "id": "4512d3f3",
   "metadata": {},
   "outputs": [],
   "source": [
    "def plot_tavg_kurtosis_scale(wf_in, n_divs=32):\n",
    "    # This function grabs the kurtosis of each 1 MHz channel of a specified blimpy waterfall object\\\n",
    "    \n",
    "    # wf_in: Specified blimpy waterfall object\n",
    "    # n_divs: Number of divisions to break wf_in into\n",
    "        # 32 is the correct number of channels to break a waterfall into assuming the frequency range\n",
    "        # of the waterfall is 32 MHz\n",
    "        \n",
    "    np.set_printoptions(threshold=4)\n",
    "\n",
    "    # Get power and frequency in increasing order\n",
    "    if wf_in.header['foff'] < 0:\n",
    "        pows_flipped = np.flip(wf_in.data)\n",
    "        freqs_flipped = wf_in.get_freqs()[::-1]\n",
    "    \n",
    "    # Time-average the power\n",
    "    pows_mean_flipped = np.mean(pows_flipped, axis=0)[0]    \n",
    "#     print(f'{np.shape(pows_mean_flipped)} {np.shape(freqs_flipped)}\\n\\n')\n",
    "#     print(f'{(pows_mean_flipped)} {(freqs_flipped)}\\n\\n')\n",
    "\n",
    "\n",
    "    # Split frequency and time-averaged power into n_divs channels\n",
    "    freqs = np.array_split(freqs_flipped, n_divs)\n",
    "    pows_mean = np.array_split(pows_mean_flipped, n_divs)\n",
    "    \n",
    "#     print(np.shape(freqs), np.shape(pows_mean))\n",
    "    kurts_list = []\n",
    "    kurts_list2 = []\n",
    "#     divs = []\n",
    "    for i, division in enumerate(pows_mean):\n",
    "        kurts_list.append(kurtosis(division))\n",
    "        \n",
    "    for i, division in enumerate(pows_mean):\n",
    "        kurts_list2.append(kurtosis(division/(10**9)))\n",
    "\n",
    "    kurts = np.array(kurts_list, dtype=np.float64)\n",
    "    kurts2 = np.array(kurts_list2, dtype=np.float64)\n",
    "    \n",
    "    \n",
    "    bins = []\n",
    "    for chnl in freqs:\n",
    "        bins.append(chnl[0])\n",
    "    \n",
    "    \n",
    "    inf_kurt = np.where(np.isfinite(kurts) == False)\n",
    "    \n",
    "    print(f'Where is kurtosis non-finite: {np.shape(inf_kurt)}, {inf_kurt}')\n",
    "#     print(kurts.dtype)\n",
    "#     print(np.shape(bins))\n",
    "    \n",
    "    print(f'Non-scaled kurtosis length: {np.shape(np.where(np.isfinite(kurts)))}\\nScaled kurtosis length: {np.shape(kurts2)}\\nInfinite kurtosis length: {np.shape(inf_kurt)}')\n",
    "    fig, ax = plt.subplots()\n",
    "    \n",
    "    ax.plot(bins,kurts,'o')\n",
    "    ax.set_xlabel('Frequency (MHz)')\n",
    "    ax.set_ylabel('Kurtosis (Scaled Down)')\n",
    "    ax.plot(bins,kurts2,'.',c='red')\n",
    "    \n",
    "#     plt.show()\n",
    "    \n",
    "    return kurts, inf_kurt\n",
    "#     inf_kurts = []\n",
    "#     for i in inf_kurt[0]:\n",
    "#         print(bins[i])\n",
    "#         inf_kurts.append(bins[i])\n",
    "# #         ax.plot(bins[i], 500, 'o', c='red')\n",
    "#         inf_line = plt.axvline(x=bins[i], ymin=0, ymax=10, c='r', ls='--')\n",
    "#     inf_line.set_label('Channels with infinite kurtosis')\n",
    "#     ax.legend(fancybox=True, shadow=True, loc='center right', bbox_to_anchor=(0.5, 1.05))"
   ]
  },
  {
   "cell_type": "code",
   "execution_count": 6,
   "id": "84f78315",
   "metadata": {},
   "outputs": [],
   "source": [
    "def find_rfi(wf_in):\n",
    "    print()"
   ]
  },
  {
   "cell_type": "code",
   "execution_count": 9,
   "id": "6b125c28",
   "metadata": {},
   "outputs": [],
   "source": [
    "plt.close('all')"
   ]
  },
  {
   "cell_type": "code",
   "execution_count": null,
   "id": "761beedc",
   "metadata": {},
   "outputs": [],
   "source": [
    "plot_tavg_kurtosis(water6, 8192)"
   ]
  },
  {
   "cell_type": "code",
   "execution_count": 39,
   "id": "2a1f9a46",
   "metadata": {},
   "outputs": [
    {
     "data": {
      "image/png": "[encoded data removed]",
      "text/plain": [
       "<Figure size 640x480 with 1 Axes>"
      ]
     },
     "metadata": {},
     "output_type": "display_data"
    }
   ],
   "source": [
    "# kurts1 = plot_tavg_kurtosis(water6, 8192)\n",
    "kurts2 = plot_tavg_kurtosis(water6, 8192)"
   ]
  },
  {
   "cell_type": "code",
   "execution_count": 40,
   "id": "e6f9b09e",
   "metadata": {
    "scrolled": false
   },
   "outputs": [
    {
     "name": "stdout",
     "output_type": "stream",
     "text": [
      "Where is kurtosis non-finite: (1, 40), (array([  29,   37,   43, ..., 8186, 8188, 8190]),)\n",
      "Non-scaled kurtosis length: (1, 8152)\n",
      "Scaled kurtosis length: (8192,)\n",
      "Infinite kurtosis length: (1, 40)\n"
     ]
    },
    {
     "data": {
      "text/plain": [
       "(array([ 0.04330681, -0.00755788, -0.22072963, ...,  0.39160954,\n",
       "                inf,  0.18960121]),\n",
       " (array([  29,   37,   43, ..., 8186, 8188, 8190]),))"
      ]
     },
     "execution_count": 40,
     "metadata": {},
     "output_type": "execute_result"
    },
    {
     "data": {
      "image/png": "[encoded data removed]",
      "text/plain": [
       "<Figure size 640x480 with 1 Axes>"
      ]
     },
     "metadata": {},
     "output_type": "display_data"
    }
   ],
   "source": [
    "plot_tavg_kurtosis_scale(water6, 8192)"
   ]
  },
  {
   "cell_type": "code",
   "execution_count": 12,
   "id": "f9b04e2e",
   "metadata": {},
   "outputs": [
    {
     "data": {
      "image/png": "[encoded data removed]",
      "text/plain": [
       "<Figure size 640x480 with 1 Axes>"
      ]
     },
     "metadata": {},
     "output_type": "display_data"
    }
   ],
   "source": [
    "plot_tavg_power(water6, f_start=2507.5, f_stop=2541, find_inf=False, n_divs=8192)"
   ]
  },
  {
   "cell_type": "code",
   "execution_count": 8,
   "id": "ed16a0bc",
   "metadata": {},
   "outputs": [
    {
     "name": "stdout",
     "output_type": "stream",
     "text": [
      "<class 'numpy.ndarray'>\n",
      "(223, 131072)\n",
      "(1, 131072)\n",
      "<class 'numpy.ndarray'>\n",
      "(223, 131072)\n",
      "(2, 131072)\n",
      "<class 'numpy.ndarray'>\n",
      "(223, 131072)\n",
      "(3, 131072)\n",
      "<class 'numpy.ndarray'>\n",
      "(223, 131072)\n",
      "(4, 131072)\n",
      "<class 'numpy.ndarray'>\n",
      "(223, 131072)\n",
      "(5, 131072)\n",
      "<class 'numpy.ndarray'>\n",
      "(223, 131072)\n",
      "(6, 131072)\n",
      "<class 'numpy.ndarray'>\n",
      "(223, 131072)\n",
      "(7, 131072)\n",
      "<class 'numpy.ndarray'>\n",
      "(223, 131072)\n",
      "(8, 131072)\n",
      "<class 'numpy.ndarray'>\n",
      "(223, 131072)\n",
      "(9, 131072)\n",
      "<class 'numpy.ndarray'>\n",
      "(223, 131072)\n"
     ]
    },
    {
     "ename": "KeyboardInterrupt",
     "evalue": "",
     "output_type": "error",
     "traceback": [
      "\u001b[0;31m---------------------------------------------------------------------------\u001b[0m",
      "\u001b[0;31mKeyboardInterrupt\u001b[0m                         Traceback (most recent call last)",
      "Cell \u001b[0;32mIn[8], line 22\u001b[0m\n\u001b[1;32m     19\u001b[0m \u001b[38;5;28mprint\u001b[39m(\u001b[38;5;28mtype\u001b[39m(plot_data))\n\u001b[1;32m     20\u001b[0m \u001b[38;5;28mprint\u001b[39m(np\u001b[38;5;241m.\u001b[39mshape(plot_data))\n\u001b[0;32m---> 22\u001b[0m pltdata\u001b[38;5;241m.\u001b[39mappend(\u001b[43mkurtosis\u001b[49m\u001b[43m(\u001b[49m\u001b[43mplot_data\u001b[49m\u001b[43m,\u001b[49m\u001b[43m \u001b[49m\u001b[43maxis\u001b[49m\u001b[38;5;241;43m=\u001b[39;49m\u001b[38;5;241;43m0\u001b[39;49m\u001b[43m,\u001b[49m\u001b[43m \u001b[49m\u001b[43mnan_policy\u001b[49m\u001b[38;5;241;43m=\u001b[39;49m\u001b[38;5;124;43m'\u001b[39;49m\u001b[38;5;124;43momit\u001b[39;49m\u001b[38;5;124;43m'\u001b[39;49m\u001b[43m)\u001b[49m)\n\u001b[1;32m     23\u001b[0m \u001b[38;5;28;01mtry\u001b[39;00m:\n\u001b[1;32m     24\u001b[0m     \u001b[38;5;28mprint\u001b[39m(np\u001b[38;5;241m.\u001b[39mshape(pltdata))\n",
      "File \u001b[0;32m/lustre/aoc/students/jsofair/jnrao/lib/python3.8/site-packages/scipy/stats/_axis_nan_policy.py:527\u001b[0m, in \u001b[0;36m_axis_nan_policy_factory.<locals>.axis_nan_policy_decorator.<locals>.axis_nan_policy_wrapper\u001b[0;34m(***failed resolving arguments***)\u001b[0m\n\u001b[1;32m    524\u001b[0m contains_nan, _ \u001b[38;5;241m=\u001b[39m _contains_nan(x, nan_policy)\n\u001b[1;32m    526\u001b[0m \u001b[38;5;28;01mif\u001b[39;00m vectorized \u001b[38;5;129;01mand\u001b[39;00m \u001b[38;5;129;01mnot\u001b[39;00m contains_nan \u001b[38;5;129;01mand\u001b[39;00m \u001b[38;5;129;01mnot\u001b[39;00m sentinel:\n\u001b[0;32m--> 527\u001b[0m     res \u001b[38;5;241m=\u001b[39m \u001b[43mhypotest_fun_out\u001b[49m\u001b[43m(\u001b[49m\u001b[38;5;241;43m*\u001b[39;49m\u001b[43msamples\u001b[49m\u001b[43m,\u001b[49m\u001b[43m \u001b[49m\u001b[43maxis\u001b[49m\u001b[38;5;241;43m=\u001b[39;49m\u001b[43maxis\u001b[49m\u001b[43m,\u001b[49m\u001b[43m \u001b[49m\u001b[38;5;241;43m*\u001b[39;49m\u001b[38;5;241;43m*\u001b[39;49m\u001b[43mkwds\u001b[49m\u001b[43m)\u001b[49m\n\u001b[1;32m    528\u001b[0m     res \u001b[38;5;241m=\u001b[39m result_to_tuple(res)\n\u001b[1;32m    529\u001b[0m     res \u001b[38;5;241m=\u001b[39m _add_reduced_axes(res, reduced_axes, keepdims)\n",
      "File \u001b[0;32m/lustre/aoc/students/jsofair/jnrao/lib/python3.8/site-packages/scipy/stats/_stats_py.py:1419\u001b[0m, in \u001b[0;36mkurtosis\u001b[0;34m(a, axis, fisher, bias, nan_policy)\u001b[0m\n\u001b[1;32m   1417\u001b[0m mean \u001b[38;5;241m=\u001b[39m a\u001b[38;5;241m.\u001b[39mmean(axis, keepdims\u001b[38;5;241m=\u001b[39m\u001b[38;5;28;01mTrue\u001b[39;00m)\n\u001b[1;32m   1418\u001b[0m m2 \u001b[38;5;241m=\u001b[39m _moment(a, \u001b[38;5;241m2\u001b[39m, axis, mean\u001b[38;5;241m=\u001b[39mmean)\n\u001b[0;32m-> 1419\u001b[0m m4 \u001b[38;5;241m=\u001b[39m \u001b[43m_moment\u001b[49m\u001b[43m(\u001b[49m\u001b[43ma\u001b[49m\u001b[43m,\u001b[49m\u001b[43m \u001b[49m\u001b[38;5;241;43m4\u001b[39;49m\u001b[43m,\u001b[49m\u001b[43m \u001b[49m\u001b[43maxis\u001b[49m\u001b[43m,\u001b[49m\u001b[43m \u001b[49m\u001b[43mmean\u001b[49m\u001b[38;5;241;43m=\u001b[39;49m\u001b[43mmean\u001b[49m\u001b[43m)\u001b[49m\n\u001b[1;32m   1420\u001b[0m \u001b[38;5;28;01mwith\u001b[39;00m np\u001b[38;5;241m.\u001b[39merrstate(\u001b[38;5;28mall\u001b[39m\u001b[38;5;241m=\u001b[39m\u001b[38;5;124m'\u001b[39m\u001b[38;5;124mignore\u001b[39m\u001b[38;5;124m'\u001b[39m):\n\u001b[1;32m   1421\u001b[0m     zero \u001b[38;5;241m=\u001b[39m (m2 \u001b[38;5;241m<\u001b[39m\u001b[38;5;241m=\u001b[39m (np\u001b[38;5;241m.\u001b[39mfinfo(m2\u001b[38;5;241m.\u001b[39mdtype)\u001b[38;5;241m.\u001b[39mresolution \u001b[38;5;241m*\u001b[39m mean\u001b[38;5;241m.\u001b[39msqueeze(axis))\u001b[38;5;241m*\u001b[39m\u001b[38;5;241m*\u001b[39m\u001b[38;5;241m2\u001b[39m)\n",
      "File \u001b[0;32m/lustre/aoc/students/jsofair/jnrao/lib/python3.8/site-packages/scipy/stats/_stats_py.py:1199\u001b[0m, in \u001b[0;36m_moment\u001b[0;34m(a, moment, axis, mean)\u001b[0m\n\u001b[1;32m   1197\u001b[0m     s \u001b[38;5;241m=\u001b[39m a_zero_mean\u001b[38;5;241m.\u001b[39mcopy()\n\u001b[1;32m   1198\u001b[0m \u001b[38;5;28;01melse\u001b[39;00m:\n\u001b[0;32m-> 1199\u001b[0m     s \u001b[38;5;241m=\u001b[39m \u001b[43ma_zero_mean\u001b[49m\u001b[38;5;241;43m*\u001b[39;49m\u001b[38;5;241;43m*\u001b[39;49m\u001b[38;5;241;43m2\u001b[39;49m\n\u001b[1;32m   1201\u001b[0m \u001b[38;5;66;03m# Perform multiplications\u001b[39;00m\n\u001b[1;32m   1202\u001b[0m \u001b[38;5;28;01mfor\u001b[39;00m n \u001b[38;5;129;01min\u001b[39;00m n_list[\u001b[38;5;241m-\u001b[39m\u001b[38;5;241m2\u001b[39m::\u001b[38;5;241m-\u001b[39m\u001b[38;5;241m1\u001b[39m]:\n",
      "\u001b[0;31mKeyboardInterrupt\u001b[0m: "
     ]
    }
   ],
   "source": [
    "t0 = time.time()\n",
    "n_divs = 32\n",
    "all_sig_kurts = []\n",
    "all_sig_freqs = []\n",
    "pltdata = []\n",
    "\n",
    "wf_n = np.array_split(water6.get_freqs(), n_divs) # Split wf into (n_divs) divisions\n",
    "for division in wf_n:\n",
    "    f_start = np.amin(division)\n",
    "    f_stop = np.amax(division)\n",
    "    \n",
    "    plot_f, plot_data = water6.grab_data(f_start, f_stop, if_id=0)\n",
    "    \n",
    "    # Using accending frequency for all plots.\n",
    "    if water6.header['foff'] < 0:\n",
    "            plot_data = plot_data[..., ::-1]  # Reverse data\n",
    "            plot_f = plot_f[::-1]\n",
    "            \n",
    "    print(type(plot_data))\n",
    "    print(np.shape(plot_data))\n",
    "    \n",
    "    pltdata.append(kurtosis(plot_data, axis=0, nan_policy='omit'))\n",
    "    try:\n",
    "        print(np.shape(pltdata))\n",
    "    except:\n",
    "#         print(np.shape(pltdata))\n",
    "        print(\"The shape of pltdata is now inhomogeneous\")\n",
    "    \n",
    "    # Add kurtoses with Pearson kurt() > 0 to an array\n",
    "#     all_sig_kurts.append(pltdata[np.where(pltdata[0] > 0)])\n",
    "    \n",
    "    # Make sure you use plot_f and NOT wf.get_freqs() because the order of wf.get_freqs() is decreasing,\n",
    "    # but we want it to be increasing!\n",
    "    \n",
    "    # Add frequencies with Pearson kurt() > 0 to an array\n",
    "#     all_sig_freqs.append(plot_f[np.where(pltdata[0] > 0)])\n",
    "    \n",
    "t1 = time.time()\n",
    "print(f'Elapsed time: {t1 - t0}')"
   ]
  },
  {
   "cell_type": "code",
   "execution_count": null,
   "id": "f39631ea",
   "metadata": {},
   "outputs": [],
   "source": [
    "# fig, ax = plt.subplots()\n",
    "\n",
    "# ax.plot()"
   ]
  },
  {
   "cell_type": "code",
   "execution_count": 12,
   "id": "4abc6d99",
   "metadata": {},
   "outputs": [],
   "source": [
    "plt.close('all')"
   ]
  },
  {
   "cell_type": "code",
   "execution_count": null,
   "id": "7b663f9f",
   "metadata": {},
   "outputs": [],
   "source": []
  }
 ],
 "metadata": {
  "kernelspec": {
   "display_name": "Python 3 (ipykernel)",
   "language": "python",
   "name": "python3"
  },
  "language_info": {
   "codemirror_mode": {
    "name": "ipython",
    "version": 3
   },
   "file_extension": ".py",
   "mimetype": "text/x-python",
   "name": "python",
   "nbconvert_exporter": "python",
   "pygments_lexer": "ipython3",
   "version": "3.8.2"
  }
 },
 "nbformat": 4,
 "nbformat_minor": 5
}
