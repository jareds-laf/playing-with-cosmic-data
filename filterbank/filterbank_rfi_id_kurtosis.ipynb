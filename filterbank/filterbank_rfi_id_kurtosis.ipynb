{
 "cells": [
  {
   "cell_type": "code",
   "execution_count": 11,
   "id": "29949200",
   "metadata": {},
   "outputs": [],
   "source": [
    "%matplotlib inline\n",
    "import matplotlib\n",
    "import matplotlib.pyplot as plt\n",
    "import pylab as plt\n",
    "import blimpy\n",
    "from blimpy import Waterfall\n",
    "from blimpy import calcload\n",
    "import os\n",
    "import glob\n",
    "import numpy as np\n",
    "import time\n",
    "from scipy.stats import norm, kurtosis, kurtosistest\n",
    "import scipy\n",
    "import numpy.ma as ma\n",
    "import seaborn as sns\n",
    "\n",
    "import sys\n",
    "file_path = '/lustre/aoc/students/jsofair/playing-with-cosmic-data/filterbank/'\n",
    "sys.path.insert(1, file_path[:54])\n",
    "from analysis_functions import plot_tavg_power"
   ]
  },
  {
   "cell_type": "code",
   "execution_count": 12,
   "id": "6b4579db",
   "metadata": {},
   "outputs": [
    {
     "name": "stdout",
     "output_type": "stream",
     "text": [
      "11.0 -- band_test_AC_CO-beam0001.fil\n",
      "9.0 -- Band_Test_BD_C512-beam0001.fil\n",
      "9.0 -- band_test_AC_C512-beam0001.fil\n",
      "11.0 -- Band_Test_BD_C0-beam0001.fil\n",
      "7.0 -- band_test_GPU3_BD_C32-beam0001.fil\n",
      "11.0 -- band_test_AC_C32-beam0001.fil\n",
      "4.0 -- band_test_AC_C544-beam0001.fil\n"
     ]
    }
   ],
   "source": [
    "file_list = glob.glob(os.path.join(file_path,'*.fil'))\n",
    "\n",
    "ml_list = []\n",
    "for i, file in enumerate(file_list):\n",
    "    ml = blimpy.calcload.calc_max_load(os.path.join(file))\n",
    "    ml_list.append(ml)\n",
    "    print(f'{ml} -- {file[65:]}')"
   ]
  },
  {
   "cell_type": "code",
   "execution_count": 13,
   "id": "ed3c026a",
   "metadata": {},
   "outputs": [
    {
     "name": "stdout",
     "output_type": "stream",
     "text": [
      "Elapsed time: 3.0622758865356445\n"
     ]
    }
   ],
   "source": [
    "t0=time.time()\n",
    "\n",
    "water6 = Waterfall(os.path.normpath(file_list[6]), max_load = ml_list[6])\n",
    "\n",
    "\n",
    "# water0 = Waterfall(os.path.normpath(file_list[0]), max_load = ml_list[0])\n",
    "# water1 = Waterfall(os.path.normpath(file_list[1]), max_load = ml_list[1])\n",
    "# water2 = Waterfall(os.path.normpath(file_list[2]), max_load = ml_list[2])\n",
    "# water3 = Waterfall(os.path.normpath(file_list[3]), max_load = ml_list[3])\n",
    "# water4 = Waterfall(os.path.normpath(file_list[4]), max_load = ml_list[4])\n",
    "# water5 = Waterfall(os.path.normpath(file_list[5]), max_load = ml_list[5])\n",
    "# water6 = Waterfall(os.path.normpath(file_list[6]), max_load = ml_list[6])\n",
    "\n",
    "# water_list = [water0, water1, water2, water3, water4, water5, water6]\n",
    "# print(water_list)\n",
    "\n",
    "t1 = time.time()\n",
    "print(f'Elapsed time: {t1 - t0}')"
   ]
  },
  {
   "cell_type": "code",
   "execution_count": 14,
   "id": "507cc0da",
   "metadata": {},
   "outputs": [
    {
     "name": "stdout",
     "output_type": "stream",
     "text": [
      "\n",
      "--- File Info ---\n",
      "      machine_id :                                0\n",
      "    telescope_id :                               -1\n",
      "         src_raj :                 4:09:22.00873993\n",
      "         src_dej :                12:17:39.84749624\n",
      "        az_start :              6.927632722041e-310\n",
      "        za_start :             4.6890767235416e-310\n",
      "       data_type :                                1\n",
      "            fch1 :           2540.4999961853027 MHz\n",
      "            foff :           -7.62939453125e-06 MHz\n",
      "          nchans :                          4194304\n",
      "          nbeams :                                2\n",
      "           ibeam :                                1\n",
      "           nbits :                               32\n",
      "   tstart (ISOT) :          2023-05-10T22:08:42.502\n",
      "    tstart (MJD) :               60074.922714145854\n",
      "           tsamp :                         0.131072\n",
      "            nifs :                                1\n",
      "     barycentric :                                1\n",
      "   pulsarcentric :                                1\n",
      "     source_name :                       Incoherent\n",
      "     rawdatafile : TCOS0001_sb43905589_1_1_001.60074.91866136574.4.1.AC.C544\n",
      "\n",
      "Num ints in file :                              223\n",
      "      File shape :                (223, 1, 4194304)\n",
      "--- Selection Info ---\n",
      "Data selection shape :                (223, 1, 4194304)\n",
      "Minimum freq (MHz) :               2508.5000038146973\n",
      "Maximum freq (MHz) :               2540.4999961853027\n"
     ]
    }
   ],
   "source": [
    "water6.info()\n",
    "# 640 channels\n",
    "# ~4.2 M fine frequency channels"
   ]
  },
  {
   "cell_type": "code",
   "execution_count": 257,
   "id": "731b1312",
   "metadata": {},
   "outputs": [],
   "source": [
    "def get_kurtosis(wf_in, n_divs=32):\n",
    "    # This function grabs the kurtosis of each 1 MHz channel of a specified blimpy waterfall object\\\n",
    "    \n",
    "    # wf_in: Specified blimpy waterfall object\n",
    "    # n_divs: Number of divisions to break wf_in into\n",
    "        # 32 is the correct number of channels to break a waterfall into assuming the frequency range\n",
    "        # of the waterfall is 32 MHz\n",
    "        \n",
    "    np.set_printoptions(threshold=4)\n",
    "\n",
    "    # Get power and frequency in increasing order\n",
    "    if wf_in.header['foff'] < 0:\n",
    "        pows_flipped = np.flip(wf_in.data)\n",
    "        freqs_flipped = wf_in.get_freqs()[::-1]\n",
    "    \n",
    "    # Time-average the power\n",
    "    pows_mean_flipped = np.mean(pows_flipped, axis=0)[0]    \n",
    "#     print(f'{np.shape(pows_mean_flipped)} {np.shape(freqs_flipped)}\\n\\n')\n",
    "#     print(f'{(pows_mean_flipped)} {(freqs_flipped)}\\n\\n')\n",
    "\n",
    "\n",
    "    # Split frequency and time-averaged power into n_divs channels\n",
    "    freqs = np.array_split(freqs_flipped, n_divs)\n",
    "    pows_mean = np.array_split(pows_mean_flipped, n_divs)\n",
    "    \n",
    "#     print(np.shape(freqs), np.shape(pows_mean))\n",
    "    kurts_list = []\n",
    "    \n",
    "#     divs = []\n",
    "    \n",
    "    for i, division in enumerate(pows_mean):\n",
    "#         print(f'{i} {division}')\n",
    "#         divs.append(division)\n",
    "#         print(division)\n",
    "#         print(kurtosis(division))\n",
    "        kurts_list.append(kurtosis(division))\n",
    "\n",
    "    kurts = np.array(kurts_list, dtype=np.float64)\n",
    "#     divs[0]\n",
    "\n",
    "#     print(pows_mean[0])\n",
    "    \n",
    "    \n",
    "#     for i, division in enumerate(pows_mean):\n",
    "# #         print(f'{i} {division}')\n",
    "#         print(kurtosis(division))\n",
    "#         kurts.append(kurtosis(division))\n",
    "            \n",
    "        \n",
    "# #     bin_n = np.arange(start=1,stop=1025,step=1)\n",
    "# #     print(bin_n)\n",
    "        \n",
    "    \n",
    "    bins = []\n",
    "    for chnl in freqs:\n",
    "        bins.append(np.floor(chnl[0]))\n",
    "    \n",
    "    \n",
    "#     print(np.shape(kurts), np.shape(freqs), np.shape(bins))\n",
    "#     print((kurts))\n",
    "#     freqs2 = np.array(freqs)\n",
    "#     pows_mean2 = np.array(pows_mean)\n",
    "    \n",
    "    inf_kurt = np.where(np.isfinite(kurts) == False)\n",
    "    \n",
    "    print(f'Where is kurtosis non-finite: {np.shape(inf_kurt)}, {inf_kurt}')\n",
    "#     print(kurts.dtype)\n",
    "#     print(np.shape(bins))\n",
    "    fig, ax = plt.subplots()\n",
    "    \n",
    "    ax.plot(bins,kurts,'.')\n",
    "    \n",
    "    \n",
    "    inf_kurts = []\n",
    "    for i in inf_kurt[0]:\n",
    "#         print(i)\n",
    "        inf_kurts.append(bins[i])\n",
    "    \n",
    "    \n",
    "        plt.axvline(x=bins[i], ymax=2000, c='r', ls='--')\n",
    "#         inf_kurts.append(inf_kurt[i])\n",
    "    \n",
    "#     plt.axvline\n",
    "#     ax.plot(freqs[inf_kurt], inf_kurt, '.')\n",
    "    \n",
    "#     ax.plot(freqs,pows_mean)\n",
    "    \n",
    "#     ax.plot(freqs2.flatten(), pows_mean2.flatten())\n",
    "    \n",
    "#     ax.set_xlim(2508, 2541)\n",
    "#     ax.set_ylim(np.amin(kurts)-1,np.amax(kurts))\n",
    "    \n",
    "#     ax.plot(bins, kurts)\n",
    "#     plt.show()"
   ]
  },
  {
   "cell_type": "code",
   "execution_count": 258,
   "id": "f9b04e2e",
   "metadata": {},
   "outputs": [
    {
     "name": "stdout",
     "output_type": "stream",
     "text": [
      "Where is kurtosis non-finite: (1, 18), (array([  1,   2,   4, ..., 509, 510, 511]),)\n"
     ]
    },
    {
     "data": {
      "image/png": "[encoded data removed]",
      "text/plain": [
       "<Figure size 640x480 with 1 Axes>"
      ]
     },
     "metadata": {},
     "output_type": "display_data"
    }
   ],
   "source": [
    "get_kurtosis(water6, 512)"
   ]
  },
  {
   "cell_type": "code",
   "execution_count": null,
   "id": "c0d3db05",
   "metadata": {},
   "outputs": [],
   "source": [
    "t0 = time.time()\n",
    "n_divs = 32\n",
    "all_sig_kurts = []\n",
    "all_sig_freqs = []\n",
    "pltdata = []\n",
    "\n",
    "wf_n = np.array_split(water6.get_freqs(), n_divs) # Split wf into (n_divs) divisions\n",
    "for division in wf_n:\n",
    "    f_start = np.amin(division)\n",
    "    f_stop = np.amax(division)\n",
    "    \n",
    "    plot_f, plot_data = water6.grab_data(f_start, f_stop, if_id=0)\n",
    "    \n",
    "    # Using accending frequency for all plots.\n",
    "    if water6.header['foff'] < 0:\n",
    "            plot_data = plot_data[..., ::-1]  # Reverse data\n",
    "            plot_f = plot_f[::-1]\n",
    "            \n",
    "    print(type(plot_data))\n",
    "    print(np.shape(plot_data))\n",
    "    \n",
    "    pltdata.append(kurtosis(plot_data, axis=0, nan_policy='omit'))\n",
    "    try:\n",
    "        print(np.shape(pltdata))\n",
    "    except:\n",
    "#         print(np.shape(pltdata))\n",
    "        print(\"The shape of pltdata is now inhomogeneous\")\n",
    "    \n",
    "    # Add kurtoses with Pearson kurt() > 0 to an array\n",
    "#     all_sig_kurts.append(pltdata[np.where(pltdata[0] > 0)])\n",
    "    \n",
    "    # Make sure you use plot_f and NOT wf.get_freqs() because the order of wf.get_freqs() is decreasing,\n",
    "    # but we want it to be increasing!\n",
    "    \n",
    "    # Add frequencies with Pearson kurt() > 0 to an array\n",
    "#     all_sig_freqs.append(plot_f[np.where(pltdata[0] > 0)])\n",
    "    \n",
    "t1 = time.time()\n",
    "print(f'Elapsed time: {t1 - t0}')"
   ]
  },
  {
   "cell_type": "code",
   "execution_count": null,
   "id": "7e17845a",
   "metadata": {},
   "outputs": [],
   "source": [
    "# fig, ax = plt.subplots()\n",
    "\n",
    "# ax.plot()"
   ]
  },
  {
   "cell_type": "code",
   "execution_count": 161,
   "id": "4abc6d99",
   "metadata": {},
   "outputs": [],
   "source": [
    "plt.close('all')"
   ]
  },
  {
   "cell_type": "code",
   "execution_count": null,
   "id": "d0fd676e",
   "metadata": {},
   "outputs": [],
   "source": []
  }
 ],
 "metadata": {
  "kernelspec": {
   "display_name": "Python 3 (ipykernel)",
   "language": "python",
   "name": "python3"
  },
  "language_info": {
   "codemirror_mode": {
    "name": "ipython",
    "version": 3
   },
   "file_extension": ".py",
   "mimetype": "text/x-python",
   "name": "python",
   "nbconvert_exporter": "python",
   "pygments_lexer": "ipython3",
   "version": "3.8.2"
  }
 },
 "nbformat": 4,
 "nbformat_minor": 5
}
