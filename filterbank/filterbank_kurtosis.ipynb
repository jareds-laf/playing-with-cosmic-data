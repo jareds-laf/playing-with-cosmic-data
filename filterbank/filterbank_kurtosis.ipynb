{
 "cells": [
  {
   "cell_type": "code",
   "execution_count": 2,
   "id": "01378df9",
   "metadata": {},
   "outputs": [],
   "source": [
    "%matplotlib inline\n",
    "import pylab as plt\n",
    "import blimpy\n",
    "from blimpy import Waterfall\n",
    "from blimpy import calcload\n",
    "import os\n",
    "import glob\n",
    "import matplotlib.pyplot as plt\n",
    "import numpy as np\n",
    "import time\n",
    "from scipy.stats import norm, kurtosis, kurtosistest\n",
    "import scipy\n",
    "import numpy.ma as ma\n",
    "import seaborn as sns"
   ]
  },
  {
   "cell_type": "code",
   "execution_count": 3,
   "id": "89a6734e",
   "metadata": {},
   "outputs": [
    {
     "name": "stdout",
     "output_type": "stream",
     "text": [
      "9.0 -- Band_Test_BD_C512-beam0001.fil\n",
      "8.0 -- band_test_AC_C512-beam0001.fil\n",
      "11.0 -- Band_Test_BD_C0-beam0001.fil\n",
      "7.0 -- band_test_GPU3_BD_C32-beam0001.fil\n",
      "11.0 -- band_test_AC_C32-beam0001.fil\n",
      "4.0 -- band_test_AC_C544-beam0001.fil\n"
     ]
    }
   ],
   "source": [
    "file_path = '/lustre/aoc/students/jsofair/playing-with-cosmic-data/filterbank/'\n",
    "filelist = glob.glob(os.path.join(file_path,'*.fil'))\n",
    "214748160\n",
    "ml_list = []\n",
    "for i, file in enumerate(filelist):\n",
    "    ml = blimpy.calcload.calc_max_load(os.path.join(file))\n",
    "    ml_list.append(ml)\n",
    "    print(f'{ml} -- {file[65:]}')"
   ]
  },
  {
   "cell_type": "code",
   "execution_count": 4,
   "id": "65f20305",
   "metadata": {},
   "outputs": [
    {
     "name": "stdout",
     "output_type": "stream",
     "text": [
      "Elapsed time: 83.08631610870361\n"
     ]
    }
   ],
   "source": [
    "t0 = time.time()\n",
    "water0 = Waterfall(os.path.normpath(filelist[0]), max_load = ml_list[0])\n",
    "water1 = Waterfall(os.path.normpath(filelist[1]), max_load = ml_list[1])\n",
    "water2 = Waterfall(os.path.normpath(filelist[2]), max_load = ml_list[2])\n",
    "water3 = Waterfall(os.path.normpath(filelist[3]), max_load = ml_list[3])\n",
    "water4 = Waterfall(os.path.normpath(filelist[4]), max_load = ml_list[4])\n",
    "water5 = Waterfall(os.path.normpath(filelist[5]), max_load = ml_list[5])\n",
    "\n",
    "water_list = [water0, water1, water2, water3, water4, water5]\n",
    "t1 = time.time()\n",
    "print(f'Elapsed time: {t1 - t0}')"
   ]
  },
  {
   "cell_type": "code",
   "execution_count": 5,
   "id": "0d64f20a",
   "metadata": {
    "scrolled": false
   },
   "outputs": [
    {
     "name": "stdout",
     "output_type": "stream",
     "text": [
      "\n",
      "--- File Info ---\n",
      "      machine_id :                                0\n",
      "    telescope_id :                               -1\n",
      "         src_raj :                 4:09:22.00873993\n",
      "         src_dej :                12:17:39.84749624\n",
      "        az_start :             6.9287069824102e-310\n",
      "        za_start :             4.6633787335631e-310\n",
      "       data_type :                                1\n",
      "            fch1 :           3532.4999961853027 MHz\n",
      "            foff :           -7.62939453125e-06 MHz\n",
      "          nchans :                          4194304\n",
      "          nbeams :                                2\n",
      "           ibeam :                                1\n",
      "           nbits :                               32\n",
      "   tstart (ISOT) :          2023-05-10T22:08:42.502\n",
      "    tstart (MJD) :               60074.922714145854\n",
      "           tsamp :                         0.131072\n",
      "            nifs :                                1\n",
      "     barycentric :                                1\n",
      "   pulsarcentric :                                1\n",
      "     source_name :                       Incoherent\n",
      "     rawdatafile : TCOS0001_sb43905589_1_1_001.60074.91866136574.4.1.BD.C512\n",
      "\n",
      "Num ints in file :                              512\n",
      "      File shape :                (512, 1, 4194304)\n",
      "--- Selection Info ---\n",
      "Data selection shape :                (512, 1, 4194304)\n",
      "Minimum freq (MHz) :               3500.5000038146973\n",
      "Maximum freq (MHz) :               3532.4999961853027\n"
     ]
    }
   ],
   "source": [
    "water0.info()"
   ]
  },
  {
   "cell_type": "code",
   "execution_count": null,
   "id": "8ac69d0c",
   "metadata": {},
   "outputs": [],
   "source": [
    "# Code modified from blimpy GitHub (plotting > plot_kurtosis.py)\n",
    "# As n_divs increases, the time to complete this section decreases (tested from n_divs = 2 to n_divs = 10).\n",
    "# It seems that 15 is a bit much to handle, and the TTC increases when n_divs = 15.\n",
    "\n",
    "t0 = time.time()\n",
    "wf = water0\n",
    "n_divs = 10\n",
    "all_sig_kurts = []\n",
    "all_sig_freqs = []\n",
    "pltdata = []\n",
    "\n",
    "wf_n = np.array_split(wf.get_freqs(), n_divs) # Split wf into (n_divs) divisions\n",
    "for division in wf_n:\n",
    "    f_start = np.amin(division)\n",
    "    f_stop = np.amax(division)\n",
    "    \n",
    "    plot_f, plot_data = wf.grab_data(f_start, f_stop, if_id=0)\n",
    "    \n",
    "    # Using accending frequency for all plots.\n",
    "    if wf.header['foff'] < 0:\n",
    "            plot_data = plot_data[..., ::-1]  # Reverse data\n",
    "            plot_f = plot_f[::-1]\n",
    "            \n",
    "    print(type(plot_data))\n",
    "    print(np.shape(plot_data))\n",
    "    \n",
    "    pltdata.append(kurtosis(plot_data, axis=0, nan_policy='omit'))\n",
    "    try:\n",
    "        print(np.shape(pltdata))\n",
    "    except:\n",
    "#         print(np.shape(pltdata))\n",
    "        print(\"The shape of pltdata is now inhomogeneous\")\n",
    "    \n",
    "    # Add kurtoses with Pearson kurt() > 0 to an array\n",
    "#     all_sig_kurts.append(pltdata[np.where(pltdata[0] > 0)])\n",
    "    \n",
    "    # Make sure you use plot_f and NOT wf.get_freqs() because the order of wf.get_freqs() is decreasing,\n",
    "    # but we want it to be increasing!\n",
    "    \n",
    "    # Add frequencies with Pearson kurt() > 0 to an array\n",
    "#     all_sig_freqs.append(plot_f[np.where(pltdata[0] > 0)])\n",
    "    \n",
    "t1 = time.time()\n",
    "print(f'Elapsed time: {t1 - t0}')"
   ]
  },
  {
   "cell_type": "code",
   "execution_count": 114,
   "id": "a99bde84",
   "metadata": {},
   "outputs": [
    {
     "data": {
      "image/png": "[encoded data removed]",
      "text/plain": [
       "<Figure size 640x480 with 1 Axes>"
      ]
     },
     "metadata": {},
     "output_type": "display_data"
    }
   ],
   "source": [
    "wf.plot_kurtosis()"
   ]
  },
  {
   "cell_type": "code",
   "execution_count": 117,
   "id": "ee086736",
   "metadata": {},
   "outputs": [
    {
     "name": "stdout",
     "output_type": "stream",
     "text": [
      "extracting integration 0...\n"
     ]
    },
    {
     "data": {
      "image/png": "[encoded data removed]",
      "text/plain": [
       "<Figure size 640x480 with 1 Axes>"
      ]
     },
     "metadata": {},
     "output_type": "display_data"
    }
   ],
   "source": [
    "wf.plot_spectrum()"
   ]
  },
  {
   "cell_type": "code",
   "execution_count": 123,
   "id": "bd6f4fb4",
   "metadata": {},
   "outputs": [
    {
     "name": "stdout",
     "output_type": "stream",
     "text": [
      "extracting integration 1...\n"
     ]
    },
    {
     "data": {
      "image/png": "[encoded data removed]",
      "text/plain": [
       "<Figure size 640x480 with 1 Axes>"
      ]
     },
     "metadata": {},
     "output_type": "display_data"
    }
   ],
   "source": [
    "water0.plot_spectrum(t=1)"
   ]
  },
  {
   "cell_type": "markdown",
   "id": "e853ebc4",
   "metadata": {},
   "source": [
    "---\n",
    "**Self-made kurtosis plot(s)?** Here's my plan:\\\n",
    "~- Break up waterN.freqs into channels of width w~\\\n",
    "~- Calculate the kurtosis of each channel~\\\n",
    "~- Create an array that contains all channels with kurtosis > 0 (the Fisher definition is used by default)~\\\n",
    "~- Compare these channels with Dept. of Commerce graph to see where RFI might be coming in~\\\n",
    "~- Will also compare to waterN+1.freqs, etc. to see common threads to identify RFI~\\\n",
    "\n",
    "**^ OUTDATED**"
   ]
  },
  {
   "cell_type": "markdown",
   "id": "ad10f849",
   "metadata": {},
   "source": [
    "**Step 1:** Break up waterN.freqs into channels of potentially distinct widths w_n"
   ]
  },
  {
   "cell_type": "code",
   "execution_count": 6,
   "id": "a186603d",
   "metadata": {},
   "outputs": [],
   "source": [
    "'''\n",
    "Dividing wfs into n channels and appending these channels to the all_channels array.\n",
    "\n",
    "For now, this is all just using water0. Eventually, I want this to hit the point\n",
    "where it will go through all N of the .fil files\n",
    "'''\n",
    "\n",
    "# Create an array of channel borders for each .fil file\n",
    "all_channels = []\n",
    "\n",
    "# Specify the number of channels to break each .fil file into\n",
    "num_chnls = 10\n",
    "\n",
    "# 1398101 for maximum\n",
    "\n",
    "# print(len(water_list))\n",
    "\n",
    "for i in range(0, len(water_list)):\n",
    "#     print('h')\n",
    "    exec(f'all_channels.append(np.array_split(water{i}.get_freqs(), {num_chnls}))')\n",
    "    \n",
    "\n",
    "# all_channels is X by Y by Z:\n",
    "# X fil files,\n",
    "# Y divisions per fil file,\n",
    "# Z elements per division (Z is different for each division unless the fil files are divided evenly).\n",
    "\n",
    "# Thus, all_channels[i][j] is a channel.\n",
    "# For example, all_channels[0][3] takes the 3rd channel by index from water0.\n",
    "# Another example: all_channels[0][3][1] takes the 1st measured frequency by index from the above channel.\n",
    "\n",
    "# print(max_f, min_f)"
   ]
  },
  {
   "cell_type": "markdown",
   "id": "8b8b2499",
   "metadata": {},
   "source": [
    "**Step 2:** Calculate the kurtosis of each channel"
   ]
  },
  {
   "cell_type": "code",
   "execution_count": 11,
   "id": "72f7e6a3",
   "metadata": {},
   "outputs": [
    {
     "name": "stdout",
     "output_type": "stream",
     "text": [
      "-1.2000000000136428 3532.4999961853027 3529.2999992370605\n",
      "419431 3532.4999961853027 3532.499988555908\n"
     ]
    }
   ],
   "source": [
    "max_f = np.amax(all_channels[0][0])\n",
    "min_f = np.amin(all_channels[0][0])\n",
    "\n",
    "print(kurtosis(all_channels[0][0]),\n",
    "      max_f,\n",
    "      min_f)\n",
    "\n",
    "print(len(all_channels[0][0]), all_channels[0][0][0], all_channels[0][0][1])"
   ]
  },
  {
   "cell_type": "code",
   "execution_count": 12,
   "id": "e267a03b",
   "metadata": {},
   "outputs": [],
   "source": [
    "kurts = []\n",
    "\n",
    "for i, chnl in enumerate(all_channels[0]):\n",
    "    kurts.append(kurtosis(chnl))"
   ]
  },
  {
   "cell_type": "code",
   "execution_count": 13,
   "id": "fcf735eb",
   "metadata": {},
   "outputs": [],
   "source": [
    "for kurt in kurts:\n",
    "#     print(kurt)\n",
    "    if kurt > 0:\n",
    "        print('significant')      \n",
    "        "
   ]
  },
  {
   "cell_type": "code",
   "execution_count": 14,
   "id": "3745a3ea",
   "metadata": {
    "scrolled": true
   },
   "outputs": [
    {
     "name": "stdout",
     "output_type": "stream",
     "text": [
      "4194304 10\n"
     ]
    }
   ],
   "source": [
    "print(len(water0.get_freqs()[:]),\n",
    "len(kurts))"
   ]
  },
  {
   "cell_type": "code",
   "execution_count": null,
   "id": "10386435",
   "metadata": {
    "scrolled": false
   },
   "outputs": [],
   "source": [
    "plt.plot(water0.get_freqs()[0:num_chnls], kurts)\n",
    "# plt.ylim(-1.2001,-1.1999)"
   ]
  },
  {
   "cell_type": "code",
   "execution_count": 21,
   "id": "1fdd6540",
   "metadata": {},
   "outputs": [
    {
     "name": "stdout",
     "output_type": "stream",
     "text": [
      "4194304\n"
     ]
    }
   ],
   "source": [
    "# Take kurt() of each element in wf.get_freqs()\n",
    "\n",
    "kurtosis(water0.get_freqs()[0:2])\n",
    "print(len(water0.get_freqs()))\n",
    "\n",
    "# Need at least 3 frequencies in the channel for kurt() to work.\n",
    "\n",
    "# How do we get 3 frequencies/channel? How many channels do we need to make?\n",
    "# If there are N = 4194304 frequencies, then we need 1,398,101.333 ~~ 1,398,101 channels (not sure how\n",
    "# rounding will be handled!)"
   ]
  },
  {
   "cell_type": "code",
   "execution_count": 25,
   "id": "fd941e7f",
   "metadata": {},
   "outputs": [
    {
     "name": "stdout",
     "output_type": "stream",
     "text": [
      "blimpy.io.base_reader WARNING  Setting f_stop = 3532.499996, since f_stop not given or not valid.\n",
      "blimpy.io.base_reader WARNING  f_start=3526, f_stop=3533, t_start=0, t_stop=512, init=True\n"
     ]
    }
   ],
   "source": [
    "water0_abr = Waterfall(os.path.normpath(filelist[0]), max_load = ml_list[0], f_start = 3526 , f_stop = 3533)"
   ]
  },
  {
   "cell_type": "code",
   "execution_count": 158,
   "id": "7521b56d",
   "metadata": {},
   "outputs": [
    {
     "data": {
      "image/png": "[encoded data removed]",
      "text/plain": [
       "<Figure size 640x480 with 1 Axes>"
      ]
     },
     "metadata": {},
     "output_type": "display_data"
    }
   ],
   "source": [
    "water0_abr.plot_kurtosis()"
   ]
  },
  {
   "cell_type": "code",
   "execution_count": null,
   "id": "0fc39d96",
   "metadata": {},
   "outputs": [],
   "source": [
    "# Ideally, I would like to see if plot_data and wf.data are the same to see if we're taking the kurtosis of power,\n",
    "# but sorting these giant arrays takes a while :)\n",
    "# np.shape(plot_data)\n",
    "# print(f\"plot_data: {plot_data.sort(axis=0)},\\n\\n\\n\\n wf data: {wf.data.sort(axis=0)}\")"
   ]
  },
  {
   "cell_type": "code",
   "execution_count": 108,
   "id": "39828817",
   "metadata": {},
   "outputs": [
    {
     "name": "stdout",
     "output_type": "stream",
     "text": [
      "(512, 419430) (419430,)\n"
     ]
    }
   ],
   "source": [
    "# np.shape(plot_data)\n",
    "# print(f\"plot_data: {plot_data},\\n\\n\\n\\n wf data: {wf.data} \\n\\n\\n\\n wf shape: {np.shape(wf)}\")\n",
    "# wf.data.shape\n",
    "wf_abr = wf.data[0][0][0:419430]\n",
    "\n",
    "print(np.shape(plot_data), np.shape(wf_abr))\n",
    "# print(plot_data)\n",
    "# np.shape(wf_abr)\n"
   ]
  },
  {
   "cell_type": "code",
   "execution_count": 109,
   "id": "75c97333",
   "metadata": {},
   "outputs": [
    {
     "data": {
      "text/plain": [
       "array([[6.04516864e+08, 6.64575872e+08, 6.78009088e+08, ...,\n",
       "        1.00410270e+14, 4.01153402e+14, 4.45173964e+14],\n",
       "       [7.93711104e+08, 8.54445568e+08, 8.71725184e+08, ...,\n",
       "        1.00410614e+14, 4.01156757e+14, 4.45179803e+14],\n",
       "       [9.14506880e+08, 9.36332352e+08, 9.40796800e+08, ...,\n",
       "        1.00411629e+14, 4.01166454e+14, 4.45181782e+14],\n",
       "       ...,\n",
       "       [2.28274227e+09, 2.28423168e+09, 2.29642701e+09, ...,\n",
       "        3.28748709e+14, 5.50151991e+14, 7.15033135e+14],\n",
       "       [2.30921882e+09, 2.31752806e+09, 2.31869158e+09, ...,\n",
       "        3.28748910e+14, 5.50152260e+14, 7.15035148e+14],\n",
       "       [2.33049805e+09, 2.35997363e+09, 2.36946406e+09, ...,\n",
       "        3.28749917e+14, 5.50154105e+14, 7.15038772e+14]], dtype=float32)"
      ]
     },
     "execution_count": 109,
     "metadata": {},
     "output_type": "execute_result"
    }
   ],
   "source": [
    "plot_data"
   ]
  },
  {
   "cell_type": "code",
   "execution_count": 110,
   "id": "5031d151",
   "metadata": {},
   "outputs": [],
   "source": [
    "sorted_plot_data = np.sort(plot_data, axis=0)"
   ]
  },
  {
   "cell_type": "code",
   "execution_count": 111,
   "id": "fabfc865",
   "metadata": {},
   "outputs": [],
   "source": [
    "sorted_wf = np.sort(wf_abr, axis=0)"
   ]
  },
  {
   "cell_type": "code",
   "execution_count": 112,
   "id": "a15c3cc5",
   "metadata": {},
   "outputs": [
    {
     "name": "stdout",
     "output_type": "stream",
     "text": [
      "[6.2438099e+08 6.8921536e+08 6.9103616e+08 ... 2.8287780e+09 2.9661235e+09\n",
      " 5.0683904e+09]\n"
     ]
    }
   ],
   "source": [
    "print(sorted_wf)"
   ]
  },
  {
   "cell_type": "code",
   "execution_count": 83,
   "id": "23b44956",
   "metadata": {},
   "outputs": [
    {
     "name": "stdout",
     "output_type": "stream",
     "text": [
      "\n",
      "--- File Info ---\n",
      "      machine_id :                                0\n",
      "    telescope_id :                               -1\n",
      "         src_raj :                 4:09:22.00873993\n",
      "         src_dej :                12:17:39.84749624\n",
      "        az_start :             6.9287069824102e-310\n",
      "        za_start :             4.6633787335631e-310\n",
      "       data_type :                                1\n",
      "            fch1 :           3532.4999961853027 MHz\n",
      "            foff :           -7.62939453125e-06 MHz\n",
      "          nchans :                          4194304\n",
      "          nbeams :                                2\n",
      "           ibeam :                                1\n",
      "           nbits :                               32\n",
      "   tstart (ISOT) :          2023-05-10T22:08:42.502\n",
      "    tstart (MJD) :               60074.922714145854\n",
      "           tsamp :                         0.131072\n",
      "            nifs :                                1\n",
      "     barycentric :                                1\n",
      "   pulsarcentric :                                1\n",
      "     source_name :                       Incoherent\n",
      "     rawdatafile : TCOS0001_sb43905589_1_1_001.60074.91866136574.4.1.BD.C512\n",
      "\n",
      "Num ints in file :                              512\n",
      "      File shape :                (512, 1, 4194304)\n",
      "--- Selection Info ---\n",
      "Data selection shape :                (512, 1, 4194304)\n",
      "Minimum freq (MHz) :               3500.5000038146973\n",
      "Maximum freq (MHz) :               3532.4999961853027\n"
     ]
    }
   ],
   "source": [
    "wf.info()"
   ]
  },
  {
   "cell_type": "code",
   "execution_count": null,
   "id": "101fe9f7",
   "metadata": {},
   "outputs": [],
   "source": [
    "len(sorted_plot_data.flatten())"
   ]
  },
  {
   "cell_type": "code",
   "execution_count": 107,
   "id": "4a9e41b1",
   "metadata": {},
   "outputs": [
    {
     "data": {
      "text/plain": [
       "419431"
      ]
     },
     "execution_count": 107,
     "metadata": {},
     "output_type": "execute_result"
    }
   ],
   "source": [
    "len(pltdata[0])"
   ]
  },
  {
   "cell_type": "code",
   "execution_count": 101,
   "id": "7223a7e5",
   "metadata": {},
   "outputs": [
    {
     "data": {
      "text/plain": [
       "(512, 419430)"
      ]
     },
     "execution_count": 101,
     "metadata": {},
     "output_type": "execute_result"
    }
   ],
   "source": [
    "np.shape(sorted_plot_data)"
   ]
  },
  {
   "cell_type": "code",
   "execution_count": 102,
   "id": "9f0fcd31",
   "metadata": {},
   "outputs": [
    {
     "data": {
      "text/plain": [
       "3.0517578125e-05"
      ]
     },
     "execution_count": 102,
     "metadata": {},
     "output_type": "execute_result"
    }
   ],
   "source": [
    "wf.get_freqs()[0]-wf.get_freqs()[4]"
   ]
  },
  {
   "cell_type": "code",
   "execution_count": null,
   "id": "f2e01e1f",
   "metadata": {},
   "outputs": [],
   "source": [
    "wf.data[0:419430]"
   ]
  },
  {
   "cell_type": "code",
   "execution_count": null,
   "id": "cca11e46",
   "metadata": {},
   "outputs": [],
   "source": [
    "water0.plot_kurtosis()"
   ]
  },
  {
   "cell_type": "code",
   "execution_count": null,
   "id": "b03d4f8f",
   "metadata": {},
   "outputs": [],
   "source": [
    "fig, ax = plt.subplots()\n",
    "\n",
    "ax.plot(wf.get_freqs()[0:len(pltdata[0])], pltdata[0], label='bin 0')\n",
    "ax.plot(wf.get_freqs()[len(pltdata[0]):len(pltdata[0]) + len(pltdata[1])], pltdata[1], label='bin 1')\n",
    "\n",
    "# ax.plot(inf_freqs, np.full(6, fill_value= 3), '.', label='infinite')\n",
    "ax.legend()"
   ]
  },
  {
   "cell_type": "code",
   "execution_count": null,
   "id": "3cce77ab",
   "metadata": {},
   "outputs": [],
   "source": [
    "fig, ax = plt.subplots()\n",
    "\n",
    "for i in range(0,3):\n",
    "#     if i-1 < 0:\n",
    "    ax.plot(\n",
    "        wf_n.get_freqs[range(int(np.rint(np.nextafter(np.amin(wf_n[0]), np.amin(wf_n[0])+1))),\n",
    "                  int(np.rint(np.nextafter(np.amax(wf_n[0]), np.amax(wf_n[0])+1))))],\n",
    "    \n",
    "        pltdata[i])     \n",
    "    ax.legend()\n",
    "\n",
    "        #     else:\n",
    "#         exec('ax.plot(wf.get_freqs()[len(pltdata[i-1]) : len(pltdata[i-1]) + len(pltdata[i])], pltdata[i], label=\"bin {i}\")')\n",
    "#     if i <= (len(wf.get_freqs()) % n_divs):"
   ]
  },
  {
   "cell_type": "code",
   "execution_count": 115,
   "id": "5a5b5c83",
   "metadata": {
    "scrolled": true
   },
   "outputs": [
    {
     "name": "stdout",
     "output_type": "stream",
     "text": [
      "(array([], dtype=int64),)\n",
      "[3529.29999161 3529.29998398 3529.29997635 ... 3526.10000992 3526.10000229\n",
      " 3526.09999466]\n"
     ]
    }
   ],
   "source": [
    "# bounds = range(int(np.rint(np.nextafter(np.amin(wf_n[0]), np.amin(wf_n[0])+1))),\n",
    "#                   int(np.rint(np.nextafter(np.amax(wf_n[0]), np.amax(wf_n[0])+1))))\n",
    "print(np.where(np.rint(wf_n[1]) == bounds[1]))\n",
    "# print(wf_n)\n",
    "# # wf_n[bounds[0]]\n",
    "    \n",
    "print(wf_n[1])"
   ]
  },
  {
   "cell_type": "code",
   "execution_count": null,
   "id": "6460a07a",
   "metadata": {},
   "outputs": [],
   "source": [
    "for i in range(0,n_divs):\n",
    "    if i-1 < 0:\n",
    "        freq_range = wf.get_freqs()[0:len(pltdata[0])]\n",
    "        print(len(freq_range))\n",
    "        print(np.amin(freq_range), np.amax(freq_range), \"\\n\")\n",
    "    else:\n",
    "        freq_range = wf.get_freqs()[len(pltdata[i-1]) : len(pltdata[i-1]) + len(pltdata[i])]\n",
    "        print(len(freq_range))\n",
    "        print(np.amin(freq_range), np.amax(freq_range), \"\\n\")\n",
    "\n",
    "        "
   ]
  },
  {
   "cell_type": "code",
   "execution_count": null,
   "id": "9f45b345",
   "metadata": {},
   "outputs": [],
   "source": [
    "np.rint(np.amax(wf_n[i]))\n",
    "\n",
    "# a = 5.6\n",
    "np.rint(np.nextafter(np.amax(wf_n[0]), np.amax(wf_n[0])+1))"
   ]
  },
  {
   "cell_type": "code",
   "execution_count": null,
   "id": "8e46d3d0",
   "metadata": {},
   "outputs": [],
   "source": [
    "range(np.rint(np.nextafter(np.amin(wf_n[0]), np.amin(wf_n[0])+1)),\n",
    "                  np.rint(np.nextafter(np.amax(wf_n[0]), np.amax(wf_n[0])+1)))"
   ]
  },
  {
   "cell_type": "code",
   "execution_count": 89,
   "id": "47cb2eb7",
   "metadata": {},
   "outputs": [
    {
     "data": {
      "text/plain": [
       "int"
      ]
     },
     "execution_count": 89,
     "metadata": {},
     "output_type": "execute_result"
    }
   ],
   "source": [
    "type(int(np.rint(np.nextafter(np.amin(wf_n[0]), np.amin(wf_n[0])+1))))\n"
   ]
  },
  {
   "cell_type": "code",
   "execution_count": 74,
   "id": "1f6decbf",
   "metadata": {},
   "outputs": [
    {
     "name": "stdout",
     "output_type": "stream",
     "text": [
      "3532.4999961853027\n",
      "3529.2999992370605 \n",
      "\n",
      "3529.299991607666\n",
      "3526.099994659424 \n",
      "\n",
      "3526.0999870300293\n",
      "3522.899990081787 \n",
      "\n",
      "3522.8999824523926\n",
      "3519.6999855041504 \n",
      "\n",
      "3519.699977874756\n",
      "3516.499988555908 \n",
      "\n",
      "3516.4999809265137\n",
      "3513.299991607666 \n",
      "\n",
      "3513.2999839782715\n",
      "3510.099994659424 \n",
      "\n",
      "3510.0999870300293\n",
      "3506.8999977111816 \n",
      "\n",
      "3506.899990081787\n",
      "3503.7000007629395 \n",
      "\n",
      "3503.699993133545\n",
      "3500.5000038146973 \n",
      "\n"
     ]
    },
    {
     "data": {
      "text/plain": [
       "numpy.float64"
      ]
     },
     "execution_count": 74,
     "metadata": {},
     "output_type": "execute_result"
    }
   ],
   "source": [
    "for i in range(0,n_divs):\n",
    "    print(np.amax(wf_n[i]))\n",
    "    print(np.amin(wf_n[i]), \"\\n\")\n",
    "\n",
    "type(np.amax(wf_n[i]))\n",
    "#     print(np.amax(wf_n[i]), np.amin(wf_n)[i], \"\\n\")"
   ]
  },
  {
   "cell_type": "code",
   "execution_count": 19,
   "id": "f8657ff9",
   "metadata": {},
   "outputs": [
    {
     "name": "stdout",
     "output_type": "stream",
     "text": [
      "[3532.20746231 3532.20746994 3532.21170425 3532.28691483 3532.28692245\n",
      " 3532.41310501] [inf inf inf inf inf inf]\n"
     ]
    }
   ],
   "source": [
    "# print((all_sig_freqs[0]))\n",
    "# print(all_sig_kurts[0])\n",
    "# print(pltdata)\n",
    "\n",
    "\n",
    "# Grab index of infinities:\n",
    "# np.where(np.isinf(all_sig_kurts[0]))\n",
    "\n",
    "inf_freqs = all_sig_freqs[0][np.where(np.isinf(all_sig_kurts[0]))]\n",
    "inf_kurts = all_sig_kurts[0][np.where(np.isinf(all_sig_kurts[0]))]\n",
    "\n",
    "print(inf_freqs, inf_kurts)\n",
    "\n",
    "# print(all_sig_kurts[0][np.where[all_sig_kurts ]])"
   ]
  },
  {
   "cell_type": "code",
   "execution_count": 21,
   "id": "7a833a0d",
   "metadata": {},
   "outputs": [
    {
     "data": {
      "text/plain": [
       "<matplotlib.legend.Legend at 0x7f5da06233d0>"
      ]
     },
     "execution_count": 21,
     "metadata": {},
     "output_type": "execute_result"
    },
    {
     "data": {
      "image/png": "[encoded data removed]",
      "text/plain": [
       "<Figure size 640x480 with 1 Axes>"
      ]
     },
     "metadata": {},
     "output_type": "display_data"
    }
   ],
   "source": []
  },
  {
   "cell_type": "code",
   "execution_count": 132,
   "id": "265df45a",
   "metadata": {},
   "outputs": [
    {
     "name": "stdout",
     "output_type": "stream",
     "text": [
      "[ 0.47625828 -0.13222933  0.6003506  ...  0.04624271 -0.2579801\n",
      "  0.32947755]\n",
      "Elapsed time: 13.880631923675537\n"
     ]
    }
   ],
   "source": [
    "# Code modified from blimpy GitHub (plotting > plot_kurtosis.py)\n",
    "t0 = time.time()\n",
    "wf = water0_abr\n",
    "f_start = np.amin(wf.get_freqs())\n",
    "f_stop = np.amax(wf.get_freqs())\n",
    "\n",
    "\n",
    "plot_f, plot_data = wf.grab_data(f_start, f_stop, if_id=0)\n",
    "\n",
    "# Using accending frequency for all plots.\n",
    "if wf.header['foff'] < 0:\n",
    "        plot_data = plot_data[..., ::-1]  # Reverse data\n",
    "        plot_f = plot_f[::-1]\n",
    "\n",
    "# try:\n",
    "pltdata = kurtosis(plot_data, axis=0, nan_policy='omit')\n",
    "# except:\n",
    "#     pltdata = plot_data * 0.0\n",
    "    \n",
    "\n",
    "# print(plot_f[0], plot_f[-1])\n",
    "print(pltdata)\n",
    "\n",
    "# print(len(plot_data))\n",
    "\n",
    "t1 = time.time()\n",
    "print(f'Elapsed time: {t1 - t0}')"
   ]
  },
  {
   "cell_type": "code",
   "execution_count": 115,
   "id": "a9a64ead",
   "metadata": {},
   "outputs": [
    {
     "name": "stdout",
     "output_type": "stream",
     "text": [
      "851968 4194304\n"
     ]
    }
   ],
   "source": [
    "print(len(pltdata), len(water0.get_freqs()))"
   ]
  },
  {
   "cell_type": "code",
   "execution_count": 116,
   "id": "9b282c30",
   "metadata": {},
   "outputs": [
    {
     "name": "stdout",
     "output_type": "stream",
     "text": [
      "[3.2434425 3.8816586 3.1341295 3.19694   4.0967464 3.4022956 3.0526323\n",
      " 3.164588  3.166801        inf 3.5075154 3.0723891 3.0956354 3.7970862\n",
      " 3.834484  6.4621    3.0864758 3.019012  3.4733815 3.0502224 3.0730796\n",
      " 3.0256214 3.0479145 3.5359287 3.1873703 3.2907758 3.0481367 3.2624302\n",
      " 3.103744  3.5138254 3.2085538 3.5398455 3.1312375 3.3175197 3.113266\n",
      " 3.4951544 3.3857303 3.9709535 3.3616714 3.1952715 3.499682  3.3039317\n",
      " 3.1638112       inf       inf       inf 3.2933726       inf       inf\n",
      "       inf]\n"
     ]
    }
   ],
   "source": [
    "sig_list = pltdata[np.where(pltdata > 3)]\n",
    "print(sig_list)\n",
    "\n",
    "\n",
    "# Make sure you use plot_f and NOT wf.get_freqs() because the order of wf.get_freqs() is decreasing,\n",
    "# but we want it to be increasing!\n",
    "sig_freqs = plot_f[np.where(pltdata > 3)]"
   ]
  },
  {
   "cell_type": "code",
   "execution_count": 117,
   "id": "20827efd",
   "metadata": {},
   "outputs": [
    {
     "data": {
      "text/plain": [
       "[<matplotlib.lines.Line2D at 0x7f0e4320ac40>]"
      ]
     },
     "execution_count": 117,
     "metadata": {},
     "output_type": "execute_result"
    },
    {
     "data": {
      "image/png": "[encoded data removed]",
      "text/plain": [
       "<Figure size 640x480 with 1 Axes>"
      ]
     },
     "metadata": {},
     "output_type": "display_data"
    }
   ],
   "source": [
    "plt.plot(sig_freqs, sig_list, '.')"
   ]
  },
  {
   "cell_type": "code",
   "execution_count": 71,
   "id": "4cef4e60",
   "metadata": {},
   "outputs": [
    {
     "name": "stdout",
     "output_type": "stream",
     "text": [
      "(512, 851968)\n"
     ]
    }
   ],
   "source": [
    "print(np.shape(plot_data))"
   ]
  },
  {
   "cell_type": "code",
   "execution_count": 72,
   "id": "db137d88",
   "metadata": {},
   "outputs": [
    {
     "data": {
      "image/png": "[encoded data removed]",
      "text/plain": [
       "<Figure size 640x480 with 1 Axes>"
      ]
     },
     "metadata": {},
     "output_type": "display_data"
    }
   ],
   "source": [
    "plt.plot(plot_f, pltdata)\n",
    "plt.xlim(plot_f[0], plot_f[-1])\n",
    "plt.ylabel(\"Kurtosis\")\n",
    "plt.xlabel(\"Frequency [MHz]\")\n",
    "plt.show()"
   ]
  },
  {
   "cell_type": "code",
   "execution_count": null,
   "id": "f738f319",
   "metadata": {},
   "outputs": [],
   "source": [
    "water0.plot_kurtosis()"
   ]
  },
  {
   "cell_type": "code",
   "execution_count": 110,
   "id": "3dac31bd",
   "metadata": {},
   "outputs": [
    {
     "ename": "AttributeError",
     "evalue": "'Waterfall' object has no attribute 'get_kurtosis'",
     "output_type": "error",
     "traceback": [
      "\u001b[0;31m---------------------------------------------------------------------------\u001b[0m",
      "\u001b[0;31mAttributeError\u001b[0m                            Traceback (most recent call last)",
      "Cell \u001b[0;32mIn[110], line 1\u001b[0m\n\u001b[0;32m----> 1\u001b[0m \u001b[43mwater0_abr\u001b[49m\u001b[38;5;241;43m.\u001b[39;49m\u001b[43mget_kurtosis\u001b[49m()\n",
      "\u001b[0;31mAttributeError\u001b[0m: 'Waterfall' object has no attribute 'get_kurtosis'"
     ]
    }
   ],
   "source": [
    "water0_abr.get_kurtosis()"
   ]
  },
  {
   "cell_type": "code",
   "execution_count": 87,
   "id": "c4167350",
   "metadata": {},
   "outputs": [
    {
     "name": "stderr",
     "output_type": "stream",
     "text": [
      "/lustre/aoc/students/jsofair/jnrao/lib/python3.8/site-packages/scipy/stats/_stats_py.py:1417: RuntimeWarning: Mean of empty slice.\n",
      "  mean = a.mean(axis, keepdims=True)\n",
      "/lustre/aoc/students/jsofair/jnrao/lib/python3.8/site-packages/numpy/core/_methods.py:184: RuntimeWarning: invalid value encountered in divide\n",
      "  ret = um.true_divide(\n",
      "/lustre/aoc/students/jsofair/jnrao/lib/python3.8/site-packages/numpy/core/fromnumeric.py:3464: RuntimeWarning: Mean of empty slice.\n",
      "  return _methods._mean(a, axis=axis, dtype=dtype,\n",
      "/lustre/aoc/students/jsofair/jnrao/lib/python3.8/site-packages/numpy/core/_methods.py:192: RuntimeWarning: invalid value encountered in scalar divide\n",
      "  ret = ret.dtype.type(ret / rcount)\n"
     ]
    },
    {
     "ename": "NameError",
     "evalue": "name 'water6' is not defined",
     "output_type": "error",
     "traceback": [
      "\u001b[0;31m---------------------------------------------------------------------------\u001b[0m",
      "\u001b[0;31mNameError\u001b[0m                                 Traceback (most recent call last)",
      "Cell \u001b[0;32mIn[87], line 13\u001b[0m\n\u001b[1;32m      9\u001b[0m     \u001b[38;5;28;01mreturn\u001b[39;00m kurtosis(chnl)\n\u001b[1;32m     12\u001b[0m \u001b[38;5;28;01mfor\u001b[39;00m i, j \u001b[38;5;129;01min\u001b[39;00m \u001b[38;5;28menumerate\u001b[39m(\u001b[38;5;28mrange\u001b[39m(\u001b[38;5;241m0\u001b[39m, \u001b[38;5;28mlen\u001b[39m(all_channels[\u001b[38;5;241m0\u001b[39m]))):\n\u001b[0;32m---> 13\u001b[0m     \u001b[43mexec\u001b[49m\u001b[43m(\u001b[49m\u001b[38;5;124;43mf\u001b[39;49m\u001b[38;5;124;43m'\u001b[39;49m\u001b[38;5;124;43mchannel_kurtosis(water\u001b[39;49m\u001b[38;5;132;43;01m{\u001b[39;49;00m\u001b[43mi\u001b[49m\u001b[38;5;132;43;01m}\u001b[39;49;00m\u001b[38;5;124;43m.get_freqs(), min_f, max_f)\u001b[39;49m\u001b[38;5;124;43m'\u001b[39;49m\u001b[43m)\u001b[49m\n\u001b[1;32m     15\u001b[0m \u001b[38;5;28mprint\u001b[39m(channel_kurtosis(water0\u001b[38;5;241m.\u001b[39mget_freqs(), \u001b[38;5;241m3501\u001b[39m, \u001b[38;5;241m3506\u001b[39m),\n\u001b[1;32m     16\u001b[0m       np\u001b[38;5;241m.\u001b[39mamax(water0\u001b[38;5;241m.\u001b[39mget_freqs()),\n\u001b[1;32m     17\u001b[0m       np\u001b[38;5;241m.\u001b[39mamin(water0\u001b[38;5;241m.\u001b[39mget_freqs()))\n",
      "File \u001b[0;32m<string>:1\u001b[0m\n",
      "\u001b[0;31mNameError\u001b[0m: name 'water6' is not defined"
     ]
    }
   ],
   "source": [
    "# Grouping channels\n",
    "# chnl = water0.freqs[div[i-1]:div[i]]\n",
    "\n",
    "# print(water0.freqs[0:2])\n",
    "\n",
    "\n",
    "def channel_kurtosis(arr, min, max):\n",
    "    chnl = ma.masked_outside(arr, min, max)\n",
    "    return kurtosis(chnl)\n",
    "\n",
    "\n",
    "for i, j in enumerate(range(0, len(all_channels[0]))):\n",
    "    exec(f'channel_kurtosis(water{i}.get_freqs(), min_f, max_f)')\n",
    "\n",
    "print(channel_kurtosis(water0.get_freqs(), 3501, 3506),\n",
    "      np.amax(water0.get_freqs()),\n",
    "      np.amin(water0.get_freqs()))"
   ]
  },
  {
   "cell_type": "code",
   "execution_count": null,
   "id": "f562921f",
   "metadata": {},
   "outputs": [],
   "source": [
    "# i = 0 # i goes through the waterN\n",
    "# j = 0 # j goes through the elements of the waterN borders\n",
    "# while i <= len(water0.freqs)-2:\n",
    "#     chnl = ma.masked_outside(water0.freqs, all_channels[i][j], all_channels[i][j+1])\n",
    "#     print(chnl)\n",
    "#     i += 2\n",
    "#     j += 1\n",
    "print(ma.masked_outside(water0.freqs, 3501, 3506))\n",
    "print(kurtosis(ma.masked_outside(water0.freqs, 3501, 3506)))\n",
    "\n",
    "# indeces = np.where((water0.freqs > 3501) & (water0.freqs < 3506))\n",
    "a = water0.freqs[indeces]\n",
    "print(kurtosis(a), kurtosistest(a))\n",
    "print(a, len(a))\n",
    "len(water0.freqs)"
   ]
  },
  {
   "cell_type": "code",
   "execution_count": null,
   "id": "fc1878d1",
   "metadata": {},
   "outputs": [],
   "source": [
    "# print(all_channels[0][0], all_channels[0][1])\n",
    "\n",
    "# chnl = water0.freqs\n",
    "# print(chnl)\n",
    "# for i, water in enumerate(all_channels):\n",
    "#     for j, div in enumerate(water0.freqs):\n",
    "#         print(div)\n",
    "#         chnl = water[0:div]\n",
    "#         print(chnl)"
   ]
  },
  {
   "cell_type": "markdown",
   "id": "8e804625",
   "metadata": {},
   "source": [
    "**Step 3:** Create an array that contains all channels with kurtosis > 0 (scipy uses the Fisher definition by default)"
   ]
  },
  {
   "cell_type": "markdown",
   "id": "0a5034c1",
   "metadata": {},
   "source": [
    "**Step 4:** Compare these channels with Dept. of Commerce graph to see where RFI might be coming in"
   ]
  },
  {
   "cell_type": "markdown",
   "id": "f37ed076",
   "metadata": {},
   "source": [
    "**Step 5:** Will also compare to waterN+1.freqs, etc. to see common threads to identify RFI\n",
    "    "
   ]
  },
  {
   "cell_type": "code",
   "execution_count": null,
   "id": "c02ab4d2",
   "metadata": {},
   "outputs": [],
   "source": []
  }
 ],
 "metadata": {
  "kernelspec": {
   "display_name": "Python 3 (ipykernel)",
   "language": "python",
   "name": "python3"
  },
  "language_info": {
   "codemirror_mode": {
    "name": "ipython",
    "version": 3
   },
   "file_extension": ".py",
   "mimetype": "text/x-python",
   "name": "python",
   "nbconvert_exporter": "python",
   "pygments_lexer": "ipython3",
   "version": "3.8.2"
  }
 },
 "nbformat": 4,
 "nbformat_minor": 5
}
