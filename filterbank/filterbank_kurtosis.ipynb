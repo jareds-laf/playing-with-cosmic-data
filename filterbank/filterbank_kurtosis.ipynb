{
 "cells": [
  {
   "cell_type": "code",
   "execution_count": 34,
   "id": "01378df9",
   "metadata": {},
   "outputs": [],
   "source": [
    "%matplotlib inline\n",
    "import pylab as plt\n",
    "import blimpy\n",
    "from blimpy import Waterfall\n",
    "from blimpy import calcload\n",
    "import os\n",
    "import glob\n",
    "import matplotlib.pyplot as plt\n",
    "import numpy as np\n",
    "import time\n",
    "from scipy.stats import norm, kurtosis, kurtosistest\n",
    "import scipy\n",
    "import numpy.ma as ma\n",
    "import seaborn as sns"
   ]
  },
  {
   "cell_type": "code",
   "execution_count": 3,
   "id": "89a6734e",
   "metadata": {},
   "outputs": [
    {
     "name": "stdout",
     "output_type": "stream",
     "text": [
      "9.0 -- Band_Test_BD_C512-beam0001.fil\n",
      "8.0 -- band_test_AC_C512-beam0001.fil\n",
      "11.0 -- Band_Test_BD_C0-beam0001.fil\n",
      "7.0 -- band_test_GPU3_BD_C32-beam0001.fil\n",
      "11.0 -- band_test_AC_C32-beam0001.fil\n",
      "4.0 -- band_test_AC_C544-beam0001.fil\n"
     ]
    }
   ],
   "source": [
    "file_path = '/lustre/aoc/students/jsofair/playing-with-cosmic-data/filterbank/'\n",
    "filelist = glob.glob(os.path.join(file_path,'*.fil'))\n",
    "\n",
    "ml_list = []\n",
    "for i, file in enumerate(filelist):\n",
    "    ml = blimpy.calcload.calc_max_load(os.path.join(file))\n",
    "    ml_list.append(ml)\n",
    "    print(f'{ml} -- {file[65:]}')"
   ]
  },
  {
   "cell_type": "code",
   "execution_count": 4,
   "id": "c2cf3bce",
   "metadata": {},
   "outputs": [
    {
     "name": "stdout",
     "output_type": "stream",
     "text": [
      "Elapsed time: 79.01174235343933\n"
     ]
    }
   ],
   "source": [
    "t0 = time.time()\n",
    "water0 = Waterfall(os.path.normpath(filelist[0]), max_load = ml_list[0])\n",
    "water1 = Waterfall(os.path.normpath(filelist[1]), max_load = ml_list[1])\n",
    "water2 = Waterfall(os.path.normpath(filelist[2]), max_load = ml_list[2])\n",
    "water3 = Waterfall(os.path.normpath(filelist[3]), max_load = ml_list[3])\n",
    "water4 = Waterfall(os.path.normpath(filelist[4]), max_load = ml_list[4])\n",
    "water5 = Waterfall(os.path.normpath(filelist[5]), max_load = ml_list[5])\n",
    "\n",
    "water_list = [water0, water1, water2, water3, water4, water5]\n",
    "t1 = time.time()\n",
    "print(f'Elapsed time: {t1 - t0}')"
   ]
  },
  {
   "cell_type": "code",
   "execution_count": 5,
   "id": "0d64f20a",
   "metadata": {},
   "outputs": [
    {
     "name": "stdout",
     "output_type": "stream",
     "text": [
      "\n",
      "--- File Info ---\n",
      "      machine_id :                                0\n",
      "    telescope_id :                               -1\n",
      "         src_raj :                 4:09:22.00873993\n",
      "         src_dej :                12:17:39.84749624\n",
      "        az_start :             6.9287069824102e-310\n",
      "        za_start :             4.6633787335631e-310\n",
      "       data_type :                                1\n",
      "            fch1 :           3532.4999961853027 MHz\n",
      "            foff :           -7.62939453125e-06 MHz\n",
      "          nchans :                          4194304\n",
      "          nbeams :                                2\n",
      "           ibeam :                                1\n",
      "           nbits :                               32\n",
      "   tstart (ISOT) :          2023-05-10T22:08:42.502\n",
      "    tstart (MJD) :               60074.922714145854\n",
      "           tsamp :                         0.131072\n",
      "            nifs :                                1\n",
      "     barycentric :                                1\n",
      "   pulsarcentric :                                1\n",
      "     source_name :                       Incoherent\n",
      "     rawdatafile : TCOS0001_sb43905589_1_1_001.60074.91866136574.4.1.BD.C512\n",
      "\n",
      "Num ints in file :                              512\n",
      "      File shape :                (512, 1, 4194304)\n",
      "--- Selection Info ---\n",
      "Data selection shape :                (512, 1, 4194304)\n",
      "Minimum freq (MHz) :               3500.5000038146973\n",
      "Maximum freq (MHz) :               3532.4999961853027\n"
     ]
    }
   ],
   "source": [
    "water0.info()"
   ]
  },
  {
   "cell_type": "markdown",
   "id": "e853ebc4",
   "metadata": {},
   "source": [
    "---\n",
    "**Self-made kurtosis plot(s)?** Here's my plan:\n",
    "- Break up waterN.freqs into channels of width w\n",
    "- Calculate the kurtosis of each channel\n",
    "- Create an array that contains all channels with kurtosis > 0 (the Fisher definition is used by default)\n",
    "- Compare these channels with Dept. of Commerce graph to see where RFI might be coming in\n",
    "- Will also compare to waterN+1.freqs, etc. to see common threads to identify RFI"
   ]
  },
  {
   "cell_type": "markdown",
   "id": "ad10f849",
   "metadata": {},
   "source": [
    "**Step 1:** Break up waterN.freqs into channels of potentially distinct widths w_n"
   ]
  },
  {
   "cell_type": "code",
   "execution_count": 22,
   "id": "a186603d",
   "metadata": {},
   "outputs": [],
   "source": [
    "'''\n",
    "Getting channel borders.\n",
    "\n",
    "For now, this is all just using water0. Eventually, I want this to hit the point\n",
    "where it will go through all N of the .fil files\n",
    "'''\n",
    "\n",
    "\n",
    "min_f = int(np.round(water0.get_freqs()[len(water0.get_freqs())-1]))\n",
    "# print(min_f)\n",
    "max_f = int(np.round(water0.get_freqs()[0]))\n",
    "# print(max_f)\n",
    "\n",
    "# Create an array of channel borders for each .fil file\n",
    "all_channels = []\n",
    "\n",
    "# Specify the number of channels to break each .fil file into\n",
    "num_chnls = 1398101\n",
    "# print(len(water_list))\n",
    "\n",
    "for i in range(0, len(water_list)):\n",
    "#     print('h')\n",
    "    exec(f'all_channels.append(np.array_split(water{i}.get_freqs(), {num_chnls}))')\n",
    "    \n",
    "\n",
    "\n",
    "# all_channels is X by Y by Z:\n",
    "# X fil files,\n",
    "# Y divisions per fil file,\n",
    "# Z elements per division (Z is different for each division unless the fil files are divided evenly).\n",
    "\n",
    "# Thus, all_channels[i][j] is a channel.\n",
    "# For example, all_channels[0][3] takes the 3rd channel by index from water0.\n",
    "# Another example: all_channels[0][3][1] takes the 1st measured frequency by index from the above channel."
   ]
  },
  {
   "cell_type": "code",
   "execution_count": 7,
   "id": "2c4113a6",
   "metadata": {},
   "outputs": [
    {
     "name": "stdout",
     "output_type": "stream",
     "text": [
      "3532 3501\n"
     ]
    }
   ],
   "source": [
    "# for i in range(0, len(water_list)):\n",
    "#     exec(f'water{i}_channels = []')\n",
    "#     exec(f'all_channels.append(water{i}_channels)')\n",
    "    \n",
    "print(max_f, min_f)\n",
    "# Add channel divisions to an array\n",
    "# for j in enumerate(range(min_f, max_f, 5)):\n",
    "#     freq = j[1]\n",
    "#     exec(f'water{0}_channels.append(freq)')\n",
    "    \n",
    "# for i, freq in enumerate(range(0, len(water_list))):\n",
    "#     for j in enumerate(range(min_f, max_f, 10)):\n",
    "#         print(freq)\n",
    "#         exec(f'water{i}_channels.append(freq)')\n",
    "\n",
    "# for i, freq in enumerate(range(0, len(water_list))):\n",
    "#     for j in enumerate(range(min_f, max_f, 10)):\n",
    "\n",
    "# print(all_channels)\n",
    "# print(water0_channels)"
   ]
  },
  {
   "cell_type": "markdown",
   "id": "8b8b2499",
   "metadata": {},
   "source": [
    "**Step 2:** Calculate the kurtosis of each channel"
   ]
  },
  {
   "cell_type": "code",
   "execution_count": 13,
   "id": "72f7e6a3",
   "metadata": {},
   "outputs": [
    {
     "name": "stdout",
     "output_type": "stream",
     "text": [
      "-1.2000000000136428 3532.4999961853027 3529.2999992370605\n",
      "419431 3532.4999961853027 3532.499988555908\n"
     ]
    }
   ],
   "source": [
    "print(kurtosis(all_channels[0][0]),\n",
    "np.amax(all_channels[0][0]),\n",
    "np.amin(all_channels[0][0]))\n",
    "\n",
    "print(len(all_channels[0][0]), all_channels[0][0][0], all_channels[0][0][1])"
   ]
  },
  {
   "cell_type": "code",
   "execution_count": 23,
   "id": "e267a03b",
   "metadata": {},
   "outputs": [
    {
     "ename": "KeyboardInterrupt",
     "evalue": "",
     "output_type": "error",
     "traceback": [
      "\u001b[0;31m---------------------------------------------------------------------------\u001b[0m",
      "\u001b[0;31mKeyboardInterrupt\u001b[0m                         Traceback (most recent call last)",
      "Cell \u001b[0;32mIn[23], line 4\u001b[0m\n\u001b[1;32m      1\u001b[0m kurts \u001b[38;5;241m=\u001b[39m []\n\u001b[1;32m      3\u001b[0m \u001b[38;5;28;01mfor\u001b[39;00m i, chnl \u001b[38;5;129;01min\u001b[39;00m \u001b[38;5;28menumerate\u001b[39m(all_channels[\u001b[38;5;241m0\u001b[39m]):\n\u001b[0;32m----> 4\u001b[0m     kurts\u001b[38;5;241m.\u001b[39mappend(\u001b[43mkurtosis\u001b[49m\u001b[43m(\u001b[49m\u001b[43mchnl\u001b[49m\u001b[43m)\u001b[49m)\n",
      "File \u001b[0;32m/lustre/aoc/students/jsofair/jnrao/lib/python3.8/site-packages/scipy/stats/_axis_nan_policy.py:443\u001b[0m, in \u001b[0;36m_axis_nan_policy_factory.<locals>.axis_nan_policy_decorator.<locals>.axis_nan_policy_wrapper\u001b[0;34m(***failed resolving arguments***)\u001b[0m\n\u001b[1;32m    440\u001b[0m \u001b[38;5;28;01mdel\u001b[39;00m args  \u001b[38;5;66;03m# avoid the possibility of passing both `args` and `kwds`\u001b[39;00m\n\u001b[1;32m    442\u001b[0m \u001b[38;5;66;03m# convert masked arrays to regular arrays with sentinel values\u001b[39;00m\n\u001b[0;32m--> 443\u001b[0m samples, sentinel \u001b[38;5;241m=\u001b[39m \u001b[43m_masked_arrays_2_sentinel_arrays\u001b[49m\u001b[43m(\u001b[49m\u001b[43msamples\u001b[49m\u001b[43m)\u001b[49m\n\u001b[1;32m    445\u001b[0m \u001b[38;5;66;03m# standardize to always work along last axis\u001b[39;00m\n\u001b[1;32m    446\u001b[0m reduced_axes \u001b[38;5;241m=\u001b[39m axis\n",
      "File \u001b[0;32m/lustre/aoc/students/jsofair/jnrao/lib/python3.8/site-packages/scipy/stats/_axis_nan_policy.py:179\u001b[0m, in \u001b[0;36m_masked_arrays_2_sentinel_arrays\u001b[0;34m(samples)\u001b[0m\n\u001b[1;32m    177\u001b[0m \u001b[38;5;28;01mfor\u001b[39;00m sample \u001b[38;5;129;01min\u001b[39;00m samples:\n\u001b[1;32m    178\u001b[0m     mask \u001b[38;5;241m=\u001b[39m \u001b[38;5;28mgetattr\u001b[39m(sample, \u001b[38;5;124m'\u001b[39m\u001b[38;5;124mmask\u001b[39m\u001b[38;5;124m'\u001b[39m, \u001b[38;5;28;01mFalse\u001b[39;00m)\n\u001b[0;32m--> 179\u001b[0m     has_mask \u001b[38;5;241m=\u001b[39m has_mask \u001b[38;5;129;01mor\u001b[39;00m \u001b[43mnp\u001b[49m\u001b[38;5;241;43m.\u001b[39;49m\u001b[43many\u001b[49m\u001b[43m(\u001b[49m\u001b[43mmask\u001b[49m\u001b[43m)\u001b[49m\n\u001b[1;32m    180\u001b[0m \u001b[38;5;28;01mif\u001b[39;00m \u001b[38;5;129;01mnot\u001b[39;00m has_mask:\n\u001b[1;32m    181\u001b[0m     \u001b[38;5;28;01mreturn\u001b[39;00m samples, \u001b[38;5;28;01mNone\u001b[39;00m  \u001b[38;5;66;03m# None means there is no sentinel value\u001b[39;00m\n",
      "File \u001b[0;32m<__array_function__ internals>:200\u001b[0m, in \u001b[0;36many\u001b[0;34m(*args, **kwargs)\u001b[0m\n",
      "File \u001b[0;32m/lustre/aoc/students/jsofair/jnrao/lib/python3.8/site-packages/numpy/core/fromnumeric.py:2423\u001b[0m, in \u001b[0;36many\u001b[0;34m(a, axis, out, keepdims, where)\u001b[0m\n\u001b[1;32m   2333\u001b[0m \u001b[38;5;129m@array_function_dispatch\u001b[39m(_any_dispatcher)\n\u001b[1;32m   2334\u001b[0m \u001b[38;5;28;01mdef\u001b[39;00m \u001b[38;5;21many\u001b[39m(a, axis\u001b[38;5;241m=\u001b[39m\u001b[38;5;28;01mNone\u001b[39;00m, out\u001b[38;5;241m=\u001b[39m\u001b[38;5;28;01mNone\u001b[39;00m, keepdims\u001b[38;5;241m=\u001b[39mnp\u001b[38;5;241m.\u001b[39m_NoValue, \u001b[38;5;241m*\u001b[39m, where\u001b[38;5;241m=\u001b[39mnp\u001b[38;5;241m.\u001b[39m_NoValue):\n\u001b[1;32m   2335\u001b[0m \u001b[38;5;250m    \u001b[39m\u001b[38;5;124;03m\"\"\"\u001b[39;00m\n\u001b[1;32m   2336\u001b[0m \u001b[38;5;124;03m    Test whether any array element along a given axis evaluates to True.\u001b[39;00m\n\u001b[1;32m   2337\u001b[0m \n\u001b[0;32m   (...)\u001b[0m\n\u001b[1;32m   2421\u001b[0m \n\u001b[1;32m   2422\u001b[0m \u001b[38;5;124;03m    \"\"\"\u001b[39;00m\n\u001b[0;32m-> 2423\u001b[0m     \u001b[38;5;28;01mreturn\u001b[39;00m \u001b[43m_wrapreduction\u001b[49m\u001b[43m(\u001b[49m\u001b[43ma\u001b[49m\u001b[43m,\u001b[49m\u001b[43m \u001b[49m\u001b[43mnp\u001b[49m\u001b[38;5;241;43m.\u001b[39;49m\u001b[43mlogical_or\u001b[49m\u001b[43m,\u001b[49m\u001b[43m \u001b[49m\u001b[38;5;124;43m'\u001b[39;49m\u001b[38;5;124;43many\u001b[39;49m\u001b[38;5;124;43m'\u001b[39;49m\u001b[43m,\u001b[49m\u001b[43m \u001b[49m\u001b[43maxis\u001b[49m\u001b[43m,\u001b[49m\u001b[43m \u001b[49m\u001b[38;5;28;43;01mNone\u001b[39;49;00m\u001b[43m,\u001b[49m\u001b[43m \u001b[49m\u001b[43mout\u001b[49m\u001b[43m,\u001b[49m\n\u001b[1;32m   2424\u001b[0m \u001b[43m                          \u001b[49m\u001b[43mkeepdims\u001b[49m\u001b[38;5;241;43m=\u001b[39;49m\u001b[43mkeepdims\u001b[49m\u001b[43m,\u001b[49m\u001b[43m \u001b[49m\u001b[43mwhere\u001b[49m\u001b[38;5;241;43m=\u001b[39;49m\u001b[43mwhere\u001b[49m\u001b[43m)\u001b[49m\n",
      "File \u001b[0;32m/lustre/aoc/students/jsofair/jnrao/lib/python3.8/site-packages/numpy/core/fromnumeric.py:86\u001b[0m, in \u001b[0;36m_wrapreduction\u001b[0;34m(obj, ufunc, method, axis, dtype, out, **kwargs)\u001b[0m\n\u001b[1;32m     83\u001b[0m         \u001b[38;5;28;01melse\u001b[39;00m:\n\u001b[1;32m     84\u001b[0m             \u001b[38;5;28;01mreturn\u001b[39;00m reduction(axis\u001b[38;5;241m=\u001b[39maxis, out\u001b[38;5;241m=\u001b[39mout, \u001b[38;5;241m*\u001b[39m\u001b[38;5;241m*\u001b[39mpasskwargs)\n\u001b[0;32m---> 86\u001b[0m \u001b[38;5;28;01mreturn\u001b[39;00m \u001b[43mufunc\u001b[49m\u001b[38;5;241;43m.\u001b[39;49m\u001b[43mreduce\u001b[49m\u001b[43m(\u001b[49m\u001b[43mobj\u001b[49m\u001b[43m,\u001b[49m\u001b[43m \u001b[49m\u001b[43maxis\u001b[49m\u001b[43m,\u001b[49m\u001b[43m \u001b[49m\u001b[43mdtype\u001b[49m\u001b[43m,\u001b[49m\u001b[43m \u001b[49m\u001b[43mout\u001b[49m\u001b[43m,\u001b[49m\u001b[43m \u001b[49m\u001b[38;5;241;43m*\u001b[39;49m\u001b[38;5;241;43m*\u001b[39;49m\u001b[43mpasskwargs\u001b[49m\u001b[43m)\u001b[49m\n",
      "\u001b[0;31mKeyboardInterrupt\u001b[0m: "
     ]
    }
   ],
   "source": [
    "kurts = []\n",
    "\n",
    "for i, chnl in enumerate(all_channels[0]):\n",
    "    kurts.append(kurtosis(chnl))"
   ]
  },
  {
   "cell_type": "code",
   "execution_count": 22,
   "id": "fcf735eb",
   "metadata": {},
   "outputs": [],
   "source": [
    "for kurt in kurts:\n",
    "#     print(kurt)\n",
    "    if kurt > 0:\n",
    "        print('significant')      \n",
    "        "
   ]
  },
  {
   "cell_type": "code",
   "execution_count": 23,
   "id": "3745a3ea",
   "metadata": {
    "scrolled": true
   },
   "outputs": [
    {
     "name": "stdout",
     "output_type": "stream",
     "text": [
      "4194304 10\n"
     ]
    }
   ],
   "source": [
    "print(len(water0.get_freqs()[:]),\n",
    "len(kurts))"
   ]
  },
  {
   "cell_type": "code",
   "execution_count": 24,
   "id": "10386435",
   "metadata": {
    "scrolled": false
   },
   "outputs": [
    {
     "data": {
      "text/plain": [
       "[<matplotlib.lines.Line2D at 0x7f3cb50ec370>]"
      ]
     },
     "execution_count": 24,
     "metadata": {},
     "output_type": "execute_result"
    },
    {
     "data": {
      "image/png": "[encoded data removed]",
      "text/plain": [
       "<Figure size 640x480 with 1 Axes>"
      ]
     },
     "metadata": {},
     "output_type": "display_data"
    }
   ],
   "source": [
    "plt.plot(water0.get_freqs()[0:num_chnls], kurts)\n",
    "# plt.ylim(-1.2001,-1.1999)"
   ]
  },
  {
   "cell_type": "code",
   "execution_count": 21,
   "id": "867b5186",
   "metadata": {},
   "outputs": [
    {
     "name": "stdout",
     "output_type": "stream",
     "text": [
      "4194304\n"
     ]
    }
   ],
   "source": [
    "# Take kurt() of each element in wf.get_freqs()\n",
    "\n",
    "kurtosis(water0.get_freqs()[0:2])\n",
    "print(len(water0.get_freqs()))\n",
    "\n",
    "# Need at least 3 frequencies in the channel for kurt() to work.\n",
    "\n",
    "# How do we get 3 frequencies/channel? How many channels do we need to make?\n",
    "# If there are N = 4194304 frequencies, then we need 1,398,101.333 ~~ 1,398,101 channels (not sure how\n",
    "# rounding will be handled!)"
   ]
  },
  {
   "cell_type": "code",
   "execution_count": 25,
   "id": "fd941e7f",
   "metadata": {},
   "outputs": [
    {
     "name": "stdout",
     "output_type": "stream",
     "text": [
      "blimpy.io.base_reader WARNING  Setting f_stop = 3532.499996, since f_stop not given or not valid.\n",
      "blimpy.io.base_reader WARNING  f_start=3526, f_stop=3533, t_start=0, t_stop=512, init=True\n"
     ]
    }
   ],
   "source": [
    "water0_abr = Waterfall(os.path.normpath(filelist[0]), max_load = ml_list[0], f_start = 3526 , f_stop = 3533)"
   ]
  },
  {
   "cell_type": "code",
   "execution_count": 158,
   "id": "7521b56d",
   "metadata": {},
   "outputs": [
    {
     "data": {
      "image/png": "[encoded data removed]",
      "text/plain": [
       "<Figure size 640x480 with 1 Axes>"
      ]
     },
     "metadata": {},
     "output_type": "display_data"
    }
   ],
   "source": [
    "water0_abr.plot_kurtosis()"
   ]
  },
  {
   "cell_type": "code",
   "execution_count": 102,
   "id": "313046fc",
   "metadata": {},
   "outputs": [
    {
     "name": "stdout",
     "output_type": "stream",
     "text": [
      "[ 0.47625828 -0.13222933  0.6003506  ...  0.04624271 -0.2579801\n",
      "  0.32947755]\n"
     ]
    }
   ],
   "source": [
    "# Code modified from blimpy GitHub (plotting > plot_kurtosis.py)\n",
    "wf = water0_abr\n",
    "f_start = np.amin(wf.get_freqs())\n",
    "f_stop = np.amax(wf.get_freqs())\n",
    "\n",
    "\n",
    "plot_f, plot_data = wf.grab_data(f_start, f_stop, if_id=0)\n",
    "\n",
    "# Using accending frequency for all plots.\n",
    "if wf.header['foff'] < 0:\n",
    "        plot_data = plot_data[..., ::-1]  # Reverse data\n",
    "        plot_f = plot_f[::-1]\n",
    "\n",
    "# try:\n",
    "pltdata = kurtosis(plot_data, axis=0, nan_policy='omit')\n",
    "# except:\n",
    "#     pltdata = plot_data * 0.0\n",
    "    \n",
    "\n",
    "# print(plot_f[0], plot_f[-1])\n",
    "print(pltdata)\n",
    "\n",
    "# print(len(plot_data))"
   ]
  },
  {
   "cell_type": "code",
   "execution_count": 103,
   "id": "0a046a36",
   "metadata": {},
   "outputs": [
    {
     "name": "stdout",
     "output_type": "stream",
     "text": [
      "851968 4194304\n"
     ]
    }
   ],
   "source": [
    "print(len(pltdata), len(water0.get_freqs()))"
   ]
  },
  {
   "cell_type": "code",
   "execution_count": 104,
   "id": "ecf25fe6",
   "metadata": {},
   "outputs": [
    {
     "name": "stdout",
     "output_type": "stream",
     "text": [
      "[3.2434425 3.8816586 3.1341295 3.19694   4.0967464 3.4022956 3.0526323\n",
      " 3.164588  3.166801        inf 3.5075154 3.0723891 3.0956354 3.7970862\n",
      " 3.834484  6.4621    3.0864758 3.019012  3.4733815 3.0502224 3.0730796\n",
      " 3.0256214 3.0479145 3.5359287 3.1873703 3.2907758 3.0481367 3.2624302\n",
      " 3.103744  3.5138254 3.2085538 3.5398455 3.1312375 3.3175197 3.113266\n",
      " 3.4951544 3.3857303 3.9709535 3.3616714 3.1952715 3.499682  3.3039317\n",
      " 3.1638112       inf       inf       inf 3.2933726       inf       inf\n",
      "       inf]\n"
     ]
    }
   ],
   "source": [
    "sig_list = pltdata[np.where(pltdata > 3)]\n",
    "print(sig_list)\n",
    "\n",
    "\n",
    "# Make sure you use plot_f and NOT wf.get_freqs() because the order of wf.get_freqs() is decreasing,\n",
    "# but we want it to be increasing!\n",
    "sig_freqs = plot_f[np.where(pltdata > 3)]"
   ]
  },
  {
   "cell_type": "code",
   "execution_count": 101,
   "id": "3e03c0bb",
   "metadata": {},
   "outputs": [
    {
     "data": {
      "text/plain": [
       "[<matplotlib.lines.Line2D at 0x7f028dd615b0>]"
      ]
     },
     "execution_count": 101,
     "metadata": {},
     "output_type": "execute_result"
    },
    {
     "data": {
      "image/png": "[encoded data removed]",
      "text/plain": [
       "<Figure size 640x480 with 1 Axes>"
      ]
     },
     "metadata": {},
     "output_type": "display_data"
    }
   ],
   "source": [
    "plt.plot(sig_freqs, sig_list, '.')"
   ]
  },
  {
   "cell_type": "code",
   "execution_count": 71,
   "id": "83a711a6",
   "metadata": {},
   "outputs": [
    {
     "name": "stdout",
     "output_type": "stream",
     "text": [
      "(512, 851968)\n"
     ]
    }
   ],
   "source": [
    "print(np.shape(plot_data))"
   ]
  },
  {
   "cell_type": "code",
   "execution_count": 72,
   "id": "db137d88",
   "metadata": {},
   "outputs": [
    {
     "data": {
      "image/png": "[encoded data removed]",
      "text/plain": [
       "<Figure size 640x480 with 1 Axes>"
      ]
     },
     "metadata": {},
     "output_type": "display_data"
    }
   ],
   "source": [
    "plt.plot(plot_f, pltdata)\n",
    "plt.xlim(plot_f[0], plot_f[-1])\n",
    "plt.ylabel(\"Kurtosis\")\n",
    "plt.xlabel(\"Frequency [MHz]\")\n",
    "plt.show()"
   ]
  },
  {
   "cell_type": "code",
   "execution_count": null,
   "id": "cc4511fa",
   "metadata": {},
   "outputs": [],
   "source": [
    "water0.plot_kurtosis()"
   ]
  },
  {
   "cell_type": "code",
   "execution_count": 110,
   "id": "3dac31bd",
   "metadata": {},
   "outputs": [
    {
     "ename": "AttributeError",
     "evalue": "'Waterfall' object has no attribute 'get_kurtosis'",
     "output_type": "error",
     "traceback": [
      "\u001b[0;31m---------------------------------------------------------------------------\u001b[0m",
      "\u001b[0;31mAttributeError\u001b[0m                            Traceback (most recent call last)",
      "Cell \u001b[0;32mIn[110], line 1\u001b[0m\n\u001b[0;32m----> 1\u001b[0m \u001b[43mwater0_abr\u001b[49m\u001b[38;5;241;43m.\u001b[39;49m\u001b[43mget_kurtosis\u001b[49m()\n",
      "\u001b[0;31mAttributeError\u001b[0m: 'Waterfall' object has no attribute 'get_kurtosis'"
     ]
    }
   ],
   "source": [
    "water0_abr.get_kurtosis()"
   ]
  },
  {
   "cell_type": "code",
   "execution_count": 87,
   "id": "c4167350",
   "metadata": {},
   "outputs": [
    {
     "name": "stderr",
     "output_type": "stream",
     "text": [
      "/lustre/aoc/students/jsofair/jnrao/lib/python3.8/site-packages/scipy/stats/_stats_py.py:1417: RuntimeWarning: Mean of empty slice.\n",
      "  mean = a.mean(axis, keepdims=True)\n",
      "/lustre/aoc/students/jsofair/jnrao/lib/python3.8/site-packages/numpy/core/_methods.py:184: RuntimeWarning: invalid value encountered in divide\n",
      "  ret = um.true_divide(\n",
      "/lustre/aoc/students/jsofair/jnrao/lib/python3.8/site-packages/numpy/core/fromnumeric.py:3464: RuntimeWarning: Mean of empty slice.\n",
      "  return _methods._mean(a, axis=axis, dtype=dtype,\n",
      "/lustre/aoc/students/jsofair/jnrao/lib/python3.8/site-packages/numpy/core/_methods.py:192: RuntimeWarning: invalid value encountered in scalar divide\n",
      "  ret = ret.dtype.type(ret / rcount)\n"
     ]
    },
    {
     "ename": "NameError",
     "evalue": "name 'water6' is not defined",
     "output_type": "error",
     "traceback": [
      "\u001b[0;31m---------------------------------------------------------------------------\u001b[0m",
      "\u001b[0;31mNameError\u001b[0m                                 Traceback (most recent call last)",
      "Cell \u001b[0;32mIn[87], line 13\u001b[0m\n\u001b[1;32m      9\u001b[0m     \u001b[38;5;28;01mreturn\u001b[39;00m kurtosis(chnl)\n\u001b[1;32m     12\u001b[0m \u001b[38;5;28;01mfor\u001b[39;00m i, j \u001b[38;5;129;01min\u001b[39;00m \u001b[38;5;28menumerate\u001b[39m(\u001b[38;5;28mrange\u001b[39m(\u001b[38;5;241m0\u001b[39m, \u001b[38;5;28mlen\u001b[39m(all_channels[\u001b[38;5;241m0\u001b[39m]))):\n\u001b[0;32m---> 13\u001b[0m     \u001b[43mexec\u001b[49m\u001b[43m(\u001b[49m\u001b[38;5;124;43mf\u001b[39;49m\u001b[38;5;124;43m'\u001b[39;49m\u001b[38;5;124;43mchannel_kurtosis(water\u001b[39;49m\u001b[38;5;132;43;01m{\u001b[39;49;00m\u001b[43mi\u001b[49m\u001b[38;5;132;43;01m}\u001b[39;49;00m\u001b[38;5;124;43m.get_freqs(), min_f, max_f)\u001b[39;49m\u001b[38;5;124;43m'\u001b[39;49m\u001b[43m)\u001b[49m\n\u001b[1;32m     15\u001b[0m \u001b[38;5;28mprint\u001b[39m(channel_kurtosis(water0\u001b[38;5;241m.\u001b[39mget_freqs(), \u001b[38;5;241m3501\u001b[39m, \u001b[38;5;241m3506\u001b[39m),\n\u001b[1;32m     16\u001b[0m       np\u001b[38;5;241m.\u001b[39mamax(water0\u001b[38;5;241m.\u001b[39mget_freqs()),\n\u001b[1;32m     17\u001b[0m       np\u001b[38;5;241m.\u001b[39mamin(water0\u001b[38;5;241m.\u001b[39mget_freqs()))\n",
      "File \u001b[0;32m<string>:1\u001b[0m\n",
      "\u001b[0;31mNameError\u001b[0m: name 'water6' is not defined"
     ]
    }
   ],
   "source": [
    "# Grouping channels\n",
    "# chnl = water0.freqs[div[i-1]:div[i]]\n",
    "\n",
    "# print(water0.freqs[0:2])\n",
    "\n",
    "\n",
    "def channel_kurtosis(arr, min, max):\n",
    "    chnl = ma.masked_outside(arr, min, max)\n",
    "    return kurtosis(chnl)\n",
    "\n",
    "\n",
    "for i, j in enumerate(range(0, len(all_channels[0]))):\n",
    "    exec(f'channel_kurtosis(water{i}.get_freqs(), min_f, max_f)')\n",
    "\n",
    "print(channel_kurtosis(water0.get_freqs(), 3501, 3506),\n",
    "      np.amax(water0.get_freqs()),\n",
    "      np.amin(water0.get_freqs()))"
   ]
  },
  {
   "cell_type": "code",
   "execution_count": null,
   "id": "f562921f",
   "metadata": {},
   "outputs": [],
   "source": [
    "# i = 0 # i goes through the waterN\n",
    "# j = 0 # j goes through the elements of the waterN borders\n",
    "# while i <= len(water0.freqs)-2:\n",
    "#     chnl = ma.masked_outside(water0.freqs, all_channels[i][j], all_channels[i][j+1])\n",
    "#     print(chnl)\n",
    "#     i += 2\n",
    "#     j += 1\n",
    "print(ma.masked_outside(water0.freqs, 3501, 3506))\n",
    "print(kurtosis(ma.masked_outside(water0.freqs, 3501, 3506)))\n",
    "\n",
    "# indeces = np.where((water0.freqs > 3501) & (water0.freqs < 3506))\n",
    "a = water0.freqs[indeces]\n",
    "print(kurtosis(a), kurtosistest(a))\n",
    "print(a, len(a))\n",
    "len(water0.freqs)"
   ]
  },
  {
   "cell_type": "code",
   "execution_count": null,
   "id": "fc1878d1",
   "metadata": {},
   "outputs": [],
   "source": [
    "# print(all_channels[0][0], all_channels[0][1])\n",
    "\n",
    "# chnl = water0.freqs\n",
    "# print(chnl)\n",
    "# for i, water in enumerate(all_channels):\n",
    "#     for j, div in enumerate(water0.freqs):\n",
    "#         print(div)\n",
    "#         chnl = water[0:div]\n",
    "#         print(chnl)"
   ]
  },
  {
   "cell_type": "markdown",
   "id": "8e804625",
   "metadata": {},
   "source": [
    "**Step 3:** Create an array that contains all channels with kurtosis > 0 (scipy uses the Fisher definition by default)"
   ]
  },
  {
   "cell_type": "markdown",
   "id": "0a5034c1",
   "metadata": {},
   "source": [
    "**Step 4:** Compare these channels with Dept. of Commerce graph to see where RFI might be coming in"
   ]
  },
  {
   "cell_type": "markdown",
   "id": "f37ed076",
   "metadata": {},
   "source": [
    "**Step 5:** Will also compare to waterN+1.freqs, etc. to see common threads to identify RFI\n",
    "    "
   ]
  },
  {
   "cell_type": "code",
   "execution_count": null,
   "id": "c02ab4d2",
   "metadata": {},
   "outputs": [],
   "source": []
  }
 ],
 "metadata": {
  "kernelspec": {
   "display_name": "Python 3 (ipykernel)",
   "language": "python",
   "name": "python3"
  },
  "language_info": {
   "codemirror_mode": {
    "name": "ipython",
    "version": 3
   },
   "file_extension": ".py",
   "mimetype": "text/x-python",
   "name": "python",
   "nbconvert_exporter": "python",
   "pygments_lexer": "ipython3",
   "version": "3.8.2"
  }
 },
 "nbformat": 4,
 "nbformat_minor": 5
}
