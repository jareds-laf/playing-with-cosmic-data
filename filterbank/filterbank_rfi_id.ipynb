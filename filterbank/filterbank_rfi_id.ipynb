{
 "cells": [
  {
   "cell_type": "code",
   "execution_count": 5,
   "id": "a7d761e0",
   "metadata": {},
   "outputs": [],
   "source": [
    "%matplotlib inline\n",
    "import matplotlib\n",
    "import matplotlib.pyplot as plt\n",
    "import pylab as plt\n",
    "import blimpy\n",
    "from blimpy import Waterfall\n",
    "from blimpy import calcload\n",
    "import os\n",
    "import glob\n",
    "import numpy as np\n",
    "import time\n",
    "from scipy.stats import norm, kurtosis, kurtosistest\n",
    "import scipy\n",
    "import numpy.ma as ma\n",
    "import seaborn as sns\n",
    "\n",
    "import sys\n",
    "file_path = '/lustre/aoc/students/jsofair/playing-with-cosmic-data/filterbank/'\n",
    "sys.path.insert(1, file_path[:54])\n",
    "from analysis_functions import plot_tavg_power"
   ]
  },
  {
   "cell_type": "code",
   "execution_count": 7,
   "id": "831e1cce",
   "metadata": {},
   "outputs": [
    {
     "name": "stdout",
     "output_type": "stream",
     "text": [
      "11.0 -- band_test_AC_CO-beam0001.fil\n",
      "9.0 -- Band_Test_BD_C512-beam0001.fil\n",
      "9.0 -- band_test_AC_C512-beam0001.fil\n",
      "11.0 -- Band_Test_BD_C0-beam0001.fil\n",
      "7.0 -- band_test_GPU3_BD_C32-beam0001.fil\n",
      "11.0 -- band_test_AC_C32-beam0001.fil\n",
      "4.0 -- band_test_AC_C544-beam0001.fil\n"
     ]
    }
   ],
   "source": [
    "file_list = glob.glob(os.path.join(file_path,'*.fil'))\n",
    "\n",
    "ml_list = []\n",
    "for i, file in enumerate(file_list):\n",
    "    ml = blimpy.calcload.calc_max_load(os.path.join(file))\n",
    "    ml_list.append(ml)\n",
    "    print(f'{ml} -- {file[65:]}')"
   ]
  },
  {
   "cell_type": "code",
   "execution_count": 8,
   "id": "bfe0fcdb",
   "metadata": {},
   "outputs": [
    {
     "name": "stdout",
     "output_type": "stream",
     "text": [
      "Elapsed time: 104.61608672142029\n"
     ]
    }
   ],
   "source": [
    "t0 = time.time()\n",
    "\n",
    "\n",
    "# for i in range(0, len(file_list)):\n",
    "#     exec(f'water{i} = Waterfall(os.path.normpath(file_list[{i}]), max_load = ml_list[{i}])')\n",
    "#     exec(f'water_list.append(water{i})')\n",
    "    \n",
    "    \n",
    "water0 = Waterfall(os.path.normpath(file_list[0]), max_load = ml_list[0])\n",
    "water1 = Waterfall(os.path.normpath(file_list[1]), max_load = ml_list[1])\n",
    "water2 = Waterfall(os.path.normpath(file_list[2]), max_load = ml_list[2])\n",
    "water3 = Waterfall(os.path.normpath(file_list[3]), max_load = ml_list[3])\n",
    "water4 = Waterfall(os.path.normpath(file_list[4]), max_load = ml_list[4])\n",
    "water5 = Waterfall(os.path.normpath(file_list[5]), max_load = ml_list[5])\n",
    "water6 = Waterfall(os.path.normpath(file_list[6]), max_load = ml_list[6])\n",
    "\n",
    "water_list = [water0, water1, water2, water3, water4, water5, water6]\n",
    "# print(water_list)\n",
    "\n",
    "t1 = time.time()\n",
    "print(f'Elapsed time: {t1 - t0}')"
   ]
  },
  {
   "cell_type": "code",
   "execution_count": 9,
   "id": "22ee4478",
   "metadata": {},
   "outputs": [
    {
     "name": "stdout",
     "output_type": "stream",
     "text": [
      "\n",
      "--- File Info ---\n",
      "      machine_id :                                0\n",
      "    telescope_id :                               -1\n",
      "         src_raj :                 4:09:22.00873993\n",
      "         src_dej :                12:17:39.84749624\n",
      "        az_start :            6.92893078665377e-310\n",
      "        za_start :             4.6846816423532e-310\n",
      "       data_type :                                1\n",
      "            fch1 :           1996.4999961853027 MHz\n",
      "            foff :           -7.62939453125e-06 MHz\n",
      "          nchans :                          4194304\n",
      "          nbeams :                                2\n",
      "           ibeam :                                1\n",
      "           nbits :                               32\n",
      "   tstart (ISOT) :          2023-05-10T21:56:53.857\n",
      "    tstart (MJD) :                60074.91451223567\n",
      "           tsamp :                         0.131072\n",
      "            nifs :                                1\n",
      "     barycentric :                                1\n",
      "   pulsarcentric :                                1\n",
      "     source_name :                       Incoherent\n",
      "     rawdatafile : /mnt/buf0/sband/GUPPI/TCOS0001_sb43905589_1_1_000.60074.91206391204.3.1.AC.C0\n",
      "\n",
      "Num ints in file :                              640\n",
      "      File shape :                (640, 1, 4194304)\n",
      "--- Selection Info ---\n",
      "Data selection shape :                (640, 1, 4194304)\n",
      "Minimum freq (MHz) :               1964.5000038146973\n",
      "Maximum freq (MHz) :               1996.4999961853027\n"
     ]
    }
   ],
   "source": [
    "water0.info()"
   ]
  },
  {
   "cell_type": "code",
   "execution_count": 6,
   "id": "c705caca",
   "metadata": {},
   "outputs": [],
   "source": [
    "water0.plot_waterfall()"
   ]
  },
  {
   "cell_type": "code",
   "execution_count": null,
   "id": "e889d53e",
   "metadata": {},
   "outputs": [],
   "source": [
    "water0.plot_spectrum()"
   ]
  },
  {
   "cell_type": "code",
   "execution_count": 10,
   "id": "72d3b16b",
   "metadata": {
    "scrolled": true
   },
   "outputs": [
    {
     "name": "stdout",
     "output_type": "stream",
     "text": [
      "Extracting integration 0...\n"
     ]
    },
    {
     "data": {
      "image/png": "[encoded data removed]",
      "text/plain": [
       "<Figure size 640x480 with 1 Axes>"
      ]
     },
     "metadata": {},
     "output_type": "display_data"
    }
   ],
   "source": [
    "plot_tavg_power(water0)"
   ]
  },
  {
   "cell_type": "code",
   "execution_count": null,
   "id": "ac274e06",
   "metadata": {},
   "outputs": [],
   "source": [
    "water0.plot_kurtosis()"
   ]
  }
 ],
 "metadata": {
  "kernelspec": {
   "display_name": "Python 3 (ipykernel)",
   "language": "python",
   "name": "python3"
  },
  "language_info": {
   "codemirror_mode": {
    "name": "ipython",
    "version": 3
   },
   "file_extension": ".py",
   "mimetype": "text/x-python",
   "name": "python",
   "nbconvert_exporter": "python",
   "pygments_lexer": "ipython3",
   "version": "3.8.2"
  }
 },
 "nbformat": 4,
 "nbformat_minor": 5
}
