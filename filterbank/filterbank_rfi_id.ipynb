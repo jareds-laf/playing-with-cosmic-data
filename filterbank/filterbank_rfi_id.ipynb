{
 "cells": [
  {
   "cell_type": "code",
   "execution_count": 1,
   "id": "a7d761e0",
   "metadata": {},
   "outputs": [],
   "source": [
    "%matplotlib inline\n",
    "import matplotlib\n",
    "import matplotlib.pyplot as plt\n",
    "import pylab as plt\n",
    "import blimpy\n",
    "from blimpy import Waterfall\n",
    "from blimpy import calcload\n",
    "import os\n",
    "import glob\n",
    "import numpy as np\n",
    "import time\n",
    "from scipy.stats import norm, kurtosis, kurtosistest\n",
    "import scipy\n",
    "import numpy.ma as ma\n",
    "import seaborn as sns\n",
    "\n",
    "import sys\n",
    "file_path = '/lustre/aoc/students/jsofair/playing-with-cosmic-data/filterbank/'\n",
    "sys.path.insert(1, file_path[:54])\n",
    "from analysis_functions import plot_tavg_power"
   ]
  },
  {
   "cell_type": "code",
   "execution_count": 2,
   "id": "831e1cce",
   "metadata": {},
   "outputs": [
    {
     "name": "stdout",
     "output_type": "stream",
     "text": [
      "11.0 -- band_test_AC_CO-beam0001.fil\n",
      "9.0 -- Band_Test_BD_C512-beam0001.fil\n",
      "9.0 -- band_test_AC_C512-beam0001.fil\n",
      "11.0 -- Band_Test_BD_C0-beam0001.fil\n",
      "7.0 -- band_test_GPU3_BD_C32-beam0001.fil\n",
      "11.0 -- band_test_AC_C32-beam0001.fil\n",
      "4.0 -- band_test_AC_C544-beam0001.fil\n"
     ]
    }
   ],
   "source": [
    "file_list = glob.glob(os.path.join(file_path,'*.fil'))\n",
    "\n",
    "ml_list = []\n",
    "for i, file in enumerate(file_list):\n",
    "    ml = blimpy.calcload.calc_max_load(os.path.join(file))\n",
    "    ml_list.append(ml)\n",
    "    print(f'{ml} -- {file[65:]}')"
   ]
  },
  {
   "cell_type": "code",
   "execution_count": 3,
   "id": "4d3c3854",
   "metadata": {},
   "outputs": [],
   "source": [
    "water3 = Waterfall(os.path.normpath(file_list[3]), max_load = ml_list[3])"
   ]
  },
  {
   "cell_type": "code",
   "execution_count": 5,
   "id": "bfe0fcdb",
   "metadata": {},
   "outputs": [
    {
     "name": "stdout",
     "output_type": "stream",
     "text": [
      "Elapsed time: 98.73659014701843\n"
     ]
    }
   ],
   "source": [
    "t0 = time.time()\n",
    "\n",
    "\n",
    "# for i in range(0, len(file_list)):\n",
    "#     exec(f'water{i} = Waterfall(os.path.normpath(file_list[{i}]), max_load = ml_list[{i}])')\n",
    "#     exec(f'water_list.append(water{i})')\n",
    "    \n",
    "    \n",
    "water0 = Waterfall(os.path.normpath(file_list[0]), max_load = ml_list[0])\n",
    "water1 = Waterfall(os.path.normpath(file_list[1]), max_load = ml_list[1])\n",
    "water2 = Waterfall(os.path.normpath(file_list[2]), max_load = ml_list[2])\n",
    "water3 = Waterfall(os.path.normpath(file_list[3]), max_load = ml_list[3])\n",
    "water4 = Waterfall(os.path.normpath(file_list[4]), max_load = ml_list[4])\n",
    "water5 = Waterfall(os.path.normpath(file_list[5]), max_load = ml_list[5])\n",
    "water6 = Waterfall(os.path.normpath(file_list[6]), max_load = ml_list[6])\n",
    "\n",
    "water_list = [water0, water1, water2, water3, water4, water5, water6]\n",
    "# print(water_list)\n",
    "\n",
    "t1 = time.time()\n",
    "print(f'Elapsed time: {t1 - t0}')"
   ]
  },
  {
   "cell_type": "code",
   "execution_count": null,
   "id": "22ee4478",
   "metadata": {},
   "outputs": [],
   "source": [
    "water3.info()\n",
    "# 640 channels\n",
    "# ~4.2 M fine frequency channels"
   ]
  },
  {
   "cell_type": "code",
   "execution_count": 6,
   "id": "c705caca",
   "metadata": {},
   "outputs": [],
   "source": [
    "water0.plot_waterfall()"
   ]
  },
  {
   "cell_type": "code",
   "execution_count": null,
   "id": "e889d53e",
   "metadata": {},
   "outputs": [],
   "source": [
    "water0.plot_spectrum()"
   ]
  },
  {
   "cell_type": "code",
   "execution_count": 42,
   "id": "6d4d3327",
   "metadata": {},
   "outputs": [],
   "source": [
    "# print(np.mean(water3.data))\n",
    "# print(f'{np.shape(np.mean(water3.data))}')"
   ]
  },
  {
   "cell_type": "code",
   "execution_count": null,
   "id": "2344dcdd",
   "metadata": {},
   "outputs": [],
   "source": [
    "# print(f'{np.shape(water3.data[500])}')\n",
    "print(f'{(np.mean(water3.data, axis=2))}')\n",
    "# print(f'{(water3.data[500])}')"
   ]
  },
  {
   "cell_type": "code",
   "execution_count": 34,
   "id": "07cbd78f",
   "metadata": {},
   "outputs": [
    {
     "data": {
      "text/plain": [
       "array([2., 2.])"
      ]
     },
     "execution_count": 34,
     "metadata": {},
     "output_type": "execute_result"
    }
   ],
   "source": [
    "a = [\n",
    "    [1,2,3],\n",
    "    [1,2,3]\n",
    "]\n",
    "np.mean(a, axis=1)"
   ]
  },
  {
   "cell_type": "code",
   "execution_count": 4,
   "id": "06cadeb6",
   "metadata": {},
   "outputs": [
    {
     "name": "stdout",
     "output_type": "stream",
     "text": [
      "Extracting integration 500...\n"
     ]
    },
    {
     "ename": "ValueError",
     "evalue": "x and y must have same first dimension, but have shapes (4194304,) and (1,)",
     "output_type": "error",
     "traceback": [
      "\u001b[0;31m---------------------------------------------------------------------------\u001b[0m",
      "\u001b[0;31mValueError\u001b[0m                                Traceback (most recent call last)",
      "Cell \u001b[0;32mIn[4], line 1\u001b[0m\n\u001b[0;32m----> 1\u001b[0m \u001b[43mplot_tavg_power\u001b[49m\u001b[43m(\u001b[49m\u001b[43mwater3\u001b[49m\u001b[43m,\u001b[49m\u001b[43m \u001b[49m\u001b[43mf_start\u001b[49m\u001b[38;5;241;43m=\u001b[39;49m\u001b[38;5;241;43m2988\u001b[39;49m\u001b[43m,\u001b[49m\u001b[43m \u001b[49m\u001b[43mf_stop\u001b[49m\u001b[38;5;241;43m=\u001b[39;49m\u001b[38;5;241;43m3021\u001b[39;49m\u001b[43m,\u001b[49m\u001b[43mt\u001b[49m\u001b[38;5;241;43m=\u001b[39;49m\u001b[38;5;241;43m500\u001b[39;49m\u001b[43m)\u001b[49m\n",
      "File \u001b[0;32m/lustre/aoc/students/jsofair/playing-with-cosmic-data/analysis_functions.py:42\u001b[0m, in \u001b[0;36mplot_tavg_power\u001b[0;34m(wf_in, t, f_start, f_stop, p_start, p_stop)\u001b[0m\n\u001b[1;32m     39\u001b[0m ax\u001b[38;5;241m.\u001b[39mset_xlabel(\u001b[38;5;124m'\u001b[39m\u001b[38;5;124mFrequency (MHz)\u001b[39m\u001b[38;5;124m'\u001b[39m)\n\u001b[1;32m     40\u001b[0m ax\u001b[38;5;241m.\u001b[39mset_ylabel(\u001b[38;5;124m'\u001b[39m\u001b[38;5;124mTime-Averaged Power (???)\u001b[39m\u001b[38;5;124m'\u001b[39m)\n\u001b[0;32m---> 42\u001b[0m \u001b[43max\u001b[49m\u001b[38;5;241;43m.\u001b[39;49m\u001b[43mplot\u001b[49m\u001b[43m(\u001b[49m\u001b[43mwf_in\u001b[49m\u001b[38;5;241;43m.\u001b[39;49m\u001b[43mget_freqs\u001b[49m\u001b[43m(\u001b[49m\u001b[43m)\u001b[49m\u001b[43m,\u001b[49m\u001b[43m \u001b[49m\u001b[43mwf_pwr_mean_integration\u001b[49m\u001b[43m)\u001b[49m\n\u001b[1;32m     43\u001b[0m plt\u001b[38;5;241m.\u001b[39mshow()\n\u001b[1;32m     44\u001b[0m plt\u001b[38;5;241m.\u001b[39mclose()\n",
      "File \u001b[0;32m/lustre/aoc/students/jsofair/jnrao/lib/python3.8/site-packages/matplotlib/axes/_axes.py:1688\u001b[0m, in \u001b[0;36mAxes.plot\u001b[0;34m(self, scalex, scaley, data, *args, **kwargs)\u001b[0m\n\u001b[1;32m   1445\u001b[0m \u001b[38;5;250m\u001b[39m\u001b[38;5;124;03m\"\"\"\u001b[39;00m\n\u001b[1;32m   1446\u001b[0m \u001b[38;5;124;03mPlot y versus x as lines and/or markers.\u001b[39;00m\n\u001b[1;32m   1447\u001b[0m \n\u001b[0;32m   (...)\u001b[0m\n\u001b[1;32m   1685\u001b[0m \u001b[38;5;124;03m(``'green'``) or hex strings (``'#008000'``).\u001b[39;00m\n\u001b[1;32m   1686\u001b[0m \u001b[38;5;124;03m\"\"\"\u001b[39;00m\n\u001b[1;32m   1687\u001b[0m kwargs \u001b[38;5;241m=\u001b[39m cbook\u001b[38;5;241m.\u001b[39mnormalize_kwargs(kwargs, mlines\u001b[38;5;241m.\u001b[39mLine2D)\n\u001b[0;32m-> 1688\u001b[0m lines \u001b[38;5;241m=\u001b[39m [\u001b[38;5;241m*\u001b[39m\u001b[38;5;28mself\u001b[39m\u001b[38;5;241m.\u001b[39m_get_lines(\u001b[38;5;241m*\u001b[39margs, data\u001b[38;5;241m=\u001b[39mdata, \u001b[38;5;241m*\u001b[39m\u001b[38;5;241m*\u001b[39mkwargs)]\n\u001b[1;32m   1689\u001b[0m \u001b[38;5;28;01mfor\u001b[39;00m line \u001b[38;5;129;01min\u001b[39;00m lines:\n\u001b[1;32m   1690\u001b[0m     \u001b[38;5;28mself\u001b[39m\u001b[38;5;241m.\u001b[39madd_line(line)\n",
      "File \u001b[0;32m/lustre/aoc/students/jsofair/jnrao/lib/python3.8/site-packages/matplotlib/axes/_base.py:311\u001b[0m, in \u001b[0;36m_process_plot_var_args.__call__\u001b[0;34m(self, data, *args, **kwargs)\u001b[0m\n\u001b[1;32m    309\u001b[0m     this \u001b[38;5;241m+\u001b[39m\u001b[38;5;241m=\u001b[39m args[\u001b[38;5;241m0\u001b[39m],\n\u001b[1;32m    310\u001b[0m     args \u001b[38;5;241m=\u001b[39m args[\u001b[38;5;241m1\u001b[39m:]\n\u001b[0;32m--> 311\u001b[0m \u001b[38;5;28;01myield from\u001b[39;00m \u001b[38;5;28;43mself\u001b[39;49m\u001b[38;5;241;43m.\u001b[39;49m\u001b[43m_plot_args\u001b[49m\u001b[43m(\u001b[49m\n\u001b[1;32m    312\u001b[0m \u001b[43m    \u001b[49m\u001b[43mthis\u001b[49m\u001b[43m,\u001b[49m\u001b[43m \u001b[49m\u001b[43mkwargs\u001b[49m\u001b[43m,\u001b[49m\u001b[43m \u001b[49m\u001b[43mambiguous_fmt_datakey\u001b[49m\u001b[38;5;241;43m=\u001b[39;49m\u001b[43mambiguous_fmt_datakey\u001b[49m\u001b[43m)\u001b[49m\n",
      "File \u001b[0;32m/lustre/aoc/students/jsofair/jnrao/lib/python3.8/site-packages/matplotlib/axes/_base.py:504\u001b[0m, in \u001b[0;36m_process_plot_var_args._plot_args\u001b[0;34m(self, tup, kwargs, return_kwargs, ambiguous_fmt_datakey)\u001b[0m\n\u001b[1;32m    501\u001b[0m     \u001b[38;5;28mself\u001b[39m\u001b[38;5;241m.\u001b[39maxes\u001b[38;5;241m.\u001b[39myaxis\u001b[38;5;241m.\u001b[39mupdate_units(y)\n\u001b[1;32m    503\u001b[0m \u001b[38;5;28;01mif\u001b[39;00m x\u001b[38;5;241m.\u001b[39mshape[\u001b[38;5;241m0\u001b[39m] \u001b[38;5;241m!=\u001b[39m y\u001b[38;5;241m.\u001b[39mshape[\u001b[38;5;241m0\u001b[39m]:\n\u001b[0;32m--> 504\u001b[0m     \u001b[38;5;28;01mraise\u001b[39;00m \u001b[38;5;167;01mValueError\u001b[39;00m(\u001b[38;5;124mf\u001b[39m\u001b[38;5;124m\"\u001b[39m\u001b[38;5;124mx and y must have same first dimension, but \u001b[39m\u001b[38;5;124m\"\u001b[39m\n\u001b[1;32m    505\u001b[0m                      \u001b[38;5;124mf\u001b[39m\u001b[38;5;124m\"\u001b[39m\u001b[38;5;124mhave shapes \u001b[39m\u001b[38;5;132;01m{\u001b[39;00mx\u001b[38;5;241m.\u001b[39mshape\u001b[38;5;132;01m}\u001b[39;00m\u001b[38;5;124m and \u001b[39m\u001b[38;5;132;01m{\u001b[39;00my\u001b[38;5;241m.\u001b[39mshape\u001b[38;5;132;01m}\u001b[39;00m\u001b[38;5;124m\"\u001b[39m)\n\u001b[1;32m    506\u001b[0m \u001b[38;5;28;01mif\u001b[39;00m x\u001b[38;5;241m.\u001b[39mndim \u001b[38;5;241m>\u001b[39m \u001b[38;5;241m2\u001b[39m \u001b[38;5;129;01mor\u001b[39;00m y\u001b[38;5;241m.\u001b[39mndim \u001b[38;5;241m>\u001b[39m \u001b[38;5;241m2\u001b[39m:\n\u001b[1;32m    507\u001b[0m     \u001b[38;5;28;01mraise\u001b[39;00m \u001b[38;5;167;01mValueError\u001b[39;00m(\u001b[38;5;124mf\u001b[39m\u001b[38;5;124m\"\u001b[39m\u001b[38;5;124mx and y can be no greater than 2D, but have \u001b[39m\u001b[38;5;124m\"\u001b[39m\n\u001b[1;32m    508\u001b[0m                      \u001b[38;5;124mf\u001b[39m\u001b[38;5;124m\"\u001b[39m\u001b[38;5;124mshapes \u001b[39m\u001b[38;5;132;01m{\u001b[39;00mx\u001b[38;5;241m.\u001b[39mshape\u001b[38;5;132;01m}\u001b[39;00m\u001b[38;5;124m and \u001b[39m\u001b[38;5;132;01m{\u001b[39;00my\u001b[38;5;241m.\u001b[39mshape\u001b[38;5;132;01m}\u001b[39;00m\u001b[38;5;124m\"\u001b[39m)\n",
      "\u001b[0;31mValueError\u001b[0m: x and y must have same first dimension, but have shapes (4194304,) and (1,)"
     ]
    }
   ],
   "source": [
    "plot_tavg_power(water3, f_start=2988, f_stop=3021,t=500)"
   ]
  },
  {
   "cell_type": "code",
   "execution_count": 10,
   "id": "0002efb3",
   "metadata": {},
   "outputs": [
    {
     "name": "stdout",
     "output_type": "stream",
     "text": [
      "Extracting integration 1...\n"
     ]
    },
    {
     "data": {
      "image/png": "[encoded data removed]",
      "text/plain": [
       "<Figure size 640x480 with 1 Axes>"
      ]
     },
     "metadata": {},
     "output_type": "display_data"
    }
   ],
   "source": [
    "plot_tavg_power(water3, f_start=2988, f_stop=3021,t=1)"
   ]
  },
  {
   "cell_type": "code",
   "execution_count": 9,
   "id": "e433b8a3",
   "metadata": {},
   "outputs": [
    {
     "name": "stdout",
     "output_type": "stream",
     "text": [
      "Extracting integration 0...\n"
     ]
    },
    {
     "data": {
      "image/png": "[encoded data removed]",
      "text/plain": [
       "<Figure size 640x480 with 1 Axes>"
      ]
     },
     "metadata": {},
     "output_type": "display_data"
    }
   ],
   "source": [
    "plot_tavg_power(water3, f_start=2988, f_stop=3021,t=0)"
   ]
  },
  {
   "cell_type": "code",
   "execution_count": 35,
   "id": "72d3b16b",
   "metadata": {
    "scrolled": true
   },
   "outputs": [],
   "source": [
    "plt.close('all')"
   ]
  },
  {
   "cell_type": "code",
   "execution_count": null,
   "id": "ac274e06",
   "metadata": {},
   "outputs": [],
   "source": [
    "water0.plot_kurtosis()"
   ]
  }
 ],
 "metadata": {
  "kernelspec": {
   "display_name": "Python 3 (ipykernel)",
   "language": "python",
   "name": "python3"
  },
  "language_info": {
   "codemirror_mode": {
    "name": "ipython",
    "version": 3
   },
   "file_extension": ".py",
   "mimetype": "text/x-python",
   "name": "python",
   "nbconvert_exporter": "python",
   "pygments_lexer": "ipython3",
   "version": "3.8.2"
  }
 },
 "nbformat": 4,
 "nbformat_minor": 5
}
